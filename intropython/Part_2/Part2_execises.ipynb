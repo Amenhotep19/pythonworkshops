{
 "cells": [
  {
   "cell_type": "markdown",
   "metadata": {},
   "source": [
    "### 1- We can quickly identify the smallest or largest items in a list with the min() and max() functions. Find out how to use these function from the web and then use them to identify the maximum and minumum elements of the list [-3,-2,-1,0,1,2,3,4,5,6,7]  "
   ]
  },
  {
   "cell_type": "code",
   "execution_count": 10,
   "metadata": {
    "collapsed": false
   },
   "outputs": [
    {
     "name": "stdout",
     "output_type": "stream",
     "text": [
      "Largest item in my_list is 7\n",
      "Smallest item in my_list is -3\n"
     ]
    }
   ],
   "source": [
    "my_list = [-3,-2,-1,0,1,2,3,4,5,6,7]\n",
    "print(\"Largest item in my_list is\", max(my_list))\n",
    "print(\"Smallest item in my_list is\", min(my_list))"
   ]
  },
  {
   "cell_type": "markdown",
   "metadata": {},
   "source": [
    "###  2- Use min() and max() functions to identify the maximum and minumum elements of the tuple {-3,-2,-1,0,1,2,3,4,5,6,7}"
   ]
  },
  {
   "cell_type": "code",
   "execution_count": 11,
   "metadata": {
    "collapsed": false
   },
   "outputs": [
    {
     "name": "stdout",
     "output_type": "stream",
     "text": [
      "Largest item in my_tuple is 7\n",
      "Smalles item in my_tuple is -3\n"
     ]
    }
   ],
   "source": [
    "my_tuple={-3,-2,-1,0,1,2,3,4,5,6,7}\n",
    "print(\"Largest item in my_tuple is\", max(my_tuple))\n",
    "print(\"Smalles item in my_tuple is\", min(my_tuple))"
   ]
  },
  {
   "cell_type": "markdown",
   "metadata": {},
   "source": [
    "### 3- Define variable my_list as [1,2,3,5,7,11]. Is my_list[3::-1] the same as my_list[3:0:-1]. Why or why not? "
   ]
  },
  {
   "cell_type": "code",
   "execution_count": 12,
   "metadata": {
    "collapsed": false
   },
   "outputs": [
    {
     "name": "stdout",
     "output_type": "stream",
     "text": [
      "[5, 3, 2, 1]\n",
      "[5, 3, 2]\n"
     ]
    },
    {
     "data": {
      "text/plain": [
       "'When indexing a list with [start:end:stride] the end element \\nis not included, however an omitted index is equivalent to \\nthe end of the list (positive stride) or the beginning of the \\nlist (negative stride)\\n'"
      ]
     },
     "execution_count": 12,
     "metadata": {},
     "output_type": "execute_result"
    }
   ],
   "source": [
    "my_list=[1,2,3,5,7,11] \n",
    "print(my_list[3::-1]) \n",
    "print(my_list[3:0:-1]) \n",
    "\"\"\"When indexing a list with [start:end:stride] the end element \n",
    "is not included, however an omitted index is equivalent to \n",
    "the end of the list (positive stride) or the beginning of the \n",
    "list (negative stride)\n",
    "\"\"\""
   ]
  },
  {
   "cell_type": "markdown",
   "metadata": {},
   "source": [
    "### 4- We can use the \"in\" operator to test if a list contains a particular value. Look up how to use \"in\" operator on the web and determine if the following is in the lists [1,2,3,4], [0, 2, 3], and [-3,-2,-1,0,1,2,3,4,5,6,7,8,9,10]\n",
    "### - integer 1\n",
    "### - string \"10.0\"\n",
    "### - boolean True\n",
    "### - boolean False"
   ]
  },
  {
   "cell_type": "code",
   "execution_count": 1,
   "metadata": {
    "collapsed": false
   },
   "outputs": [
    {
     "name": "stdout",
     "output_type": "stream",
     "text": [
      "Is 1 in these lists\n",
      "True\n",
      "False\n",
      "True\n",
      "Is '10.0' in these lists\n",
      "False\n",
      "False\n",
      "False\n",
      "Is True in these lists\n",
      "True\n",
      "False\n",
      "True\n",
      "Is False in these lists\n",
      "False\n",
      "True\n",
      "True\n"
     ]
    }
   ],
   "source": [
    "my_list=[1, 2, 3, 4]\n",
    "easy_list=[0, 2, 3]\n",
    "long_list=[-3,-2,-1,0,1,2,3,4,5,6,7,8,9,10]\n",
    "\n",
    "print(\"Is 1 in these lists\")\n",
    "print(1 in my_list);print(1 in easy_list);print(1 in long_list)\n",
    "\n",
    "print(\"Is '10.0' in these lists\")\n",
    "print(\"10.0\" in my_list);print(\"10.0\" in easy_list);print(\"10.0\" in long_list)\n",
    "\n",
    "print(\"Is True in these lists\")\n",
    "print(True in my_list);print(True in easy_list);print(True in long_list)\n",
    "\n",
    "print(\"Is False in these lists\")\n",
    "print(False in my_list);print(False in easy_list);print(False in long_list)    \n"
   ]
  },
  {
   "cell_type": "markdown",
   "metadata": {},
   "source": [
    "### 5- Write a small python code where you check if a number is negative, positive or zero and report solution by print.  Use if, elif, else"
   ]
  },
  {
   "cell_type": "code",
   "execution_count": 2,
   "metadata": {
    "collapsed": false
   },
   "outputs": [
    {
     "name": "stdout",
     "output_type": "stream",
     "text": [
      "8 is postive\n"
     ]
    }
   ],
   "source": [
    "num = 8\n",
    "\n",
    "if num < 0:\n",
    "    print(num, \"is negative\")\n",
    "elif num > 0:\n",
    "    print(num, \"is postive\")\n",
    "else:\n",
    "    print('zero')\n"
   ]
  },
  {
   "cell_type": "markdown",
   "metadata": {},
   "source": [
    "### 6- Use while loop to print integers between 5 and 12 excluding limits (i.e. 5 and 12)"
   ]
  },
  {
   "cell_type": "code",
   "execution_count": 3,
   "metadata": {
    "collapsed": false
   },
   "outputs": [
    {
     "name": "stdout",
     "output_type": "stream",
     "text": [
      "6\n",
      "7\n",
      "8\n",
      "9\n",
      "10\n",
      "11\n"
     ]
    }
   ],
   "source": [
    "t=6\n",
    "while 5<t<12:\n",
    "    print(t)\n",
    "    t += 1"
   ]
  },
  {
   "cell_type": "markdown",
   "metadata": {},
   "source": [
    "### 7- Using a \"while\" loop, write a short python script to compute n factorial = [n*(n-1)*(n-2)*...*2] where n=34"
   ]
  },
  {
   "cell_type": "code",
   "execution_count": 26,
   "metadata": {
    "collapsed": false
   },
   "outputs": [
    {
     "name": "stdout",
     "output_type": "stream",
     "text": [
      "295232799039604140847618609643520000000\n"
     ]
    }
   ],
   "source": [
    "t=2\n",
    "n_factorial=1\n",
    "while t<=34:\n",
    "    n_factorial=n_factorial*t\n",
    "    t+=1\n",
    "\n",
    "print(n_factorial)"
   ]
  },
  {
   "cell_type": "markdown",
   "metadata": {},
   "source": [
    "### 8- Write the same script (i.e. calculating n factorail for n=34) using \"for\" loop and range function, range(). \n",
    "### - Search the web for range function and its usage\n",
    "### - Construct for loops to print a variable in the range(7), range(1,7), range(1,7,2)\n",
    "### - Construct the for loop with range function to calculate n factorial "
   ]
  },
  {
   "cell_type": "code",
   "execution_count": 27,
   "metadata": {
    "collapsed": false
   },
   "outputs": [
    {
     "name": "stdout",
     "output_type": "stream",
     "text": [
      "0\n",
      "1\n",
      "2\n",
      "3\n",
      "4\n",
      "5\n",
      "6\n"
     ]
    }
   ],
   "source": [
    "for t in range(7):\n",
    "    print(t)"
   ]
  },
  {
   "cell_type": "code",
   "execution_count": 28,
   "metadata": {
    "collapsed": false
   },
   "outputs": [
    {
     "name": "stdout",
     "output_type": "stream",
     "text": [
      "1\n",
      "2\n",
      "3\n",
      "4\n",
      "5\n",
      "6\n"
     ]
    }
   ],
   "source": [
    "for t in range(1,7):\n",
    "    print(t)"
   ]
  },
  {
   "cell_type": "code",
   "execution_count": 29,
   "metadata": {
    "collapsed": false
   },
   "outputs": [
    {
     "name": "stdout",
     "output_type": "stream",
     "text": [
      "1\n",
      "3\n",
      "5\n"
     ]
    }
   ],
   "source": [
    "for t in range(1,7,2):\n",
    "    print(t)"
   ]
  },
  {
   "cell_type": "code",
   "execution_count": 12,
   "metadata": {
    "collapsed": false
   },
   "outputs": [
    {
     "name": "stdout",
     "output_type": "stream",
     "text": [
      "295232799039604140847618609643520000000\n"
     ]
    }
   ],
   "source": [
    "n_factorial=1\n",
    "for t in range(1,35):\n",
    "    n_factorial=n_factorial*t\n",
    "    \n",
    "print(n_factorial)"
   ]
  },
  {
   "cell_type": "markdown",
   "metadata": {},
   "source": [
    "### 9- Use the range() function to a populate list containing all even numbers between 1 and 26 including 26. Print the list "
   ]
  },
  {
   "cell_type": "code",
   "execution_count": 24,
   "metadata": {
    "collapsed": false
   },
   "outputs": [
    {
     "name": "stdout",
     "output_type": "stream",
     "text": [
      "[2, 4, 6, 8, 10, 12, 14, 16, 18, 20, 22, 24, 26]\n"
     ]
    }
   ],
   "source": [
    "t=range(2,27,2)\n",
    "t_list=list(t)\n",
    "print(t_list)"
   ]
  },
  {
   "cell_type": "markdown",
   "metadata": {},
   "source": [
    "### 10- Write a script that divides 100 by each value with all integers between 1 and 40 and print results"
   ]
  },
  {
   "cell_type": "code",
   "execution_count": 25,
   "metadata": {
    "collapsed": false
   },
   "outputs": [
    {
     "name": "stdout",
     "output_type": "stream",
     "text": [
      "100.0\n",
      "50.0\n",
      "33.333333333333336\n",
      "25.0\n",
      "20.0\n",
      "16.666666666666668\n",
      "14.285714285714286\n",
      "12.5\n",
      "11.11111111111111\n",
      "10.0\n",
      "9.090909090909092\n",
      "8.333333333333334\n",
      "7.6923076923076925\n",
      "7.142857142857143\n",
      "6.666666666666667\n",
      "6.25\n",
      "5.882352941176471\n",
      "5.555555555555555\n",
      "5.2631578947368425\n",
      "5.0\n",
      "4.761904761904762\n",
      "4.545454545454546\n",
      "4.3478260869565215\n",
      "4.166666666666667\n",
      "4.0\n",
      "3.8461538461538463\n",
      "3.7037037037037037\n",
      "3.5714285714285716\n",
      "3.4482758620689653\n",
      "3.3333333333333335\n",
      "3.225806451612903\n",
      "3.125\n",
      "3.0303030303030303\n",
      "2.9411764705882355\n",
      "2.857142857142857\n",
      "2.7777777777777777\n",
      "2.7027027027027026\n",
      "2.6315789473684212\n",
      "2.5641025641025643\n",
      "2.5\n"
     ]
    }
   ],
   "source": [
    "t=1\n",
    "while t<=40:\n",
    "    print(100/t)\n",
    "    t+=1"
   ]
  },
  {
   "cell_type": "markdown",
   "metadata": {},
   "source": [
    "### 11- Print prime numbers between 2 and 100 using conditionals and only while loop constructs in python "
   ]
  },
  {
   "cell_type": "code",
   "execution_count": 13,
   "metadata": {
    "collapsed": false
   },
   "outputs": [
    {
     "name": "stdout",
     "output_type": "stream",
     "text": [
      "2\n",
      "3\n",
      "5\n",
      "7\n",
      "11\n",
      "13\n",
      "17\n",
      "19\n",
      "23\n",
      "29\n",
      "31\n",
      "37\n",
      "41\n",
      "43\n",
      "47\n",
      "53\n",
      "59\n",
      "61\n",
      "67\n",
      "71\n",
      "73\n",
      "79\n",
      "83\n",
      "89\n",
      "97\n"
     ]
    }
   ],
   "source": [
    "n=100\n",
    "i = 2\n",
    "while i<=n:\n",
    "    prime=True\n",
    "    j=2\n",
    "    while 2<=j<i:\n",
    "        if(i%j == 0):\n",
    "            prime=False\n",
    "            break\n",
    "        j+=1\n",
    "    if(prime==True):\n",
    "        print(i)\n",
    "    i+=1"
   ]
  },
  {
   "cell_type": "markdown",
   "metadata": {},
   "source": [
    "### 12- Print prime numbers between 2 and 100 using conditionals and only for loops and range() function in python "
   ]
  },
  {
   "cell_type": "code",
   "execution_count": 20,
   "metadata": {
    "collapsed": false
   },
   "outputs": [
    {
     "name": "stdout",
     "output_type": "stream",
     "text": [
      "2\n",
      "3\n",
      "5\n",
      "7\n",
      "11\n",
      "13\n",
      "17\n",
      "19\n",
      "23\n",
      "29\n",
      "31\n",
      "37\n",
      "41\n",
      "43\n",
      "47\n",
      "53\n",
      "59\n",
      "61\n",
      "67\n",
      "71\n",
      "73\n",
      "79\n",
      "83\n",
      "89\n",
      "97\n"
     ]
    }
   ],
   "source": [
    "n=100\n",
    "for i in range(2, n+1):\n",
    "    prime=True\n",
    "    for j in range(2, i):\n",
    "        if(i%j==0):\n",
    "            prime=False\n",
    "            break\n",
    "    if(prime==True):\n",
    "        print(i)"
   ]
  },
  {
   "cell_type": "code",
   "execution_count": 17,
   "metadata": {
    "collapsed": false
   },
   "outputs": [
    {
     "name": "stdout",
     "output_type": "stream",
     "text": [
      "2\n",
      "3\n",
      "5\n",
      "7\n",
      "11\n",
      "13\n",
      "17\n",
      "19\n",
      "23\n",
      "29\n",
      "31\n",
      "37\n",
      "41\n",
      "43\n",
      "47\n",
      "53\n",
      "59\n",
      "61\n",
      "67\n",
      "71\n",
      "73\n",
      "79\n",
      "83\n",
      "89\n",
      "97\n"
     ]
    }
   ],
   "source": [
    "print('An alternate solution')\n",
    "n=100\n",
    "for i in range(2, n+1):\n",
    "    for j in range(2, i):\n",
    "        if(i%j==0):\n",
    "            break\n",
    "    else:\n",
    "        print(i)"
   ]
  },
  {
   "cell_type": "markdown",
   "metadata": {},
   "source": [
    "### 13- Define a dictionary called colors where values Red Blue Green Purple Yellow White Magenta and Orange are represented by their inital letters as keys. Print the dictionary"
   ]
  },
  {
   "cell_type": "code",
   "execution_count": 33,
   "metadata": {
    "collapsed": false
   },
   "outputs": [
    {
     "name": "stdout",
     "output_type": "stream",
     "text": [
      "{'W': 'White', 'P': 'Purple', 'Y': 'Yellow', 'R': 'Red', 'B': 'Blue', 'G': 'Green', 'O': 'Orange'}\n"
     ]
    },
    {
     "data": {
      "text/plain": [
       "7"
      ]
     },
     "execution_count": 33,
     "metadata": {},
     "output_type": "execute_result"
    }
   ],
   "source": [
    "colors = {\n",
    "    'R': 'Red',\n",
    "    'B': 'Blue',\n",
    "    'G': 'Green',\n",
    "    'P': 'Purple',\n",
    "    'Y': 'Yellow',\n",
    "    'W': 'White',\n",
    "    'O': 'Orange',\n",
    "}\n",
    "print(colors)\n",
    "len(colors)"
   ]
  },
  {
   "cell_type": "markdown",
   "metadata": {},
   "source": [
    "### 14- Add Black to the colors dictionary with the same method as described before and print the "
   ]
  },
  {
   "cell_type": "code",
   "execution_count": 32,
   "metadata": {
    "collapsed": false
   },
   "outputs": [
    {
     "name": "stdout",
     "output_type": "stream",
     "text": [
      "{'W': 'White', 'P': 'Purple', 'Y': 'Yellow', 'R': 'Red', 'B': 'Black', 'G': 'Green', 'O': 'Orange'}\n"
     ]
    },
    {
     "data": {
      "text/plain": [
       "7"
      ]
     },
     "execution_count": 32,
     "metadata": {},
     "output_type": "execute_result"
    }
   ],
   "source": [
    "colors['B']='Black'\n",
    "print(colors)\n",
    "len(colors)"
   ]
  },
  {
   "cell_type": "markdown",
   "metadata": {},
   "source": [
    "### Could we able to add Black to the already existing list? Why the number of elements stayed the same?"
   ]
  },
  {
   "cell_type": "markdown",
   "metadata": {},
   "source": [
    "### 15- Is there any difference between S1, S2, S3, S4 defined below? Print their lenghts (i.e. the number of characters for a string) with len() function"
   ]
  },
  {
   "cell_type": "code",
   "execution_count": null,
   "metadata": {
    "collapsed": false
   },
   "outputs": [],
   "source": [
    "S1='a string'\n",
    "S2=\"a string\"\n",
    "S3=\"\"\"a string\"\"\"\n",
    "S4=\"\"\"a string\n",
    "\"\"\"\n",
    "print(S1)\n",
    "print(S2)\n",
    "print(S3)\n",
    "print(S4)"
   ]
  },
  {
   "cell_type": "code",
   "execution_count": null,
   "metadata": {
    "collapsed": false
   },
   "outputs": [],
   "source": [
    "print(len(S1))\n",
    "print(len(S2))\n",
    "print(len(S3))\n",
    "print(len(S4))"
   ]
  },
  {
   "cell_type": "markdown",
   "metadata": {
    "collapsed": true
   },
   "source": [
    "### 16- On the web, search for sort and reverse methods for lists. Apply these methods to list [9.02,20.4,-4,67,2,34,34.1,0]\n",
    "### - First, order the elements in the list from the smallest to the largest using sort methods\n",
    "### - Second, using the reverse method to order the list from the largest to the smallest "
   ]
  },
  {
   "cell_type": "code",
   "execution_count": 46,
   "metadata": {
    "collapsed": false
   },
   "outputs": [
    {
     "data": {
      "text/plain": [
       "[-4, 0, 2, 9.02, 20.4, 34, 34.1, 67]"
      ]
     },
     "execution_count": 46,
     "metadata": {},
     "output_type": "execute_result"
    }
   ],
   "source": [
    "my_list=[9.02,20.4,-4,67,2,34,34.1,0]\n",
    "my_list.sort()\n",
    "my_list"
   ]
  },
  {
   "cell_type": "code",
   "execution_count": 47,
   "metadata": {
    "collapsed": false
   },
   "outputs": [
    {
     "data": {
      "text/plain": [
       "[67, 34.1, 34, 20.4, 9.02, 2, 0, -4]"
      ]
     },
     "execution_count": 47,
     "metadata": {},
     "output_type": "execute_result"
    }
   ],
   "source": [
    "my_list.reverse()\n",
    "my_list"
   ]
  },
  {
   "cell_type": "markdown",
   "metadata": {},
   "source": [
    "### 17- Apply only sort method list to [9.02,20.4,-4,67,2,34,34.1,0] to order the elements from the largest to the smallest. (Tip: sort method accepts a reverse key)"
   ]
  },
  {
   "cell_type": "code",
   "execution_count": 50,
   "metadata": {
    "collapsed": false
   },
   "outputs": [
    {
     "name": "stdout",
     "output_type": "stream",
     "text": [
      "[9.02, 20.4, -4, 67, 2, 34, 34.1, 0]\n"
     ]
    },
    {
     "data": {
      "text/plain": [
       "[67, 34.1, 34, 20.4, 9.02, 2, 0, -4]"
      ]
     },
     "execution_count": 50,
     "metadata": {},
     "output_type": "execute_result"
    }
   ],
   "source": [
    "my_list=[9.02,20.4,-4,67,2,34,34.1,0]\n",
    "print(my_list)\n",
    "my_list.sort(reverse=True)\n",
    "my_list"
   ]
  },
  {
   "cell_type": "markdown",
   "metadata": {},
   "source": [
    "### 18-Can you apply the same sort and reverse methods to the tuple {9.02,20.4,-4,67,2,34,34.1,0}? Trying is the best way to answer!"
   ]
  },
  {
   "cell_type": "code",
   "execution_count": 61,
   "metadata": {
    "collapsed": false
   },
   "outputs": [
    {
     "name": "stdout",
     "output_type": "stream",
     "text": [
      "(9.02, 20.4, -4, 67, 2, 34, 34.1, 0) <class 'tuple'>\n"
     ]
    }
   ],
   "source": [
    "my_tuple=9.02, 20.4, -4, 67, 2, 34, 34.1, 0,\n",
    "print(my_tuple, type(my_tuple))"
   ]
  },
  {
   "cell_type": "code",
   "execution_count": 58,
   "metadata": {
    "collapsed": false
   },
   "outputs": [
    {
     "ename": "AttributeError",
     "evalue": "'set' object has no attribute 'sort'",
     "output_type": "error",
     "traceback": [
      "\u001b[0;31m---------------------------------------------------------------------------\u001b[0m",
      "\u001b[0;31mAttributeError\u001b[0m                            Traceback (most recent call last)",
      "\u001b[0;32m<ipython-input-58-bce961af8708>\u001b[0m in \u001b[0;36m<module>\u001b[0;34m()\u001b[0m\n\u001b[0;32m----> 1\u001b[0;31m \u001b[0mmy_tuple\u001b[0m\u001b[1;33m.\u001b[0m\u001b[0msort\u001b[0m\u001b[1;33m(\u001b[0m\u001b[1;33m)\u001b[0m\u001b[1;33m\u001b[0m\u001b[0m\n\u001b[0m",
      "\u001b[0;31mAttributeError\u001b[0m: 'set' object has no attribute 'sort'"
     ]
    }
   ],
   "source": [
    "my_tuple.sort()"
   ]
  },
  {
   "cell_type": "code",
   "execution_count": null,
   "metadata": {
    "collapsed": false
   },
   "outputs": [],
   "source": [
    "print('Tuple type is unhashable (i.e. cannot be changed) so bas no sort or reverse methods since')\n",
    "my_tuple.reverse()"
   ]
  },
  {
   "cell_type": "markdown",
   "metadata": {},
   "source": [
    "### 19- Construct a for loop for a variable in a dictionary and print the variable inside the loop. What does this variable counts over? What is the order in printed values?"
   ]
  },
  {
   "cell_type": "code",
   "execution_count": 9,
   "metadata": {
    "collapsed": false
   },
   "outputs": [
    {
     "name": "stdout",
     "output_type": "stream",
     "text": [
      "monkey\n",
      "dog\n",
      "cat\n",
      "fish\n",
      "horse\n",
      "bird\n",
      "If you use a for loop with a dictionary, the counter variable is set to each key and order is random\n"
     ]
    }
   ],
   "source": [
    "dictionary_01={'horse':1, 'dog':2, 'fish':3, 'bird':4, 'cat':5, 'monkey':6}\n",
    "for i in dictionary_01:\n",
    "    print(i)\n",
    "\n",
    "print('If you use a for loop with a dictionary, the counter variable is set to each key and order is random')"
   ]
  },
  {
   "cell_type": "markdown",
   "metadata": {},
   "source": [
    "### 20- You can loop over more than one counter variable in a single for loop. Search the web on how to do this. Now, loop over the elements of tuple (1,2,3,4) and lists ['a','b','c',999] and [2,4,16,256] simultaneously by zipping them (remeber the zip function!)"
   ]
  },
  {
   "cell_type": "code",
   "execution_count": 1,
   "metadata": {
    "collapsed": false
   },
   "outputs": [
    {
     "name": "stdout",
     "output_type": "stream",
     "text": [
      "1 a 2\n",
      "2 b 4\n",
      "3 c 16\n",
      "4 999 256\n"
     ]
    }
   ],
   "source": [
    "a = (1,2,3,4)\n",
    "b = ['a','b','c',999]\n",
    "c = [2,4,16,256,88]\n",
    "\n",
    "for i,j,k in zip(a,b,c): \n",
    "    print(i,j,k)\n"
   ]
  },
  {
   "cell_type": "markdown",
   "metadata": {},
   "source": [
    "### 21- To delete an element from dictionary 'del' is used. Search the internet to find the usage of 'del'. Delete the fish from the dictionary {'horse':1, 'dog':2, 'fish':3, 'bird':4, 'cat':5, 'monkey':6} and print the new dictionary"
   ]
  },
  {
   "cell_type": "code",
   "execution_count": 16,
   "metadata": {
    "collapsed": false
   },
   "outputs": [
    {
     "name": "stdout",
     "output_type": "stream",
     "text": [
      "{'monkey': 6, 'dog': 2, 'cat': 5, 'horse': 1, 'bird': 4}\n"
     ]
    }
   ],
   "source": [
    "dictionary_01={'horse':1, 'dog':2, 'fish':3, 'bird':4, 'cat':5, 'monkey':6}\n",
    "\n",
    "del dictionary_01['fish']\n",
    "print(dictionary_01)\n"
   ]
  },
  {
   "cell_type": "markdown",
   "metadata": {},
   "source": [
    "### 22- Search the internet for available methods of dictionaries. Then:\n",
    "### - Copy the dictionary  {'horse':1, 'dog':2, 'fish':3, 'bird':4, 'cat':5, 'monkey':6} to another dictionary using copy method and print the result\n",
    "### - Add {'eagle':7,'zebra':8} to the previous dictionary using update method and print the result\n",
    "### - Empty the dictionary using clear method and print the result"
   ]
  },
  {
   "cell_type": "code",
   "execution_count": 18,
   "metadata": {
    "collapsed": false
   },
   "outputs": [
    {
     "name": "stdout",
     "output_type": "stream",
     "text": [
      "{'monkey': 6, 'horse': 1, 'cat': 5, 'fish': 3, 'dog': 2, 'bird': 4}\n"
     ]
    }
   ],
   "source": [
    "animals={'horse':1, 'dog':2, 'fish':3, 'bird':4, 'cat':5, 'monkey':6}\n",
    "animals_copy=animals.copy()\n",
    "print(animals_copy)"
   ]
  },
  {
   "cell_type": "code",
   "execution_count": 19,
   "metadata": {
    "collapsed": false
   },
   "outputs": [
    {
     "name": "stdout",
     "output_type": "stream",
     "text": [
      "{'monkey': 6, 'dog': 2, 'cat': 5, 'fish': 3, 'eagle': 7, 'horse': 1, 'bird': 4, 'zebra': 8}\n"
     ]
    }
   ],
   "source": [
    "animals_delta={'eagle':7,'zebra':8}\n",
    "animals.update(animals_delta)\n",
    "print(animals)"
   ]
  },
  {
   "cell_type": "code",
   "execution_count": 20,
   "metadata": {
    "collapsed": false
   },
   "outputs": [
    {
     "name": "stdout",
     "output_type": "stream",
     "text": [
      "{}\n"
     ]
    }
   ],
   "source": [
    "animals.clear()\n",
    "print(animals)"
   ]
  },
  {
   "cell_type": "markdown",
   "metadata": {},
   "source": [
    "### 23- Write a python code that can convert between celsius & fahrenheit. Define the temperature as a string such as '102.4F' or '23C'. If the inital temperature is not properly defined print 'Error in entered temperature'. The conversion equation can be given as: C/5 = F-32/9. \n",
    "### Expected output should look like the following depending on your initial entry: \n",
    "### 60C is 140.0 in Fahrenheit\n",
    "### 24F is -4.444 in Celsius "
   ]
  },
  {
   "cell_type": "code",
   "execution_count": 28,
   "metadata": {
    "collapsed": false
   },
   "outputs": [
    {
     "name": "stdout",
     "output_type": "stream",
     "text": [
      "The temperature 60C is 140.0 in Fahrenheit\n"
     ]
    }
   ],
   "source": [
    "temp = '60C'\n",
    "degree = float(temp[:-1])\n",
    "i_convention = temp[-1]\n",
    "\n",
    "if i_convention == \"C\":\n",
    "  result = ((9 * degree) / 5) + 32\n",
    "  o_convention = \"Fahrenheit\"\n",
    "elif i_convention == \"F\":\n",
    "  result = (degree - 32) * 5 / 9\n",
    "  o_convention = \"Celsius\"\n",
    "else:\n",
    "  print(\"Input proper convention.\")\n",
    "  quit()\n",
    "print(\"The temperature\", temp, \"is\", result, \"in\", o_convention,)"
   ]
  },
  {
   "cell_type": "markdown",
   "metadata": {},
   "source": [
    "### 24- Write a python code to print out the numbers in Fibonacci series between 0 to 100."
   ]
  },
  {
   "cell_type": "code",
   "execution_count": 31,
   "metadata": {
    "collapsed": false
   },
   "outputs": [
    {
     "name": "stdout",
     "output_type": "stream",
     "text": [
      "1\n",
      "1\n",
      "2\n",
      "3\n",
      "5\n",
      "8\n",
      "13\n",
      "21\n",
      "34\n",
      "55\n",
      "89\n"
     ]
    }
   ],
   "source": [
    "i,j=0,1\n",
    "\n",
    "while j<=100:\n",
    "    print(j)\n",
    "    i,j = j,i+j"
   ]
  }
 ],
 "metadata": {
  "anaconda-cloud": {},
  "kernelspec": {
   "display_name": "Python [conda root]",
   "language": "python",
   "name": "conda-root-py"
  },
  "language_info": {
   "codemirror_mode": {
    "name": "ipython",
    "version": 3
   },
   "file_extension": ".py",
   "mimetype": "text/x-python",
   "name": "python",
   "nbconvert_exporter": "python",
   "pygments_lexer": "ipython3",
   "version": "3.5.2"
  }
 },
 "nbformat": 4,
 "nbformat_minor": 1
}

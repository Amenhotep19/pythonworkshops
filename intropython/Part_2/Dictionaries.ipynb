{
 "cells": [
  {
   "cell_type": "markdown",
   "metadata": {},
   "source": [
    "# DICTIONARIES"
   ]
  },
  {
   "cell_type": "markdown",
   "metadata": {},
   "source": [
    "#### Another commonly used data type in Python is the dictionary. Dictionaries map one value to another. "
   ]
  },
  {
   "cell_type": "markdown",
   "metadata": {},
   "source": [
    "#### Create dictionaries with the dict() function:"
   ]
  },
  {
   "cell_type": "code",
   "execution_count": 1,
   "metadata": {
    "collapsed": false
   },
   "outputs": [
    {
     "name": "stdout",
     "output_type": "stream",
     "text": [
      "<class 'dict'>\n"
     ]
    }
   ],
   "source": [
    "my_dictionary = dict()\n",
    "print(type(my_dictionary))"
   ]
  },
  {
   "cell_type": "markdown",
   "metadata": {
    "collapsed": true
   },
   "source": [
    "#### We add items to the dictionary by assigning \"values\" to \"keys\"."
   ]
  },
  {
   "cell_type": "code",
   "execution_count": 2,
   "metadata": {
    "collapsed": true
   },
   "outputs": [],
   "source": [
    "my_dictionary['dog'] = 'Rex' \n",
    "my_dictionary['cat'] = 'Felix'\n",
    "my_dictionary['fish'] = 'Nemo'"
   ]
  },
  {
   "cell_type": "markdown",
   "metadata": {},
   "source": [
    "#### Here key = 'dog', value = 'Rex'"
   ]
  },
  {
   "cell_type": "markdown",
   "metadata": {},
   "source": [
    "#### Just like with lists, there's an easy to use \"literal\" syntax for creating dictionaries:"
   ]
  },
  {
   "cell_type": "code",
   "execution_count": 3,
   "metadata": {
    "collapsed": false
   },
   "outputs": [],
   "source": [
    "same_dictionary = {\n",
    "    'dog': 'Rex',\n",
    "    'cat': 'Felix',\n",
    "    'fish': 'Nemo',\n",
    "}"
   ]
  },
  {
   "cell_type": "code",
   "execution_count": 4,
   "metadata": {
    "collapsed": false
   },
   "outputs": [
    {
     "name": "stdout",
     "output_type": "stream",
     "text": [
      "{'dog': 'Rex', 'fish': 'Nemo', 'cat': 'Felix'}\n"
     ]
    }
   ],
   "source": [
    "print(my_dictionary)"
   ]
  },
  {
   "cell_type": "code",
   "execution_count": 5,
   "metadata": {
    "collapsed": false
   },
   "outputs": [
    {
     "name": "stdout",
     "output_type": "stream",
     "text": [
      "{'dog': 'Rex', 'fish': 'Nemo', 'cat': 'Felix'}\n"
     ]
    }
   ],
   "source": [
    "print(same_dictionary)"
   ]
  },
  {
   "cell_type": "code",
   "execution_count": 6,
   "metadata": {
    "collapsed": false
   },
   "outputs": [
    {
     "ename": "TypeError",
     "evalue": "unsupported operand type(s) for +: 'dict' and 'dict'",
     "output_type": "error",
     "traceback": [
      "\u001b[0;31m---------------------------------------------------------------------------\u001b[0m",
      "\u001b[0;31mTypeError\u001b[0m                                 Traceback (most recent call last)",
      "\u001b[0;32m<ipython-input-6-1cb2c84a7dda>\u001b[0m in \u001b[0;36m<module>\u001b[0;34m()\u001b[0m\n\u001b[0;32m----> 1\u001b[0;31m \u001b[0msame_dictionary\u001b[0m \u001b[1;33m=\u001b[0m \u001b[0msame_dictionary\u001b[0m \u001b[1;33m+\u001b[0m \u001b[1;33m{\u001b[0m\u001b[1;34m'velociraptor'\u001b[0m \u001b[1;33m:\u001b[0m \u001b[1;34m'Fluffy'\u001b[0m\u001b[1;33m}\u001b[0m\u001b[1;33m\u001b[0m\u001b[0m\n\u001b[0m",
      "\u001b[0;31mTypeError\u001b[0m: unsupported operand type(s) for +: 'dict' and 'dict'"
     ]
    }
   ],
   "source": [
    "same_dictionary = same_dictionary + {'velociraptor' : 'Fluffy'}"
   ]
  },
  {
   "cell_type": "markdown",
   "metadata": {},
   "source": [
    "#### Note that when we print out a dictionary, we won't necessarily get the items back in the order we created them! Unlike lists or tuples, where items are stored and retrieved sequentially, there is no order associated with elements in a dictionary. "
   ]
  },
  {
   "cell_type": "markdown",
   "metadata": {},
   "source": [
    "#### Access a value in a dictionary by looking it up with the appropriate key:"
   ]
  },
  {
   "cell_type": "code",
   "execution_count": 7,
   "metadata": {
    "collapsed": false
   },
   "outputs": [
    {
     "name": "stdout",
     "output_type": "stream",
     "text": [
      "The name of the dog is Rex\n"
     ]
    }
   ],
   "source": [
    "print(\"The name of the dog is\", my_dictionary['dog'])"
   ]
  },
  {
   "cell_type": "markdown",
   "metadata": {},
   "source": [
    "#### We can use the \"in\" operator with dictionaries. It will tell us whether a dictionary contains a specific key:"
   ]
  },
  {
   "cell_type": "code",
   "execution_count": 8,
   "metadata": {
    "collapsed": false
   },
   "outputs": [
    {
     "name": "stdout",
     "output_type": "stream",
     "text": [
      "True\n"
     ]
    }
   ],
   "source": [
    "print('dog' in my_dictionary)"
   ]
  },
  {
   "cell_type": "code",
   "execution_count": 9,
   "metadata": {
    "collapsed": false
   },
   "outputs": [
    {
     "name": "stdout",
     "output_type": "stream",
     "text": [
      "False\n"
     ]
    }
   ],
   "source": [
    "print('Rex' in my_dictionary)"
   ]
  },
  {
   "cell_type": "markdown",
   "metadata": {},
   "source": [
    "#### \"in\" looks at the *keys* of a dictionary, not the values!\n"
   ]
  },
  {
   "cell_type": "markdown",
   "metadata": {},
   "source": [
    "#### The dictionary keys and values can be integers, floats, strings, booleans"
   ]
  },
  {
   "cell_type": "code",
   "execution_count": 10,
   "metadata": {
    "collapsed": false
   },
   "outputs": [],
   "source": [
    "same_dictionary = {\n",
    "    'gibberish': '12nfo23nr230',\n",
    "    'two': 2,\n",
    "    4.0 : 'four',\n",
    "    True : 1,\n",
    "    0 : False,\n",
    "}"
   ]
  },
  {
   "cell_type": "code",
   "execution_count": 11,
   "metadata": {
    "collapsed": false
   },
   "outputs": [
    {
     "name": "stdout",
     "output_type": "stream",
     "text": [
      "{0: False, True: 1, 4.0: 'four', 'gibberish': '12nfo23nr230', 'two': 2}\n"
     ]
    }
   ],
   "source": [
    "print(same_dictionary)"
   ]
  },
  {
   "cell_type": "code",
   "execution_count": 12,
   "metadata": {
    "collapsed": false
   },
   "outputs": [
    {
     "name": "stdout",
     "output_type": "stream",
     "text": [
      "False\n",
      "1\n",
      "four\n",
      "2\n"
     ]
    }
   ],
   "source": [
    "print(same_dictionary[0])\n",
    "print(same_dictionary[True])\n",
    "print(same_dictionary[4.0])\n",
    "print(same_dictionary['two'])"
   ]
  },
  {
   "cell_type": "markdown",
   "metadata": {},
   "source": [
    "#### Handy trick: if you have two lists, you can use the dict() and zip() functions to create a dictionary, where one list is the keys and the other list is the values!"
   ]
  },
  {
   "cell_type": "code",
   "execution_count": 13,
   "metadata": {
    "collapsed": true
   },
   "outputs": [],
   "source": [
    "character = ['Beatrix Kiddo', 'Jean Grey', 'Jackie Brown']\n",
    "actress = ['Uma Thurman', 'Famke Janssen', 'Pam Grier']"
   ]
  },
  {
   "cell_type": "code",
   "execution_count": 14,
   "metadata": {
    "collapsed": false
   },
   "outputs": [
    {
     "name": "stdout",
     "output_type": "stream",
     "text": [
      "{'Jean Grey': 'Famke Janssen', 'Beatrix Kiddo': 'Uma Thurman', 'Jackie Brown': 'Pam Grier'}\n"
     ]
    }
   ],
   "source": [
    "zipped_dictionary = dict(zip(character,actress))\n",
    "print(zipped_dictionary)"
   ]
  },
  {
   "cell_type": "markdown",
   "metadata": {},
   "source": [
    "#### There are useful methods associated with dictionaries: You could extract just the keys or the values using keys() or values()."
   ]
  },
  {
   "cell_type": "code",
   "execution_count": 15,
   "metadata": {
    "collapsed": false
   },
   "outputs": [
    {
     "name": "stdout",
     "output_type": "stream",
     "text": [
      "dict_keys(['dog', 'fish', 'cat'])\n"
     ]
    }
   ],
   "source": [
    "print(my_dictionary.keys())"
   ]
  },
  {
   "cell_type": "code",
   "execution_count": 16,
   "metadata": {
    "collapsed": false
   },
   "outputs": [
    {
     "name": "stdout",
     "output_type": "stream",
     "text": [
      "dict_values(['Rex', 'Nemo', 'Felix'])\n"
     ]
    }
   ],
   "source": [
    "print(my_dictionary.values())"
   ]
  },
  {
   "cell_type": "markdown",
   "metadata": {},
   "source": [
    "#### pop() method gives the contents of the dictionary as key, value pairs "
   ]
  },
  {
   "cell_type": "code",
   "execution_count": 17,
   "metadata": {
    "collapsed": false
   },
   "outputs": [
    {
     "name": "stdout",
     "output_type": "stream",
     "text": [
      "Rex\n"
     ]
    }
   ],
   "source": [
    "print(my_dictionary.pop('dog'))"
   ]
  },
  {
   "cell_type": "markdown",
   "metadata": {},
   "source": [
    "#### Python variables do not contain values, they are pointers."
   ]
  },
  {
   "cell_type": "code",
   "execution_count": 18,
   "metadata": {
    "collapsed": true
   },
   "outputs": [],
   "source": [
    "copy_dictionary = zipped_dictionary"
   ]
  },
  {
   "cell_type": "code",
   "execution_count": 19,
   "metadata": {
    "collapsed": true
   },
   "outputs": [],
   "source": [
    "copy_dictionary['Jean Grey'] = 'Sophie Turner'"
   ]
  },
  {
   "cell_type": "code",
   "execution_count": 20,
   "metadata": {
    "collapsed": false
   },
   "outputs": [
    {
     "name": "stdout",
     "output_type": "stream",
     "text": [
      "{'Jean Grey': 'Sophie Turner', 'Beatrix Kiddo': 'Uma Thurman', 'Jackie Brown': 'Pam Grier'}\n"
     ]
    }
   ],
   "source": [
    "print(copy_dictionary)"
   ]
  },
  {
   "cell_type": "code",
   "execution_count": 21,
   "metadata": {
    "collapsed": false
   },
   "outputs": [
    {
     "name": "stdout",
     "output_type": "stream",
     "text": [
      "{'Jean Grey': 'Sophie Turner', 'Beatrix Kiddo': 'Uma Thurman', 'Jackie Brown': 'Pam Grier'}\n"
     ]
    }
   ],
   "source": [
    "print(zipped_dictionary)"
   ]
  },
  {
   "cell_type": "markdown",
   "metadata": {},
   "source": [
    "#### We can persuade python to make a separate copy"
   ]
  },
  {
   "cell_type": "code",
   "execution_count": 22,
   "metadata": {
    "collapsed": true
   },
   "outputs": [],
   "source": [
    "dublicate_dictionary = dict(zipped_dictionary)"
   ]
  },
  {
   "cell_type": "code",
   "execution_count": 23,
   "metadata": {
    "collapsed": true
   },
   "outputs": [],
   "source": [
    "dublicate_dictionary['Jean Grey'] = 'Famke Janssen'"
   ]
  },
  {
   "cell_type": "code",
   "execution_count": 24,
   "metadata": {
    "collapsed": false
   },
   "outputs": [
    {
     "name": "stdout",
     "output_type": "stream",
     "text": [
      "{'Jean Grey': 'Famke Janssen', 'Beatrix Kiddo': 'Uma Thurman', 'Jackie Brown': 'Pam Grier'}\n",
      "{'Jean Grey': 'Sophie Turner', 'Beatrix Kiddo': 'Uma Thurman', 'Jackie Brown': 'Pam Grier'}\n"
     ]
    }
   ],
   "source": [
    "print(dublicate_dictionary)\n",
    "print(zipped_dictionary)"
   ]
  },
  {
   "cell_type": "markdown",
   "metadata": {},
   "source": [
    "#### Dictionaries are \"not ordered\"! That means that Python makes no promises about the order in which items are returned when we iterate over them. \n",
    "\n",
    "#### There is a special kind of dictionary in the collections module called an OrderedDict that you can use if you need to iterate over the keys in a dictionary in a guaranteed order."
   ]
  },
  {
   "cell_type": "code",
   "execution_count": 25,
   "metadata": {
    "collapsed": true
   },
   "outputs": [],
   "source": [
    "import collections"
   ]
  },
  {
   "cell_type": "code",
   "execution_count": 26,
   "metadata": {
    "collapsed": false
   },
   "outputs": [],
   "source": [
    "ordered_dictionary = collections.OrderedDict()\n",
    "ordered_dictionary['one'] = 1\n",
    "ordered_dictionary[2.0] = 'milk'\n",
    "ordered_dictionary['3.0'] = False\n",
    "ordered_dictionary[True] = 42"
   ]
  },
  {
   "cell_type": "code",
   "execution_count": 27,
   "metadata": {
    "collapsed": false
   },
   "outputs": [
    {
     "name": "stdout",
     "output_type": "stream",
     "text": [
      "OrderedDict([('one', 1), (2.0, 'milk'), ('3.0', False), (True, 42)])\n"
     ]
    }
   ],
   "source": [
    "print(ordered_dictionary)"
   ]
  },
  {
   "cell_type": "code",
   "execution_count": 28,
   "metadata": {
    "collapsed": false
   },
   "outputs": [],
   "source": [
    "reordered_dictionary = collections.OrderedDict([\n",
    "    (True, 42),\n",
    "    ('one', 1),\n",
    "    (2.0, 'milk'),\n",
    "    ('3.0', False),\n",
    "    (4, 'batmobile')\n",
    "])"
   ]
  },
  {
   "cell_type": "code",
   "execution_count": 29,
   "metadata": {
    "collapsed": false
   },
   "outputs": [
    {
     "name": "stdout",
     "output_type": "stream",
     "text": [
      "OrderedDict([(True, 42), ('one', 1), (2.0, 'milk'), ('3.0', False), (4, 'batmobile')])\n"
     ]
    }
   ],
   "source": [
    "print(reordered_dictionary)"
   ]
  },
  {
   "cell_type": "code",
   "execution_count": null,
   "metadata": {
    "collapsed": true
   },
   "outputs": [],
   "source": []
  }
 ],
 "metadata": {
  "anaconda-cloud": {},
  "kernelspec": {
   "display_name": "Python [conda root]",
   "language": "python",
   "name": "conda-root-py"
  },
  "language_info": {
   "codemirror_mode": {
    "name": "ipython",
    "version": 3
   },
   "file_extension": ".py",
   "mimetype": "text/x-python",
   "name": "python",
   "nbconvert_exporter": "python",
   "pygments_lexer": "ipython3",
   "version": "3.5.2"
  }
 },
 "nbformat": 4,
 "nbformat_minor": 1
}

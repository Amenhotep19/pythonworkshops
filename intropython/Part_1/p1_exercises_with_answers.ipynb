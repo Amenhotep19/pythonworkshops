{
 "cells": [
  {
   "cell_type": "markdown",
   "metadata": {},
   "source": [
    "# Practicing Python Basics\n",
    "-----"
   ]
  },
  {
   "cell_type": "markdown",
   "metadata": {},
   "source": [
    "## Math"
   ]
  },
  {
   "cell_type": "markdown",
   "metadata": {},
   "source": [
    "### Exercise: Integers and Floats\n",
    "\n",
    "When is there a difference between using an integer value (no decimal) and the decimal equivalent of a number?  For example 3 and 3.0.  Play around with some common math operations to test it out."
   ]
  },
  {
   "cell_type": "markdown",
   "metadata": {},
   "source": [
    "#### Answer:\n",
    "\n",
    "Some examples follow.  If you use a decimal number (float) in an operation, the answer will be a float.  If you use only integers, sometimes you get integers and sometimes you get a float."
   ]
  },
  {
   "cell_type": "code",
   "execution_count": 1,
   "metadata": {
    "collapsed": false
   },
   "outputs": [
    {
     "data": {
      "text/plain": [
       "0.3"
      ]
     },
     "execution_count": 1,
     "metadata": {},
     "output_type": "execute_result"
    }
   ],
   "source": [
    "## Note: this will give different answers in Python 2.x and 3.x\n",
    "3/10"
   ]
  },
  {
   "cell_type": "code",
   "execution_count": 2,
   "metadata": {
    "collapsed": false
   },
   "outputs": [
    {
     "data": {
      "text/plain": [
       "0.3"
      ]
     },
     "execution_count": 2,
     "metadata": {},
     "output_type": "execute_result"
    }
   ],
   "source": [
    "3.0/10"
   ]
  },
  {
   "cell_type": "code",
   "execution_count": 3,
   "metadata": {
    "collapsed": false
   },
   "outputs": [
    {
     "data": {
      "text/plain": [
       "0.3"
      ]
     },
     "execution_count": 3,
     "metadata": {},
     "output_type": "execute_result"
    }
   ],
   "source": [
    "3/10.0"
   ]
  },
  {
   "cell_type": "code",
   "execution_count": 4,
   "metadata": {
    "collapsed": false
   },
   "outputs": [
    {
     "data": {
      "text/plain": [
       "6"
      ]
     },
     "execution_count": 4,
     "metadata": {},
     "output_type": "execute_result"
    }
   ],
   "source": [
    "2*3"
   ]
  },
  {
   "cell_type": "code",
   "execution_count": 5,
   "metadata": {
    "collapsed": false
   },
   "outputs": [
    {
     "data": {
      "text/plain": [
       "6.0"
      ]
     },
     "execution_count": 5,
     "metadata": {},
     "output_type": "execute_result"
    }
   ],
   "source": [
    "2.0*3"
   ]
  },
  {
   "cell_type": "code",
   "execution_count": 6,
   "metadata": {
    "collapsed": false
   },
   "outputs": [
    {
     "data": {
      "text/plain": [
       "-1"
      ]
     },
     "execution_count": 6,
     "metadata": {},
     "output_type": "execute_result"
    }
   ],
   "source": [
    "2-3"
   ]
  },
  {
   "cell_type": "code",
   "execution_count": 7,
   "metadata": {
    "collapsed": false
   },
   "outputs": [
    {
     "data": {
      "text/plain": [
       "-1.0"
      ]
     },
     "execution_count": 7,
     "metadata": {},
     "output_type": "execute_result"
    }
   ],
   "source": [
    "2.0-3"
   ]
  },
  {
   "cell_type": "code",
   "execution_count": 8,
   "metadata": {
    "collapsed": false
   },
   "outputs": [
    {
     "data": {
      "text/plain": [
       "2"
      ]
     },
     "execution_count": 8,
     "metadata": {},
     "output_type": "execute_result"
    }
   ],
   "source": [
    "2 % 3"
   ]
  },
  {
   "cell_type": "markdown",
   "metadata": {},
   "source": [
    "### Exercise: Learning about numerical weirdness\n",
    "\n",
    "Add 0.1+0.2.  What's going on?\n",
    "\n",
    "See http://introtopython.org/var_string_num.html#Floating-Point-numbers for more information."
   ]
  },
  {
   "cell_type": "code",
   "execution_count": 9,
   "metadata": {
    "collapsed": false
   },
   "outputs": [
    {
     "data": {
      "text/plain": [
       "0.30000000000000004"
      ]
     },
     "execution_count": 9,
     "metadata": {},
     "output_type": "execute_result"
    }
   ],
   "source": [
    "0.1+0.2 "
   ]
  },
  {
   "cell_type": "markdown",
   "metadata": {},
   "source": [
    "## Variables"
   ]
  },
  {
   "cell_type": "markdown",
   "metadata": {},
   "source": [
    "### Exercise: Variable relationships\n",
    "\n",
    "If you run the code below, what will the output be?"
   ]
  },
  {
   "cell_type": "raw",
   "metadata": {},
   "source": [
    "a=1\n",
    "b=a+2\n",
    "a=2\n",
    "print(b)"
   ]
  },
  {
   "cell_type": "markdown",
   "metadata": {},
   "source": [
    "#### Answer:"
   ]
  },
  {
   "cell_type": "code",
   "execution_count": 10,
   "metadata": {
    "collapsed": false
   },
   "outputs": [
    {
     "name": "stdout",
     "output_type": "stream",
     "text": [
      "3\n"
     ]
    }
   ],
   "source": [
    "a=1\n",
    "b=a+2\n",
    "a=2\n",
    "print(b)"
   ]
  },
  {
   "cell_type": "markdown",
   "metadata": {},
   "source": [
    "`b` gets the value of `a` at the time the assignment is made.  The two variables are not linked after that."
   ]
  },
  {
   "cell_type": "markdown",
   "metadata": {},
   "source": [
    "### Exercise: Assigning multiple variables at once\n",
    "\n",
    "We can assign values to multiple variables at once.  What will the output of the code below be?"
   ]
  },
  {
   "cell_type": "raw",
   "metadata": {},
   "source": [
    "first, second = 'Grace', 'Hopper'\n",
    "third, fourth = second, first\n",
    "print(third, fourth)"
   ]
  },
  {
   "cell_type": "markdown",
   "metadata": {},
   "source": [
    "#### Answer:"
   ]
  },
  {
   "cell_type": "code",
   "execution_count": 11,
   "metadata": {
    "collapsed": false
   },
   "outputs": [
    {
     "name": "stdout",
     "output_type": "stream",
     "text": [
      "Hopper Grace\n"
     ]
    }
   ],
   "source": [
    "first, second = 'Grace', 'Hopper'\n",
    "third, fourth = second, first\n",
    "print(third, fourth)"
   ]
  },
  {
   "cell_type": "markdown",
   "metadata": {},
   "source": [
    "If you don't know who Grace Hopper is, [take a look](https://en.wikipedia.org/wiki/Grace_Hopper)."
   ]
  },
  {
   "cell_type": "markdown",
   "metadata": {},
   "source": [
    "### Exercise: Swapping values\n",
    "\n",
    "Create a variable named dog with the value \"Kitty\".  Create a variable named cat with the value \"Spot\".  Then swap the values of the two variables."
   ]
  },
  {
   "cell_type": "markdown",
   "metadata": {},
   "source": [
    "#### Answer:\n",
    "\n",
    "You can use the syntax in the example above to make the swap in one line, or you can create a third variable to help you out."
   ]
  },
  {
   "cell_type": "code",
   "execution_count": 12,
   "metadata": {
    "collapsed": false
   },
   "outputs": [
    {
     "name": "stdout",
     "output_type": "stream",
     "text": [
      "Spot\n",
      "Kitty\n"
     ]
    }
   ],
   "source": [
    "# option 1\n",
    "dog = \"Kitty\"\n",
    "cat = \"Spot\"\n",
    "\n",
    "dog, cat = cat, dog\n",
    "\n",
    "print(dog)\n",
    "print(cat)"
   ]
  },
  {
   "cell_type": "code",
   "execution_count": 13,
   "metadata": {
    "collapsed": false
   },
   "outputs": [
    {
     "name": "stdout",
     "output_type": "stream",
     "text": [
      "Spot\n",
      "Kitty\n"
     ]
    }
   ],
   "source": [
    "# option 2\n",
    "dog = \"Kitty\"\n",
    "cat = \"Spot\"\n",
    "\n",
    "swapholder = dog\n",
    "dog = cat\n",
    "cat = swapholder\n",
    "\n",
    "print(dog)\n",
    "print(cat)"
   ]
  },
  {
   "cell_type": "markdown",
   "metadata": {},
   "source": [
    "## Basic String Operations"
   ]
  },
  {
   "cell_type": "markdown",
   "metadata": {},
   "source": [
    "### Exercise: String concatenation\n",
    "\n",
    "Store your first name in a variable.  Store your last name in a different variable.  Combine (concatenate) them to make a single string."
   ]
  },
  {
   "cell_type": "markdown",
   "metadata": {},
   "source": [
    "#### Answer:"
   ]
  },
  {
   "cell_type": "code",
   "execution_count": 14,
   "metadata": {
    "collapsed": false
   },
   "outputs": [
    {
     "data": {
      "text/plain": [
       "'Mary Jane'"
      ]
     },
     "execution_count": 14,
     "metadata": {},
     "output_type": "execute_result"
    }
   ],
   "source": [
    "firstname = \"Mary\"\n",
    "lastname = \"Jane\"\n",
    "firstname+\" \"+lastname"
   ]
  },
  {
   "cell_type": "markdown",
   "metadata": {},
   "source": [
    "### Exercise: String slices\n",
    "\n",
    "You can index and slice strings like lists.  Print the first and last letters of your first name variable from above."
   ]
  },
  {
   "cell_type": "markdown",
   "metadata": {},
   "source": [
    "#### Answer:"
   ]
  },
  {
   "cell_type": "code",
   "execution_count": 15,
   "metadata": {
    "collapsed": false
   },
   "outputs": [
    {
     "name": "stdout",
     "output_type": "stream",
     "text": [
      "M\n",
      "y\n"
     ]
    }
   ],
   "source": [
    "print(firstname[0])\n",
    "print(firstname[-1])"
   ]
  },
  {
   "cell_type": "markdown",
   "metadata": {},
   "source": [
    "## Lists"
   ]
  },
  {
   "cell_type": "markdown",
   "metadata": {},
   "source": [
    "### Exercise: Make a list\n",
    "\n",
    "Make a list called words that has 10 words of your choice in it."
   ]
  },
  {
   "cell_type": "markdown",
   "metadata": {},
   "source": [
    "#### Answer:"
   ]
  },
  {
   "cell_type": "code",
   "execution_count": 16,
   "metadata": {
    "collapsed": true
   },
   "outputs": [],
   "source": [
    "words = [\"Grace\",\"Hopper\",\"and\",\"Ada\",\"Lovelace\",\"were\",\"pioneering\",\"inventors\",\"in\",\"computing\"]"
   ]
  },
  {
   "cell_type": "markdown",
   "metadata": {},
   "source": [
    "### Exercise: Select list elements\n",
    "\n",
    "Print the first and last elements of the list.  Then the first two elements as a subset of the list."
   ]
  },
  {
   "cell_type": "markdown",
   "metadata": {},
   "source": [
    "#### Answer:"
   ]
  },
  {
   "cell_type": "code",
   "execution_count": 17,
   "metadata": {
    "collapsed": false
   },
   "outputs": [
    {
     "name": "stdout",
     "output_type": "stream",
     "text": [
      "Grace\n",
      "computing\n",
      "['Grace', 'Hopper']\n"
     ]
    }
   ],
   "source": [
    "print(words[0])\n",
    "print(words[-1])\n",
    "print(words[0:2]) ## remember: the last index in a slice is exclusive"
   ]
  },
  {
   "cell_type": "markdown",
   "metadata": {},
   "source": [
    "### Exercise: Append to your list\n",
    "\n",
    "Add two words to the beginning of your list.  Print it."
   ]
  },
  {
   "cell_type": "markdown",
   "metadata": {},
   "source": [
    "#### Answer:"
   ]
  },
  {
   "cell_type": "code",
   "execution_count": 18,
   "metadata": {
    "collapsed": false
   },
   "outputs": [
    {
     "name": "stdout",
     "output_type": "stream",
     "text": [
      "['fun', 'fact', 'Grace', 'Hopper', 'and', 'Ada', 'Lovelace', 'were', 'pioneering', 'inventors', 'in', 'computing']\n"
     ]
    }
   ],
   "source": [
    "words = [\"fun\",\"fact\"]+words\n",
    "print(words)"
   ]
  },
  {
   "cell_type": "markdown",
   "metadata": {},
   "source": [
    "### Exercise: Now remove the words you just added to your list"
   ]
  },
  {
   "cell_type": "markdown",
   "metadata": {},
   "source": [
    "#### Answer:\n",
    "\n",
    "There are a few ways you could do this."
   ]
  },
  {
   "cell_type": "code",
   "execution_count": 19,
   "metadata": {
    "collapsed": false
   },
   "outputs": [
    {
     "name": "stdout",
     "output_type": "stream",
     "text": [
      "['Grace', 'Hopper', 'and', 'Ada', 'Lovelace', 'were', 'pioneering', 'inventors', 'in', 'computing']\n"
     ]
    }
   ],
   "source": [
    "words = words[2:]\n",
    "print(words)"
   ]
  },
  {
   "cell_type": "raw",
   "metadata": {},
   "source": [
    "# alternative\n",
    "del words[0:2]\n",
    "print(words)"
   ]
  },
  {
   "cell_type": "markdown",
   "metadata": {},
   "source": [
    "### Challenging Exercise: Slicing with Steps\n",
    "\n",
    "Print every other word in your `words` list starting with the second one."
   ]
  },
  {
   "cell_type": "markdown",
   "metadata": {},
   "source": [
    "#### Answer:"
   ]
  },
  {
   "cell_type": "code",
   "execution_count": 20,
   "metadata": {
    "collapsed": false
   },
   "outputs": [
    {
     "name": "stdout",
     "output_type": "stream",
     "text": [
      "['Hopper', 'Ada', 'were', 'inventors', 'computing']\n"
     ]
    }
   ],
   "source": [
    "print(words[1::2])"
   ]
  },
  {
   "cell_type": "markdown",
   "metadata": {},
   "source": [
    "### Challenging Exercise: Reverse your list\n",
    "\n",
    "Print your list in reverse order without changing the order of the list permanently."
   ]
  },
  {
   "cell_type": "markdown",
   "metadata": {},
   "source": [
    "#### Answer:"
   ]
  },
  {
   "cell_type": "code",
   "execution_count": 21,
   "metadata": {
    "collapsed": false
   },
   "outputs": [
    {
     "name": "stdout",
     "output_type": "stream",
     "text": [
      "['computing', 'in', 'inventors', 'pioneering', 'were', 'Lovelace', 'Ada', 'and', 'Hopper', 'Grace']\n"
     ]
    }
   ],
   "source": [
    "print(words[::-1])"
   ]
  },
  {
   "cell_type": "markdown",
   "metadata": {},
   "source": [
    "### Exercise: Nested lists\n",
    "\n",
    "You can have nested lists.  Create a list that has two other lists as its elements.  Save it in a variable called `nested_list`."
   ]
  },
  {
   "cell_type": "markdown",
   "metadata": {},
   "source": [
    "#### Answer:"
   ]
  },
  {
   "cell_type": "code",
   "execution_count": 22,
   "metadata": {
    "collapsed": false
   },
   "outputs": [
    {
     "name": "stdout",
     "output_type": "stream",
     "text": [
      "[['a', 'b', 'c'], [1, 2, 3]]\n"
     ]
    }
   ],
   "source": [
    "nested_list = [['a','b','c'],[1,2,3]]\n",
    "print(nested_list)"
   ]
  },
  {
   "cell_type": "markdown",
   "metadata": {},
   "source": [
    "### Exercise: Indexing Nested Lists\n",
    "\n",
    "Print the first list from `nested_list`.  Then print the second element of the first list."
   ]
  },
  {
   "cell_type": "markdown",
   "metadata": {},
   "source": [
    "#### Answer:\n",
    "\n",
    "When we select the first element of `nested_list` we get a list back.  We can then index in that list with another set of []."
   ]
  },
  {
   "cell_type": "code",
   "execution_count": 23,
   "metadata": {
    "collapsed": false
   },
   "outputs": [
    {
     "name": "stdout",
     "output_type": "stream",
     "text": [
      "['a', 'b', 'c']\n",
      "b\n"
     ]
    }
   ],
   "source": [
    "print(nested_list[0])\n",
    "print(nested_list[0][1])"
   ]
  },
  {
   "cell_type": "markdown",
   "metadata": {},
   "source": [
    "# Fun with Jupyter Notebooks\n",
    "\n",
    "-----"
   ]
  },
  {
   "cell_type": "markdown",
   "metadata": {},
   "source": [
    "Use [Markdown](https://en.wikipedia.org/wiki/Markdown) to format your notebook cells.  See this [Markdown Cheat Sheet](https://github.com/adam-p/markdown-here/wiki/Markdown-Cheatsheet) for common commands.  Or Daring Fireball's [Markdown tutorial/reference](https://daringfireball.net/projects/markdown/syntax)."
   ]
  },
  {
   "cell_type": "markdown",
   "metadata": {},
   "source": [
    "### Exercise: Insert a new cell below this one with raw formatting for plain text"
   ]
  },
  {
   "cell_type": "markdown",
   "metadata": {},
   "source": [
    "#### Answer:\n",
    "\n",
    "Insert a new cell using the Insert menu above, or press Esc (escape) to enter command mode, then a (for above) or b (for below).  To exit command mode to type, press enter/return.  If you're still in command mode, you can set the cell for raw formatting by pressing r.  If you're not in command mode, you can choose raw formatting from the pull down menu in the toolbar or from Cell > Cell Type.  An example raw text cell is below.  "
   ]
  },
  {
   "cell_type": "raw",
   "metadata": {},
   "source": [
    "This is an example raw text cell"
   ]
  },
  {
   "cell_type": "markdown",
   "metadata": {},
   "source": [
    "Why would you create a raw cell?  You wouldn't usually use one to type text as we've done here.  If you wanted to preserve a code or output cell though, you might convert it to raw text.  That way it won't get executed, but you can keep it in your notebook for reference later."
   ]
  },
  {
   "cell_type": "markdown",
   "metadata": {},
   "source": [
    "### Exercise: Make a level 3 header\n",
    "\n",
    "Make a markdown cell that is a level 3 header"
   ]
  },
  {
   "cell_type": "markdown",
   "metadata": {},
   "source": [
    "#### Answer: \n",
    "\n",
    "In the menu above, choose Markdown from the pull down menu, or Cell > Cell Type > Markdown.  Start a line with 3 hash marks `###` followed by a space and then the header you want.  For example:\n",
    "\n",
    "```\n",
    "### My level 3 header\n",
    "```\n",
    "\n",
    "Make sure to hit shift-enter to evaluate the cell like a code cell to get the Markdown styling to render.\n",
    "\n",
    "If you double click in the markdown cells in this notebook, you'll be able to see the markdown syntax used to create them.\n",
    "\n",
    "You can also enter markdown mode for a cell by typing Esc (escape) and m."
   ]
  },
  {
   "cell_type": "markdown",
   "metadata": {},
   "source": [
    "### Exercise: Check out the Kernel menu\n",
    "\n",
    "The Kernel menu above is how you control Python within a notebook.  If you get to a bad place in one of your notebooks and want to wipe everything clean, restarting your kernel is the way to do that.  You also have options to restart and clear output cells and restart and re-run everything.  \n",
    "\n",
    "Try restarting the kernel and rerun all cells in your notebook."
   ]
  },
  {
   "cell_type": "markdown",
   "metadata": {},
   "source": [
    "#### Answer:\n",
    "\n",
    "There's really no answer here.  If you left your code in a good state, everything should have re-executed and now look like it did before."
   ]
  },
  {
   "cell_type": "markdown",
   "metadata": {},
   "source": [
    "### Exercise: Markdown practice\n",
    "\n",
    "Make a markdown cell with some bold text.  Make a link to an external website.  You may need to reference the Markdown Cheat Sheet linked above.  If you're feeling adventurous, figure out how to make some text red (hint: google the answer; you'll need to use html).  "
   ]
  },
  {
   "cell_type": "markdown",
   "metadata": {},
   "source": [
    "#### Answer:\n",
    "\n",
    "Example cell below.  Double click it to see the Markdown formatting used."
   ]
  },
  {
   "cell_type": "markdown",
   "metadata": {},
   "source": [
    "**This text is bold.** This has a [link](http://google.com) to a website.  <span style=\"color:red\">This text is red.</span>"
   ]
  },
  {
   "cell_type": "markdown",
   "metadata": {},
   "source": [
    "### Exercise: Notebook Magic\n",
    "\n",
    "There are so-called magic commands you can use in notebooks.  They start with a % and enable special features.  Look up the `%who` command, see what it does, and try it out."
   ]
  },
  {
   "cell_type": "markdown",
   "metadata": {},
   "source": [
    "#### Answer:"
   ]
  },
  {
   "cell_type": "code",
   "execution_count": 24,
   "metadata": {
    "collapsed": false
   },
   "outputs": [
    {
     "name": "stdout",
     "output_type": "stream",
     "text": [
      "a\t b\t cat\t dog\t first\t firstname\t fourth\t lastname\t nested_list\t \n",
      "second\t swapholder\t third\t words\t \n"
     ]
    }
   ],
   "source": [
    "%who"
   ]
  },
  {
   "cell_type": "code",
   "execution_count": 25,
   "metadata": {
    "collapsed": false
   },
   "outputs": [
    {
     "name": "stdout",
     "output_type": "stream",
     "text": [
      "nested_list\t words\t \n"
     ]
    }
   ],
   "source": [
    "%who list"
   ]
  },
  {
   "cell_type": "markdown",
   "metadata": {},
   "source": [
    "## Want to learn more about Jupyter notebooks?\n",
    "\n",
    "There are several links on the [resources page](https://github.com/nuitrcs/pythonworkshops/blob/master/resources.md) of the GitHub repository, but you may want to start with the [Jupyter Notebook Users Manual](https://athena.brynmawr.edu/jupyter/hub/dblank/public/Jupyter%20Notebook%20Users%20Manual.ipynb) from Bryn Mawr."
   ]
  }
 ],
 "metadata": {
  "kernelspec": {
   "display_name": "Python 3",
   "language": "python",
   "name": "python3"
  },
  "language_info": {
   "codemirror_mode": {
    "name": "ipython",
    "version": 3
   },
   "file_extension": ".py",
   "mimetype": "text/x-python",
   "name": "python",
   "nbconvert_exporter": "python",
   "pygments_lexer": "ipython3",
   "version": "3.6.1"
  }
 },
 "nbformat": 4,
 "nbformat_minor": 2
}

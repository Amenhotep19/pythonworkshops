{
 "cells": [
  {
   "cell_type": "markdown",
   "metadata": {},
   "source": [
    "# PLEASE USE PYCHARM WHEN SOLVING THESE EXERCISES"
   ]
  },
  {
   "cell_type": "markdown",
   "metadata": {},
   "source": [
    "## Below, a small routine is given for calculating prime numbers between 2 and 100. Rewrite this routine with list comprehensions and print out the primes list. (Hint: Use two comprehensions, one for \"noprimes\" and one for \"primes\" list)"
   ]
  },
  {
   "cell_type": "code",
   "execution_count": null,
   "metadata": {
    "collapsed": true
   },
   "outputs": [],
   "source": [
    "noprimes=[]\n",
    "primes=[]\n",
    "for i in range(2, 8):\n",
    "    for j in range(i*2, 101, i):\n",
    "        noprimes.append(j)\n",
    "\n",
    "for k in range(2,101): \n",
    "    if (k not in noprimes):\n",
    "        primes.append(k)\n",
    "print(primes)"
   ]
  },
  {
   "cell_type": "markdown",
   "metadata": {},
   "source": [
    "## Here is a list of temperatures in Celsius scale, [-32.2,45.3,0.2,-40.0, 1.0, 50.8]. \n",
    "- First, using a list comprehension, convert the list to Fahrenheit scale \n",
    "- Second, do the same using lambda function "
   ]
  },
  {
   "cell_type": "markdown",
   "metadata": {},
   "source": [
    "## Change the strings to floats in the list given below and print out the same list with floats. (Hint: use a nested list comprehension)\n",
    "[['30', '12', '5.0', '321.3','67','77'], ['11', '22', '20.6','20.89'], ['45', '0.02']]"
   ]
  },
  {
   "cell_type": "markdown",
   "metadata": {},
   "source": [
    "## Using a nested list comprehension convert first list to the second:\n",
    "$1^{st} list$: <br>\n",
    "[['30', '-5.0', '321.3','77'], ['0.89'], ['45', '0.02']]\n",
    "\n",
    "$2^{nd} list$: <br>\n",
    "[[['3', '0'], ['-', '5', '.', '0'], ['3', '2', '1', '.', '3'], ['7', '7']], [['0', '.', '8', '9']], [['4', '5'], ['0', '.', '0', '2']]]"
   ]
  },
  {
   "cell_type": "markdown",
   "metadata": {},
   "source": [
    "## Using a list comprehension, find the numbers that are divisible by 3, 5, 7, 11 from 1 to 10000 "
   ]
  },
  {
   "cell_type": "markdown",
   "metadata": {},
   "source": [
    "## Write the same comprehension using lambda function. Hint 1: Search how to use `filter` function in connection with `lambda` function."
   ]
  },
  {
   "cell_type": "markdown",
   "metadata": {},
   "source": [
    "## Write a `lambda` function for argument \"t\" where the aritmetic expression is (-2t) if t>=4 and (2t) for everything else. Evaluate the expression in the range 0 to 6"
   ]
  },
  {
   "cell_type": "markdown",
   "metadata": {},
   "source": [
    "## In this example we will write to a file and read from the same file using list comprehension\n",
    "- Write the following string to a file: 'Batteries have changed a lot in the past century, but there is still work to do.'\n",
    "- Close the file.\n",
    "- Read the file using a list comprehension to obtain the output below. (Hint: use split function)\n",
    "\n",
    "[['Batteries', 'have', 'changed', 'a', 'lot', 'in', 'the', 'past', 'century,', 'but', 'there', 'is', 'still', 'work', 'to', 'do.']]"
   ]
  },
  {
   "cell_type": "markdown",
   "metadata": {},
   "source": [
    "## A file object has a `writelines()` method which expects a list of strings. Search the web for how to use this method.\n",
    "- Using `writelines` file object method and a list comprehension to write the even numbers from 0 to 100 to file.\n",
    "- Each number should be on a new line\n",
    "- You write this script in two lines of code"
   ]
  },
  {
   "cell_type": "markdown",
   "metadata": {},
   "source": [
    "## File objects are useful for passing into other libraries that know how to use them. The built-in csv (comma seperated values) module is a great example. In this exercise you will use `DictReader` class from csv package. Search the web on how to use `DictReader` object.\n",
    "- You will find fbi_crime_statistics.cvs file in the GitHub repo. Read this file and pass it to a DictReader object.\n",
    "- Using a `for` loop read the rows with fieldnames \"Violent crime\" and \"Population\". At each iteration, pass the values under the given field names to integer variables \n",
    "- Using the integer variables, calculate ratio (violent crimes/population) and print out this ratio for each year (year is a another fieldname in the input file)\n",
    "Hint: By default the numbers in the rows will be read as strings. Also be careful about the commas in the numbers"
   ]
  },
  {
   "cell_type": "markdown",
   "metadata": {},
   "source": [
    "## Write a short script to calculate and print out the circumference and area of a circle with only diameter as input. You can use `math` module which includes constant `pi`. For circumference and area calculations develop 2 functions.\n",
    "- First develop the code to read the diameter interactively (input via keyboard) and print the results to screen. Hint: Interactive input is read as a string\n",
    "- Second, change the code to read the diameter from a file and print the results to screen as well as to an output file. Hint: file.write() method accepts a string"
   ]
  },
  {
   "cell_type": "markdown",
   "metadata": {},
   "source": [
    "## You developed a python code including functions to calculate circumference and area of a circle. Now, divide the code into 2 different parts: \n",
    "- First file should be a module that includes the functions.\n",
    "- Second file should be the main python code that takes the input from a file and writes the results to both screen and an output file."
   ]
  },
  {
   "cell_type": "markdown",
   "metadata": {},
   "source": [
    "## Develop a short python script that calculates the shell area between a larger and a smaller circle.  \n",
    "- The code will read an input file that contains the diameter of the large and small circle. The input includes many sets of large&small circle radii. \n",
    "- The code will have one main script and a module file. The main script will do the reading, writing and calling the module functions. The module file will contain the calculator for the shell area\n",
    "- The code will write the output to both screen and an output file\n",
    "- Your input file should look like this:\n",
    "\n",
    "6 4\n",
    "<br>\n",
    "3.3 5.6\n",
    "<br>\n",
    "2 9\n",
    "<br>\n",
    "3.1 4.4\n",
    "<br>\n",
    "6 5\n",
    "<br>\n",
    "9 11.2\n",
    "<br>"
   ]
  },
  {
   "cell_type": "markdown",
   "metadata": {},
   "source": [
    "## Write a python module that includes a function to calculate the average of a given list of numbers.\n",
    "- The module function should ask you to enter numbers interactively\n",
    "- The module function should print out the average of the given list\n",
    "- Use the module function by calling it from another python script\n",
    "- Modify the module to make sure that the module can be used just by itself (i.e. by simply running the module) "
   ]
  }
 ],
 "metadata": {
  "anaconda-cloud": {},
  "kernelspec": {
   "display_name": "Python [conda root]",
   "language": "python",
   "name": "conda-root-py"
  },
  "language_info": {
   "codemirror_mode": {
    "name": "ipython",
    "version": 3
   },
   "file_extension": ".py",
   "mimetype": "text/x-python",
   "name": "python",
   "nbconvert_exporter": "python",
   "pygments_lexer": "ipython3",
   "version": "3.5.2"
  }
 },
 "nbformat": 4,
 "nbformat_minor": 1
}

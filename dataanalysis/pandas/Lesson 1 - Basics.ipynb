{
 "cells": [
  {
   "cell_type": "markdown",
   "metadata": {},
   "source": [
    "## Introduction to Pandas\n",
    "\n",
    "[Pandas](http://pandas.pydata.org/) is the essential data analysis library for Python programmers. It provides fast and flexible data structures built on top of [numpy](http://www.numpy.org/).\n",
    "\n",
    "It is well suited to handle \"tabular\" data (that might be found in a spreadsheet), time series data, or pretty much anything you care to put in a matrix with rows and named columns.\n",
    "\n",
    "It contains two primary data structures, the `Series` (1-dimensional) and the `DataFrame` (2-dimensional) as well as a host of convenience methods for loading and plotting data.\n"
   ]
  },
  {
   "cell_type": "code",
   "execution_count": 1,
   "metadata": {
    "collapsed": true
   },
   "outputs": [],
   "source": [
    "# The canonical way to import pandas:\n",
    "import pandas as pd"
   ]
  },
  {
   "cell_type": "code",
   "execution_count": 2,
   "metadata": {
    "collapsed": true
   },
   "outputs": [],
   "source": [
    "%matplotlib inline"
   ]
  },
  {
   "cell_type": "markdown",
   "metadata": {},
   "source": [
    "Let's dive right in by loading a dataset."
   ]
  },
  {
   "cell_type": "code",
   "execution_count": 3,
   "metadata": {
    "collapsed": true
   },
   "outputs": [],
   "source": [
    "df = pd.read_csv(\"data/Speed_Camera_Violations.csv\")"
   ]
  },
  {
   "cell_type": "markdown",
   "metadata": {},
   "source": [
    "The variable `df` (which is a common abbreviation for \"DataFrame\") now contains a pandas `DataFrame` object. This particular `DataFrame` contains speed camera violation data provided by the city of Chicago. This dataset is available at [https://catalog.data.gov/dataset/speed-camera-violations-997eb](https://catalog.data.gov/dataset/speed-camera-violations-997eb).\n",
    "\n",
    "Let's start inspecting it by using the `head` method to look at the first five rows."
   ]
  },
  {
   "cell_type": "code",
   "execution_count": 4,
   "metadata": {},
   "outputs": [
    {
     "data": {
      "text/html": [
       "<div>\n",
       "<style>\n",
       "    .dataframe thead tr:only-child th {\n",
       "        text-align: right;\n",
       "    }\n",
       "\n",
       "    .dataframe thead th {\n",
       "        text-align: left;\n",
       "    }\n",
       "\n",
       "    .dataframe tbody tr th {\n",
       "        vertical-align: top;\n",
       "    }\n",
       "</style>\n",
       "<table border=\"1\" class=\"dataframe\">\n",
       "  <thead>\n",
       "    <tr style=\"text-align: right;\">\n",
       "      <th></th>\n",
       "      <th>ADDRESS</th>\n",
       "      <th>CAMERA ID</th>\n",
       "      <th>VIOLATION DATE</th>\n",
       "      <th>VIOLATIONS</th>\n",
       "      <th>X COORDINATE</th>\n",
       "      <th>Y COORDINATE</th>\n",
       "      <th>LATITUDE</th>\n",
       "      <th>LONGITUDE</th>\n",
       "      <th>LOCATION</th>\n",
       "    </tr>\n",
       "  </thead>\n",
       "  <tbody>\n",
       "    <tr>\n",
       "      <th>0</th>\n",
       "      <td>7738 S WESTERN</td>\n",
       "      <td>CHI065</td>\n",
       "      <td>07/08/2014</td>\n",
       "      <td>65</td>\n",
       "      <td>NaN</td>\n",
       "      <td>NaN</td>\n",
       "      <td>NaN</td>\n",
       "      <td>NaN</td>\n",
       "      <td>NaN</td>\n",
       "    </tr>\n",
       "    <tr>\n",
       "      <th>1</th>\n",
       "      <td>1111 N HUMBOLDT</td>\n",
       "      <td>CHI010</td>\n",
       "      <td>07/16/2014</td>\n",
       "      <td>56</td>\n",
       "      <td>NaN</td>\n",
       "      <td>NaN</td>\n",
       "      <td>NaN</td>\n",
       "      <td>NaN</td>\n",
       "      <td>NaN</td>\n",
       "    </tr>\n",
       "    <tr>\n",
       "      <th>2</th>\n",
       "      <td>5520 S WESTERN</td>\n",
       "      <td>CHI069</td>\n",
       "      <td>07/08/2014</td>\n",
       "      <td>10</td>\n",
       "      <td>NaN</td>\n",
       "      <td>NaN</td>\n",
       "      <td>NaN</td>\n",
       "      <td>NaN</td>\n",
       "      <td>NaN</td>\n",
       "    </tr>\n",
       "    <tr>\n",
       "      <th>3</th>\n",
       "      <td>1111 N HUMBOLDT</td>\n",
       "      <td>CHI010</td>\n",
       "      <td>07/26/2014</td>\n",
       "      <td>101</td>\n",
       "      <td>NaN</td>\n",
       "      <td>NaN</td>\n",
       "      <td>NaN</td>\n",
       "      <td>NaN</td>\n",
       "      <td>NaN</td>\n",
       "    </tr>\n",
       "    <tr>\n",
       "      <th>4</th>\n",
       "      <td>1111 N HUMBOLDT</td>\n",
       "      <td>CHI010</td>\n",
       "      <td>07/27/2014</td>\n",
       "      <td>92</td>\n",
       "      <td>NaN</td>\n",
       "      <td>NaN</td>\n",
       "      <td>NaN</td>\n",
       "      <td>NaN</td>\n",
       "      <td>NaN</td>\n",
       "    </tr>\n",
       "  </tbody>\n",
       "</table>\n",
       "</div>"
      ],
      "text/plain": [
       "           ADDRESS CAMERA ID VIOLATION DATE  VIOLATIONS  X COORDINATE  \\\n",
       "0   7738 S WESTERN    CHI065     07/08/2014          65           NaN   \n",
       "1  1111 N HUMBOLDT    CHI010     07/16/2014          56           NaN   \n",
       "2   5520 S WESTERN    CHI069     07/08/2014          10           NaN   \n",
       "3  1111 N HUMBOLDT    CHI010     07/26/2014         101           NaN   \n",
       "4  1111 N HUMBOLDT    CHI010     07/27/2014          92           NaN   \n",
       "\n",
       "   Y COORDINATE  LATITUDE  LONGITUDE LOCATION  \n",
       "0           NaN       NaN        NaN      NaN  \n",
       "1           NaN       NaN        NaN      NaN  \n",
       "2           NaN       NaN        NaN      NaN  \n",
       "3           NaN       NaN        NaN      NaN  \n",
       "4           NaN       NaN        NaN      NaN  "
      ]
     },
     "execution_count": 4,
     "metadata": {},
     "output_type": "execute_result"
    }
   ],
   "source": [
    "df.head()"
   ]
  },
  {
   "cell_type": "markdown",
   "metadata": {},
   "source": [
    "### About DataFrames\n",
    "\n",
    "As you can see above, DataFrames contain \"tabular\" (2-dimensional) data, meaning they have rows and columns.\n",
    "\n",
    "Each colum has a name, and each row has a label (by default, the labels are integers). This set of row labels in pandas is called an `Index`.\n",
    "\n",
    "This allows us to address any \"cell\" in the DataFrame by its row label and column name:"
   ]
  },
  {
   "cell_type": "code",
   "execution_count": 5,
   "metadata": {},
   "outputs": [
    {
     "data": {
      "text/plain": [
       "ADDRESS           7738 S WESTERN\n",
       "CAMERA ID                 CHI065\n",
       "VIOLATION DATE        07/08/2014\n",
       "VIOLATIONS                    65\n",
       "X COORDINATE                 NaN\n",
       "Y COORDINATE                 NaN\n",
       "LATITUDE                     NaN\n",
       "LONGITUDE                    NaN\n",
       "LOCATION                     NaN\n",
       "Name: 0, dtype: object"
      ]
     },
     "execution_count": 5,
     "metadata": {},
     "output_type": "execute_result"
    }
   ],
   "source": [
    "# display just the first row (note the index is zero-based, meaning the first row is row 0)\n",
    "# `loc` is an \"indexer\" in Pandas terminology, meaning a property of the DataFrame we can use to\n",
    "# access specific values within it.\n",
    "df.loc[0]"
   ]
  },
  {
   "cell_type": "code",
   "execution_count": 6,
   "metadata": {
    "scrolled": true
   },
   "outputs": [
    {
     "data": {
      "text/plain": [
       "0               7738 S WESTERN\n",
       "1              1111 N HUMBOLDT\n",
       "2               5520 S WESTERN\n",
       "3              1111 N HUMBOLDT\n",
       "4              1111 N HUMBOLDT\n",
       "5               5529 S WESTERN\n",
       "6              1111 N HUMBOLDT\n",
       "7               5520 S WESTERN\n",
       "8               5520 S WESTERN\n",
       "9               5520 S WESTERN\n",
       "10              5529 S WESTERN\n",
       "11              5520 S WESTERN\n",
       "12              5529 S WESTERN\n",
       "13              5529 S WESTERN\n",
       "14              5520 S WESTERN\n",
       "15             1111 N HUMBOLDT\n",
       "16             1111 N HUMBOLDT\n",
       "17              5520 S WESTERN\n",
       "18             1111 N HUMBOLDT\n",
       "19              7739 S WESTERN\n",
       "20             1111 N HUMBOLDT\n",
       "21              5520 S WESTERN\n",
       "22             1111 N HUMBOLDT\n",
       "23              5529 S WESTERN\n",
       "24             1111 N HUMBOLDT\n",
       "25             1111 N HUMBOLDT\n",
       "26              7738 S WESTERN\n",
       "27              5529 S WESTERN\n",
       "28              5529 S WESTERN\n",
       "29              5529 S WESTERN\n",
       "                  ...         \n",
       "113966    1315 W GARFIELD BLVD\n",
       "113967    1315 W GARFIELD BLVD\n",
       "113968     4831 W LAWRENCE AVE\n",
       "113969          3843 S WESTERN\n",
       "113970          1901 E 75TH ST\n",
       "113971          3843 S WESTERN\n",
       "113972        19 W CHICAGO AVE\n",
       "113973        19 W CHICAGO AVE\n",
       "113974        5885 N RIDGE AVE\n",
       "113975        5885 N RIDGE AVE\n",
       "113976          3646 W MADISON\n",
       "113977          1901 E 75TH ST\n",
       "113978          3843 S WESTERN\n",
       "113979          3646 W MADISON\n",
       "113980    1315 W GARFIELD BLVD\n",
       "113981      3111 N ASHLAND AVE\n",
       "113982    1315 W GARFIELD BLVD\n",
       "113983        5885 N RIDGE AVE\n",
       "113984          3843 S WESTERN\n",
       "113985    10318 S INDIANAPOLIS\n",
       "113986        5885 N RIDGE AVE\n",
       "113987     4831 W LAWRENCE AVE\n",
       "113988             3851 W 79th\n",
       "113989          3843 S WESTERN\n",
       "113990        19 W CHICAGO AVE\n",
       "113991    1315 W GARFIELD BLVD\n",
       "113992      2115 S WESTERN AVE\n",
       "113993        4843 W FULLERTON\n",
       "113994    10318 S INDIANAPOLIS\n",
       "113995             3851 W 79th\n",
       "Name: ADDRESS, Length: 113996, dtype: object"
      ]
     },
     "execution_count": 6,
     "metadata": {},
     "output_type": "execute_result"
    }
   ],
   "source": [
    "# We can also address a single column of the DataFrame using its name in square brackets:\n",
    "df[\"ADDRESS\"]"
   ]
  },
  {
   "cell_type": "code",
   "execution_count": 7,
   "metadata": {},
   "outputs": [
    {
     "data": {
      "text/plain": [
       "'1111 N HUMBOLDT'"
      ]
     },
     "execution_count": 7,
     "metadata": {},
     "output_type": "execute_result"
    }
   ],
   "source": [
    "# We can combine the row-based and column-based access with the `loc` indexer to select specific \"elements\"\n",
    "df.loc[1, \"ADDRESS\"]"
   ]
  },
  {
   "cell_type": "code",
   "execution_count": 8,
   "metadata": {},
   "outputs": [
    {
     "data": {
      "text/html": [
       "<div>\n",
       "<style>\n",
       "    .dataframe thead tr:only-child th {\n",
       "        text-align: right;\n",
       "    }\n",
       "\n",
       "    .dataframe thead th {\n",
       "        text-align: left;\n",
       "    }\n",
       "\n",
       "    .dataframe tbody tr th {\n",
       "        vertical-align: top;\n",
       "    }\n",
       "</style>\n",
       "<table border=\"1\" class=\"dataframe\">\n",
       "  <thead>\n",
       "    <tr style=\"text-align: right;\">\n",
       "      <th></th>\n",
       "      <th>ADDRESS</th>\n",
       "      <th>VIOLATION DATE</th>\n",
       "    </tr>\n",
       "  </thead>\n",
       "  <tbody>\n",
       "    <tr>\n",
       "      <th>1000</th>\n",
       "      <td>2443 N ASHLAND</td>\n",
       "      <td>10/22/2014</td>\n",
       "    </tr>\n",
       "    <tr>\n",
       "      <th>1001</th>\n",
       "      <td>1111 N HUMBOLDT</td>\n",
       "      <td>10/22/2014</td>\n",
       "    </tr>\n",
       "    <tr>\n",
       "      <th>1002</th>\n",
       "      <td>515 S CENTRAL AVE</td>\n",
       "      <td>10/22/2014</td>\n",
       "    </tr>\n",
       "    <tr>\n",
       "      <th>1003</th>\n",
       "      <td>4433 N WESTERN</td>\n",
       "      <td>10/22/2014</td>\n",
       "    </tr>\n",
       "    <tr>\n",
       "      <th>1004</th>\n",
       "      <td>6909 S KEDZIE</td>\n",
       "      <td>10/22/2014</td>\n",
       "    </tr>\n",
       "    <tr>\n",
       "      <th>1005</th>\n",
       "      <td>2513 W 55TH</td>\n",
       "      <td>10/22/2014</td>\n",
       "    </tr>\n",
       "    <tr>\n",
       "      <th>1006</th>\n",
       "      <td>2440 W 51ST ST</td>\n",
       "      <td>10/22/2014</td>\n",
       "    </tr>\n",
       "    <tr>\n",
       "      <th>1007</th>\n",
       "      <td>4965 S ARCHER</td>\n",
       "      <td>10/22/2014</td>\n",
       "    </tr>\n",
       "    <tr>\n",
       "      <th>1008</th>\n",
       "      <td>5440 W GRAND</td>\n",
       "      <td>10/22/2014</td>\n",
       "    </tr>\n",
       "    <tr>\n",
       "      <th>1009</th>\n",
       "      <td>6443 W BELMONT AVE</td>\n",
       "      <td>10/22/2014</td>\n",
       "    </tr>\n",
       "    <tr>\n",
       "      <th>1010</th>\n",
       "      <td>6510 W BRYN MAWR AVE</td>\n",
       "      <td>10/22/2014</td>\n",
       "    </tr>\n",
       "  </tbody>\n",
       "</table>\n",
       "</div>"
      ],
      "text/plain": [
       "                   ADDRESS VIOLATION DATE\n",
       "1000        2443 N ASHLAND     10/22/2014\n",
       "1001       1111 N HUMBOLDT     10/22/2014\n",
       "1002     515 S CENTRAL AVE     10/22/2014\n",
       "1003        4433 N WESTERN     10/22/2014\n",
       "1004         6909 S KEDZIE     10/22/2014\n",
       "1005           2513 W 55TH     10/22/2014\n",
       "1006        2440 W 51ST ST     10/22/2014\n",
       "1007         4965 S ARCHER     10/22/2014\n",
       "1008          5440 W GRAND     10/22/2014\n",
       "1009    6443 W BELMONT AVE     10/22/2014\n",
       "1010  6510 W BRYN MAWR AVE     10/22/2014"
      ]
     },
     "execution_count": 8,
     "metadata": {},
     "output_type": "execute_result"
    }
   ],
   "source": [
    "# Or a set of rows and columns. Note we can ask for a list of columns in any order:\n",
    "df.loc[1000:1010, [\"ADDRESS\", \"VIOLATION DATE\"]]"
   ]
  },
  {
   "cell_type": "markdown",
   "metadata": {},
   "source": [
    "## About Series\n",
    "\n",
    "Each column in the DataFrame is a `Series` object. You can think of a `Series` as an `ndarray` from numpy with an `Index` (the same row-label functionality from `DataFrame`).\n",
    "\n",
    "The important thing to remember is that each element in the `Series` has the same type, just like an `ndarray`.\n",
    "\n",
    "The `dtype` property of a `Series` tells us what its type is."
   ]
  },
  {
   "cell_type": "code",
   "execution_count": 9,
   "metadata": {},
   "outputs": [
    {
     "name": "stdout",
     "output_type": "stream",
     "text": [
      "Index(['ADDRESS', 'CAMERA ID', 'VIOLATION DATE', 'VIOLATIONS', 'X COORDINATE',\n",
      "       'Y COORDINATE', 'LATITUDE', 'LONGITUDE', 'LOCATION'],\n",
      "      dtype='object')\n",
      "\n",
      "The dtype of ADDRESS is object.\n",
      "The dtype of CAMERA ID is object.\n",
      "The dtype of VIOLATION DATE is object.\n",
      "The dtype of VIOLATIONS is int64.\n",
      "The dtype of X COORDINATE is float64.\n",
      "The dtype of Y COORDINATE is float64.\n",
      "The dtype of LATITUDE is float64.\n",
      "The dtype of LONGITUDE is float64.\n",
      "The dtype of LOCATION is object.\n"
     ]
    }
   ],
   "source": [
    "print(df.columns)\n",
    "print()\n",
    "for col in df.columns:\n",
    "    print(\"The dtype of %s is %s.\" % (col, df[col].dtype))"
   ]
  },
  {
   "cell_type": "markdown",
   "metadata": {},
   "source": [
    "## Data types\n",
    "\n",
    "Much of pandas functionality depends on the data types of the `Series` it's working with. For instance we can get summary measures and do numpy-like parallel operations on numeric types (`int64`, `float64`), or do date-based arithmetic with `date` series.\n",
    "\n",
    "Notice above that the data type of the `VIOLATION DATE` column is \"object\", which, just like in numpy, means it is a generic type that isn't very useful. Let's turn those date strings into actual date objects, which are much better to work with.\n"
   ]
  },
  {
   "cell_type": "code",
   "execution_count": 10,
   "metadata": {},
   "outputs": [
    {
     "data": {
      "text/plain": [
       "0   2014-07-08\n",
       "1   2014-07-16\n",
       "2   2014-07-08\n",
       "3   2014-07-26\n",
       "4   2014-07-27\n",
       "Name: VIOLATION DATE, dtype: datetime64[ns]"
      ]
     },
     "execution_count": 10,
     "metadata": {},
     "output_type": "execute_result"
    }
   ],
   "source": [
    "# given a Series, pd.to_datetime returns a new Series with the string dates parsed as actual dates.\n",
    "# We can then directly assign that Series back to the original column in our dataframe and pandas' magical Index\n",
    "# functionality will make it all line up properly.\n",
    "df[\"VIOLATION DATE\"] = pd.to_datetime(df[\"VIOLATION DATE\"], format=\"%m/%d/%Y\")\n",
    "\n",
    "df[\"VIOLATION DATE\"].head()"
   ]
  },
  {
   "cell_type": "markdown",
   "metadata": {},
   "source": [
    "## Filtering\n",
    "\n",
    "Now that we have a date column, we can do things like filter to only look at violations in 2015.\n",
    "\n",
    "To do this, we'll create a \"filter\", essentially a boolean expression that works just like a mask or \"fancy indexing\" expression in numpy, and apply that filter to our dataframe to get just the rows we want.\n"
   ]
  },
  {
   "cell_type": "code",
   "execution_count": 11,
   "metadata": {},
   "outputs": [
    {
     "name": "stdout",
     "output_type": "stream",
     "text": [
      "0    False\n",
      "1    False\n",
      "2    False\n",
      "3    False\n",
      "4    False\n",
      "Name: VIOLATION DATE, dtype: bool\n",
      "\n",
      "113991     True\n",
      "113992     True\n",
      "113993    False\n",
      "113994     True\n",
      "113995     True\n",
      "Name: VIOLATION DATE, dtype: bool\n"
     ]
    },
    {
     "data": {
      "text/html": [
       "<div>\n",
       "<style>\n",
       "    .dataframe thead tr:only-child th {\n",
       "        text-align: right;\n",
       "    }\n",
       "\n",
       "    .dataframe thead th {\n",
       "        text-align: left;\n",
       "    }\n",
       "\n",
       "    .dataframe tbody tr th {\n",
       "        vertical-align: top;\n",
       "    }\n",
       "</style>\n",
       "<table border=\"1\" class=\"dataframe\">\n",
       "  <thead>\n",
       "    <tr style=\"text-align: right;\">\n",
       "      <th></th>\n",
       "      <th>ADDRESS</th>\n",
       "      <th>CAMERA ID</th>\n",
       "      <th>VIOLATION DATE</th>\n",
       "      <th>VIOLATIONS</th>\n",
       "      <th>X COORDINATE</th>\n",
       "      <th>Y COORDINATE</th>\n",
       "      <th>LATITUDE</th>\n",
       "      <th>LONGITUDE</th>\n",
       "      <th>LOCATION</th>\n",
       "    </tr>\n",
       "  </thead>\n",
       "  <tbody>\n",
       "    <tr>\n",
       "      <th>285</th>\n",
       "      <td>2912 W ROOSEVELT</td>\n",
       "      <td>CHI020</td>\n",
       "      <td>2015-01-07</td>\n",
       "      <td>8</td>\n",
       "      <td>1.157040e+06</td>\n",
       "      <td>1.894612e+06</td>\n",
       "      <td>41.866585</td>\n",
       "      <td>-87.698962</td>\n",
       "      <td>(41.86658528313424, -87.69896237494204)</td>\n",
       "    </tr>\n",
       "    <tr>\n",
       "      <th>286</th>\n",
       "      <td>5816 W JACKSON</td>\n",
       "      <td>CHI058</td>\n",
       "      <td>2015-01-07</td>\n",
       "      <td>22</td>\n",
       "      <td>1.137565e+06</td>\n",
       "      <td>1.898341e+06</td>\n",
       "      <td>41.877189</td>\n",
       "      <td>-87.770370</td>\n",
       "      <td>(41.87718940463045, -87.7703695017756)</td>\n",
       "    </tr>\n",
       "    <tr>\n",
       "      <th>287</th>\n",
       "      <td>57 E 95TH</td>\n",
       "      <td>CHI035</td>\n",
       "      <td>2015-01-07</td>\n",
       "      <td>4</td>\n",
       "      <td>1.178587e+06</td>\n",
       "      <td>1.841967e+06</td>\n",
       "      <td>41.721657</td>\n",
       "      <td>-87.621463</td>\n",
       "      <td>(41.72165713317433, -87.62146289865515)</td>\n",
       "    </tr>\n",
       "    <tr>\n",
       "      <th>288</th>\n",
       "      <td>324 S KEDZIE AVE</td>\n",
       "      <td>CHI123</td>\n",
       "      <td>2015-01-07</td>\n",
       "      <td>4</td>\n",
       "      <td>1.155058e+06</td>\n",
       "      <td>1.898247e+06</td>\n",
       "      <td>41.876599</td>\n",
       "      <td>-87.706143</td>\n",
       "      <td>(41.87659894232968, -87.70614267856668)</td>\n",
       "    </tr>\n",
       "    <tr>\n",
       "      <th>289</th>\n",
       "      <td>5471 W HIGGINS</td>\n",
       "      <td>CHI102</td>\n",
       "      <td>2015-01-07</td>\n",
       "      <td>14</td>\n",
       "      <td>1.139072e+06</td>\n",
       "      <td>1.931898e+06</td>\n",
       "      <td>41.969247</td>\n",
       "      <td>-87.764019</td>\n",
       "      <td>(41.96924714863934, -87.76401945149458)</td>\n",
       "    </tr>\n",
       "  </tbody>\n",
       "</table>\n",
       "</div>"
      ],
      "text/plain": [
       "              ADDRESS CAMERA ID VIOLATION DATE  VIOLATIONS  X COORDINATE  \\\n",
       "285  2912 W ROOSEVELT    CHI020     2015-01-07           8  1.157040e+06   \n",
       "286    5816 W JACKSON    CHI058     2015-01-07          22  1.137565e+06   \n",
       "287         57 E 95TH    CHI035     2015-01-07           4  1.178587e+06   \n",
       "288  324 S KEDZIE AVE    CHI123     2015-01-07           4  1.155058e+06   \n",
       "289    5471 W HIGGINS    CHI102     2015-01-07          14  1.139072e+06   \n",
       "\n",
       "     Y COORDINATE   LATITUDE  LONGITUDE  \\\n",
       "285  1.894612e+06  41.866585 -87.698962   \n",
       "286  1.898341e+06  41.877189 -87.770370   \n",
       "287  1.841967e+06  41.721657 -87.621463   \n",
       "288  1.898247e+06  41.876599 -87.706143   \n",
       "289  1.931898e+06  41.969247 -87.764019   \n",
       "\n",
       "                                    LOCATION  \n",
       "285  (41.86658528313424, -87.69896237494204)  \n",
       "286   (41.87718940463045, -87.7703695017756)  \n",
       "287  (41.72165713317433, -87.62146289865515)  \n",
       "288  (41.87659894232968, -87.70614267856668)  \n",
       "289  (41.96924714863934, -87.76401945149458)  "
      ]
     },
     "execution_count": 11,
     "metadata": {},
     "output_type": "execute_result"
    }
   ],
   "source": [
    "import datetime\n",
    "\n",
    "# note the extra parentheses below, these are necessary when creating a boolean filter expression with\n",
    "# multiple comparisons like this\n",
    "date_filter = ((df[\"VIOLATION DATE\"] >= datetime.date(2015,1,1)) & (df[\"VIOLATION DATE\"] < datetime.date(2016,1,1)))\n",
    "\n",
    "# date_filter now contains a series of true/false values that we can use to extract just the values we are interested in\n",
    "# by putting it in square brackets after the dataframe variable.\n",
    "print(date_filter.head())\n",
    "print()\n",
    "print(date_filter.tail())\n",
    "\n",
    "df_2015 = df[date_filter]\n",
    "\n",
    "df_2015.head()"
   ]
  },
  {
   "cell_type": "markdown",
   "metadata": {},
   "source": [
    "This kind of filtering works for any kind of data type, provided you take care to make sure pandas is using the right data types for your data!"
   ]
  },
  {
   "cell_type": "markdown",
   "metadata": {},
   "source": [
    "You may have noticed that many of the rows in this dataframe are missing lat/lon data. Pandas uses the \"NaN\" placeholder for missing data and offers some methods for dealing with it.\n",
    "\n",
    "Both `Series` and `DataFrame` objects have `fillna` method that will replace missing data with a specified value.\n",
    "\n",
    "In thise case however we may want to just drop those records that have missing data entirely:\n"
   ]
  },
  {
   "cell_type": "code",
   "execution_count": 12,
   "metadata": {},
   "outputs": [
    {
     "data": {
      "text/html": [
       "<div>\n",
       "<style>\n",
       "    .dataframe thead tr:only-child th {\n",
       "        text-align: right;\n",
       "    }\n",
       "\n",
       "    .dataframe thead th {\n",
       "        text-align: left;\n",
       "    }\n",
       "\n",
       "    .dataframe tbody tr th {\n",
       "        vertical-align: top;\n",
       "    }\n",
       "</style>\n",
       "<table border=\"1\" class=\"dataframe\">\n",
       "  <thead>\n",
       "    <tr style=\"text-align: right;\">\n",
       "      <th></th>\n",
       "      <th>ADDRESS</th>\n",
       "      <th>CAMERA ID</th>\n",
       "      <th>VIOLATION DATE</th>\n",
       "      <th>VIOLATIONS</th>\n",
       "      <th>X COORDINATE</th>\n",
       "      <th>Y COORDINATE</th>\n",
       "      <th>LATITUDE</th>\n",
       "      <th>LONGITUDE</th>\n",
       "      <th>LOCATION</th>\n",
       "    </tr>\n",
       "  </thead>\n",
       "  <tbody>\n",
       "    <tr>\n",
       "      <th>148</th>\n",
       "      <td>2912 W ROOSEVELT</td>\n",
       "      <td>CHI020</td>\n",
       "      <td>2014-10-16</td>\n",
       "      <td>25</td>\n",
       "      <td>1.157040e+06</td>\n",
       "      <td>1.894612e+06</td>\n",
       "      <td>41.866585</td>\n",
       "      <td>-87.698962</td>\n",
       "      <td>(41.86658528313424, -87.69896237494204)</td>\n",
       "    </tr>\n",
       "    <tr>\n",
       "      <th>149</th>\n",
       "      <td>346 W 76th ST</td>\n",
       "      <td>CHI136</td>\n",
       "      <td>2014-10-16</td>\n",
       "      <td>4</td>\n",
       "      <td>1.175112e+06</td>\n",
       "      <td>1.854590e+06</td>\n",
       "      <td>41.756374</td>\n",
       "      <td>-87.633817</td>\n",
       "      <td>(41.7563743554102, -87.6338165847716)</td>\n",
       "    </tr>\n",
       "    <tr>\n",
       "      <th>150</th>\n",
       "      <td>11153 S VINCENNES</td>\n",
       "      <td>CHI022</td>\n",
       "      <td>2014-10-16</td>\n",
       "      <td>6</td>\n",
       "      <td>1.167029e+06</td>\n",
       "      <td>1.830594e+06</td>\n",
       "      <td>41.690702</td>\n",
       "      <td>-87.664122</td>\n",
       "      <td>(41.690701951255015, -87.66412238501842)</td>\n",
       "    </tr>\n",
       "    <tr>\n",
       "      <th>151</th>\n",
       "      <td>5454 W IRVING PARK</td>\n",
       "      <td>CHI050</td>\n",
       "      <td>2014-10-16</td>\n",
       "      <td>82</td>\n",
       "      <td>1.139043e+06</td>\n",
       "      <td>1.926097e+06</td>\n",
       "      <td>41.953330</td>\n",
       "      <td>-87.764267</td>\n",
       "      <td>(41.95332954454448, -87.76426726425451)</td>\n",
       "    </tr>\n",
       "    <tr>\n",
       "      <th>152</th>\n",
       "      <td>5446 W FULLERTON</td>\n",
       "      <td>CHI042</td>\n",
       "      <td>2014-10-16</td>\n",
       "      <td>38</td>\n",
       "      <td>1.139460e+06</td>\n",
       "      <td>1.915458e+06</td>\n",
       "      <td>41.924128</td>\n",
       "      <td>-87.762994</td>\n",
       "      <td>(41.92412849125162, -87.76299399881007)</td>\n",
       "    </tr>\n",
       "  </tbody>\n",
       "</table>\n",
       "</div>"
      ],
      "text/plain": [
       "                ADDRESS CAMERA ID VIOLATION DATE  VIOLATIONS  X COORDINATE  \\\n",
       "148    2912 W ROOSEVELT    CHI020     2014-10-16          25  1.157040e+06   \n",
       "149       346 W 76th ST    CHI136     2014-10-16           4  1.175112e+06   \n",
       "150   11153 S VINCENNES    CHI022     2014-10-16           6  1.167029e+06   \n",
       "151  5454 W IRVING PARK    CHI050     2014-10-16          82  1.139043e+06   \n",
       "152    5446 W FULLERTON    CHI042     2014-10-16          38  1.139460e+06   \n",
       "\n",
       "     Y COORDINATE   LATITUDE  LONGITUDE  \\\n",
       "148  1.894612e+06  41.866585 -87.698962   \n",
       "149  1.854590e+06  41.756374 -87.633817   \n",
       "150  1.830594e+06  41.690702 -87.664122   \n",
       "151  1.926097e+06  41.953330 -87.764267   \n",
       "152  1.915458e+06  41.924128 -87.762994   \n",
       "\n",
       "                                     LOCATION  \n",
       "148   (41.86658528313424, -87.69896237494204)  \n",
       "149     (41.7563743554102, -87.6338165847716)  \n",
       "150  (41.690701951255015, -87.66412238501842)  \n",
       "151   (41.95332954454448, -87.76426726425451)  \n",
       "152   (41.92412849125162, -87.76299399881007)  "
      ]
     },
     "execution_count": 12,
     "metadata": {},
     "output_type": "execute_result"
    }
   ],
   "source": [
    "df_no_nans = df.dropna(axis=0, how=\"any\")\n",
    "df_no_nans.head()"
   ]
  },
  {
   "cell_type": "markdown",
   "metadata": {},
   "source": [
    "## Summary Measures\n",
    "\n",
    "Pandas will produce simple descriptive statics via the `describe` method:"
   ]
  },
  {
   "cell_type": "code",
   "execution_count": 13,
   "metadata": {},
   "outputs": [
    {
     "data": {
      "text/plain": [
       "count    113996.000000\n",
       "mean         30.708349\n",
       "std          38.773222\n",
       "min           1.000000\n",
       "25%           7.000000\n",
       "50%          17.000000\n",
       "75%          39.000000\n",
       "max         479.000000\n",
       "Name: VIOLATIONS, dtype: float64"
      ]
     },
     "execution_count": 13,
     "metadata": {},
     "output_type": "execute_result"
    }
   ],
   "source": [
    "df[\"VIOLATIONS\"].describe()"
   ]
  },
  {
   "cell_type": "markdown",
   "metadata": {},
   "source": [
    "There are many more built-in methods for producing summary measures which can be found in the [documentation](https://pandas.pydata.org/pandas-docs/stable/api.html#api-dataframe-stats).\n",
    "\n",
    "For instance, generating quantiles is straightforward:"
   ]
  },
  {
   "cell_type": "code",
   "execution_count": 14,
   "metadata": {},
   "outputs": [
    {
     "name": "stdout",
     "output_type": "stream",
     "text": [
      "Value at decile 0.1: 3.0\n",
      "Value at decile 0.2: 5.0\n",
      "Value at decile 0.3: 9.0\n",
      "Value at decile 0.4: 12.0\n",
      "Value at decile 0.5: 17.0\n",
      "Value at decile 0.6: 23.0\n",
      "Value at decile 0.7: 33.0\n",
      "Value at decile 0.8: 47.0\n",
      "Value at decile 0.9: 74.0\n",
      "Value at decile 1.0: 479.0\n"
     ]
    }
   ],
   "source": [
    "# deciles, in this case\n",
    "for i in range(1, 11):\n",
    "    print(\"Value at decile %s: %s\" % (i/10, df[\"VIOLATIONS\"].quantile(i/10)))"
   ]
  },
  {
   "cell_type": "markdown",
   "metadata": {},
   "source": [
    "## Grouping\n",
    "\n",
    "With data like this, the questions we might want to ask immediately are which camera locations or days of the week have produced the most violations. To do that we need to group records together, and Pandas is designed for exactly this sort of work.\n",
    "\n",
    "Let's investigate the top 10 locations with the most violations.\n"
   ]
  },
  {
   "cell_type": "code",
   "execution_count": 15,
   "metadata": {},
   "outputs": [
    {
     "data": {
      "text/html": [
       "<div>\n",
       "<style>\n",
       "    .dataframe thead tr:only-child th {\n",
       "        text-align: right;\n",
       "    }\n",
       "\n",
       "    .dataframe thead th {\n",
       "        text-align: left;\n",
       "    }\n",
       "\n",
       "    .dataframe tbody tr th {\n",
       "        vertical-align: top;\n",
       "    }\n",
       "</style>\n",
       "<table border=\"1\" class=\"dataframe\">\n",
       "  <thead>\n",
       "    <tr style=\"text-align: right;\">\n",
       "      <th></th>\n",
       "      <th>count</th>\n",
       "      <th>mean</th>\n",
       "      <th>std</th>\n",
       "      <th>min</th>\n",
       "      <th>25%</th>\n",
       "      <th>50%</th>\n",
       "      <th>75%</th>\n",
       "      <th>max</th>\n",
       "    </tr>\n",
       "    <tr>\n",
       "      <th>ADDRESS</th>\n",
       "      <th></th>\n",
       "      <th></th>\n",
       "      <th></th>\n",
       "      <th></th>\n",
       "      <th></th>\n",
       "      <th></th>\n",
       "      <th></th>\n",
       "      <th></th>\n",
       "    </tr>\n",
       "  </thead>\n",
       "  <tbody>\n",
       "    <tr>\n",
       "      <th>10318 S INDIANAPOLIS</th>\n",
       "      <td>1084.0</td>\n",
       "      <td>99.974170</td>\n",
       "      <td>39.412342</td>\n",
       "      <td>4.0</td>\n",
       "      <td>72.00</td>\n",
       "      <td>96.0</td>\n",
       "      <td>120.25</td>\n",
       "      <td>259.0</td>\n",
       "    </tr>\n",
       "    <tr>\n",
       "      <th>1110 S PULASKI RD</th>\n",
       "      <td>499.0</td>\n",
       "      <td>22.412826</td>\n",
       "      <td>15.078174</td>\n",
       "      <td>1.0</td>\n",
       "      <td>11.00</td>\n",
       "      <td>18.0</td>\n",
       "      <td>31.00</td>\n",
       "      <td>83.0</td>\n",
       "    </tr>\n",
       "    <tr>\n",
       "      <th>1111 N HUMBOLDT</th>\n",
       "      <td>1096.0</td>\n",
       "      <td>58.250000</td>\n",
       "      <td>18.067744</td>\n",
       "      <td>6.0</td>\n",
       "      <td>46.00</td>\n",
       "      <td>57.0</td>\n",
       "      <td>70.00</td>\n",
       "      <td>117.0</td>\n",
       "    </tr>\n",
       "    <tr>\n",
       "      <th>11144 S VINCENNES</th>\n",
       "      <td>526.0</td>\n",
       "      <td>19.612167</td>\n",
       "      <td>10.058579</td>\n",
       "      <td>1.0</td>\n",
       "      <td>12.25</td>\n",
       "      <td>18.0</td>\n",
       "      <td>25.00</td>\n",
       "      <td>75.0</td>\n",
       "    </tr>\n",
       "    <tr>\n",
       "      <th>11153 S VINCENNES</th>\n",
       "      <td>517.0</td>\n",
       "      <td>9.698259</td>\n",
       "      <td>5.182134</td>\n",
       "      <td>1.0</td>\n",
       "      <td>6.00</td>\n",
       "      <td>9.0</td>\n",
       "      <td>13.00</td>\n",
       "      <td>31.0</td>\n",
       "    </tr>\n",
       "  </tbody>\n",
       "</table>\n",
       "</div>"
      ],
      "text/plain": [
       "                       count       mean        std  min    25%   50%     75%  \\\n",
       "ADDRESS                                                                        \n",
       "10318 S INDIANAPOLIS  1084.0  99.974170  39.412342  4.0  72.00  96.0  120.25   \n",
       "1110 S PULASKI RD      499.0  22.412826  15.078174  1.0  11.00  18.0   31.00   \n",
       "1111 N HUMBOLDT       1096.0  58.250000  18.067744  6.0  46.00  57.0   70.00   \n",
       "11144 S VINCENNES      526.0  19.612167  10.058579  1.0  12.25  18.0   25.00   \n",
       "11153 S VINCENNES      517.0   9.698259   5.182134  1.0   6.00   9.0   13.00   \n",
       "\n",
       "                        max  \n",
       "ADDRESS                      \n",
       "10318 S INDIANAPOLIS  259.0  \n",
       "1110 S PULASKI RD      83.0  \n",
       "1111 N HUMBOLDT       117.0  \n",
       "11144 S VINCENNES      75.0  \n",
       "11153 S VINCENNES      31.0  "
      ]
     },
     "execution_count": 15,
     "metadata": {},
     "output_type": "execute_result"
    }
   ],
   "source": [
    "# first let's group by address and look at descriptive statistics for the first 10 records\n",
    "df.groupby([\"ADDRESS\"])[\"VIOLATIONS\"].describe().head()"
   ]
  },
  {
   "cell_type": "markdown",
   "metadata": {},
   "source": [
    "The above records aren't sorted in any meaningful way, but the first thing to note is that the Index is no longer just an integer, it is now the Address. This is because the `groupby` method returns a special object with a new index made up of the \n",
    "values of the column being grouped on.\n",
    "\n",
    "We can still use the `loc` indexer with this new grouped object to, for example, find the count for a given address:"
   ]
  },
  {
   "cell_type": "code",
   "execution_count": 16,
   "metadata": {},
   "outputs": [
    {
     "data": {
      "text/plain": [
       "432"
      ]
     },
     "execution_count": 16,
     "metadata": {},
     "output_type": "execute_result"
    }
   ],
   "source": [
    "# `count` returns the number of rows for this address, not the total violation count.\n",
    "# IE this tells us the number of observations.\n",
    "df.groupby([\"ADDRESS\"])[\"VIOLATIONS\"].count().loc[\"19 W CHICAGO AVE\"]"
   ]
  },
  {
   "cell_type": "code",
   "execution_count": 17,
   "metadata": {},
   "outputs": [
    {
     "data": {
      "text/plain": [
       "1618"
      ]
     },
     "execution_count": 17,
     "metadata": {},
     "output_type": "execute_result"
    }
   ],
   "source": [
    "# to get the total violation count, we want the `sum` method:\n",
    "df.groupby([\"ADDRESS\"])[\"VIOLATIONS\"].sum().loc[\"19 W CHICAGO AVE\"]"
   ]
  },
  {
   "cell_type": "code",
   "execution_count": 18,
   "metadata": {},
   "outputs": [
    {
     "data": {
      "text/plain": [
       "ADDRESS\n",
       "4909 N CICERO AVE       220704\n",
       "445 W 127TH             169337\n",
       "2900 W OGDEN            139183\n",
       "4124 W FOSTER AVE       127071\n",
       "10318 S INDIANAPOLIS    108372\n",
       "2705 W IRVING PARK      107599\n",
       "1142 W IRVING PARK       91874\n",
       "536 E MORGAN DR          82331\n",
       "5816 W JACKSON           80174\n",
       "4831 W LAWRENCE AVE      69538\n",
       "Name: VIOLATIONS, dtype: int64"
      ]
     },
     "execution_count": 18,
     "metadata": {},
     "output_type": "execute_result"
    }
   ],
   "source": [
    "# Now let's get the top 10 camera locations by total violation count:\n",
    "df.groupby([\"ADDRESS\"])[\"VIOLATIONS\"].sum().sort_values(ascending=False).head(10)"
   ]
  },
  {
   "cell_type": "code",
   "execution_count": 19,
   "metadata": {},
   "outputs": [
    {
     "data": {
      "text/plain": [
       "ADDRESS\n",
       "4909 N CICERO AVE       226.595483\n",
       "445 W 127TH             154.645662\n",
       "2900 W OGDEN            126.876026\n",
       "4124 W FOSTER AVE       120.332386\n",
       "10318 S INDIANAPOLIS     99.974170\n",
       "2705 W IRVING PARK       99.078269\n",
       "215 E 63RD ST            84.689008\n",
       "1142 W IRVING PARK       84.210816\n",
       "536 E MORGAN DR          75.188128\n",
       "2549 W ADDISON           73.668488\n",
       "Name: VIOLATIONS, dtype: float64"
      ]
     },
     "execution_count": 19,
     "metadata": {},
     "output_type": "execute_result"
    }
   ],
   "source": [
    "# Of course it's possible we just have more observations for some locations than others, so let's look\n",
    "# at the top 10 by mean violation count per observation:\n",
    "df.groupby([\"ADDRESS\"])[\"VIOLATIONS\"].mean().sort_values(ascending=False).head(10)"
   ]
  },
  {
   "cell_type": "markdown",
   "metadata": {},
   "source": [
    "How about days of the week? *When* are people most likely to be caught running red lights?\n",
    "\n",
    "The simplest way to do this is to create a new weekday column and group on that."
   ]
  },
  {
   "cell_type": "code",
   "execution_count": 20,
   "metadata": {},
   "outputs": [
    {
     "data": {
      "text/plain": [
       "0    1\n",
       "1    2\n",
       "2    1\n",
       "3    5\n",
       "4    6\n",
       "Name: VIOLATION DATE, dtype: int64"
      ]
     },
     "execution_count": 20,
     "metadata": {},
     "output_type": "execute_result"
    }
   ],
   "source": [
    "# datetime series have a special `dt` property that exposes the date/time-specific functionality.\n",
    "# In this case, dayofweek is a 0-based index where 0 = Monday, 6 = Sunday.\n",
    "df[\"VIOLATION DATE\"].dt.dayofweek.head()"
   ]
  },
  {
   "cell_type": "code",
   "execution_count": 21,
   "metadata": {},
   "outputs": [
    {
     "data": {
      "text/plain": [
       "DAY OF WEEK\n",
       "0    490581\n",
       "1    506821\n",
       "2    498217\n",
       "3    519486\n",
       "4    539902\n",
       "5    478854\n",
       "6    466768\n",
       "Name: VIOLATIONS, dtype: int64"
      ]
     },
     "execution_count": 21,
     "metadata": {},
     "output_type": "execute_result"
    }
   ],
   "source": [
    "df[\"DAY OF WEEK\"] = df[\"VIOLATION DATE\"].dt.dayofweek\n",
    "df.groupby([\"DAY OF WEEK\"])[\"VIOLATIONS\"].sum()"
   ]
  },
  {
   "cell_type": "markdown",
   "metadata": {},
   "source": [
    "## Plotting\n",
    "\n",
    "It's not easy to understand at a glance the distribution of red light violations by day of the week above, so let's produce a simple plot to visualize and help understand it.\n",
    "\n",
    "Pandas has a number of convenience functions to let us output plots directly without having to interact with matplotlib."
   ]
  },
  {
   "cell_type": "code",
   "execution_count": 22,
   "metadata": {},
   "outputs": [
    {
     "data": {
      "text/plain": [
       "<matplotlib.axes._subplots.AxesSubplot at 0x190de9a1ba8>"
      ]
     },
     "execution_count": 22,
     "metadata": {},
     "output_type": "execute_result"
    },
    {
     "data": {
      "image/png": "[encoded data removed]",
      "text/plain": [
       "<matplotlib.figure.Figure at 0x190de9a19e8>"
      ]
     },
     "metadata": {},
     "output_type": "display_data"
    }
   ],
   "source": [
    "# We can call `plot` on just about anything to get a minimally-formatted plot\n",
    "df.groupby([\"DAY OF WEEK\"])[\"VIOLATIONS\"].mean().plot()"
   ]
  },
  {
   "cell_type": "markdown",
   "metadata": {},
   "source": [
    "We can do much better. Let's do a horizontal bar plot, renaming the labels to the actual days of the week, and starting the X-axis at 0 to give a better sense of how much this data actually varies."
   ]
  },
  {
   "cell_type": "code",
   "execution_count": 23,
   "metadata": {},
   "outputs": [
    {
     "data": {
      "text/plain": [
       "<matplotlib.axes._subplots.AxesSubplot at 0x190de9a1c88>"
      ]
     },
     "execution_count": 23,
     "metadata": {},
     "output_type": "execute_result"
    },
    {
     "data": {
      "image/png": "[encoded data removed]",
      "text/plain": [
       "<matplotlib.figure.Figure at 0x190df2bcc50>"
      ]
     },
     "metadata": {},
     "output_type": "display_data"
    }
   ],
   "source": [
    "# Create a mapping of day number to day name\n",
    "daynames = {0: \"Mon\", 1: \"Tue\", 2: \"Wed\", 3: \"Thu\", 4: \"Fri\", 5: \"Sat\", 6: \"Sun\"}\n",
    "\n",
    "# save the \"sum of violations grouped-by day of week\" series in a variable\n",
    "violations_by_day_of_week = df.groupby([\"DAY OF WEEK\"])[\"VIOLATIONS\"].mean()\n",
    "\n",
    "# use the mapping created above to give the series index labels sensible values\n",
    "violations_by_day_of_week.rename(index=daynames, inplace=True)\n",
    "\n",
    "# use the reindex method to order them the way we want in the plot (starting with Sunday at the top of the y axis)\n",
    "violations_by_day_of_week = violations_by_day_of_week.reindex([\"Sat\", \"Fri\", \"Thu\", \"Wed\", \"Tue\", \"Mon\", \"Sun\"])\n",
    "\n",
    "# and finally, create the bar plot\n",
    "violations_by_day_of_week.plot(kind='barh', title=\"City of Chicago Red Light Camera Violations By Day Of Week\")"
   ]
  },
  {
   "cell_type": "markdown",
   "metadata": {},
   "source": [
    "## Combining DataFrames\n",
    "\n",
    "Often you will need to combine data from multiple data sets together. There are two types of combinations: concatenations and merges (aka joins).\n",
    "\n",
    "**Concatenating** means taking multiple DataFrame objects and appending their rows together to make a new DataFrame. In general you will do this when your datasets contain the same columns and you are combining observations of the same type together into one dataset that contains all the rows from all the datasets.\n",
    "\n",
    "**Merging** is joining DataFrames together SQL-style by using common values. This is useful when you have multiple datasets with common keys and you want to combine them into one dataset that contains columns from all the datasets being merged."
   ]
  },
  {
   "cell_type": "code",
   "execution_count": 24,
   "metadata": {},
   "outputs": [
    {
     "name": "stdout",
     "output_type": "stream",
     "text": [
      "df1: \n",
      "   A  B\n",
      "0  1  4\n",
      "1  2  5\n",
      "2  3  6\n",
      "\n",
      "df2: \n",
      "   A   B\n",
      "0  7  10\n",
      "1  8  11\n",
      "2  9  12\n",
      "\n",
      "concatenated: \n",
      "   A   B\n",
      "0  1   4\n",
      "1  2   5\n",
      "2  3   6\n",
      "0  7  10\n",
      "1  8  11\n",
      "2  9  12\n"
     ]
    }
   ],
   "source": [
    "# Concatenation example\n",
    "df1 = pd.DataFrame({'A': [1, 2, 3],\n",
    "                    'B': [4, 5, 6]})\n",
    "\n",
    "df2 = pd.DataFrame({'A': [7, 8, 9],\n",
    "                    'B': [10, 11, 12]})\n",
    "\n",
    "print(\"df1: \")\n",
    "print(df1)\n",
    "print()\n",
    "print(\"df2: \")\n",
    "print(df2)\n",
    "print()\n",
    "print(\"concatenated: \")\n",
    "print(pd.concat([df1, df2]))\n",
    "\n"
   ]
  },
  {
   "cell_type": "code",
   "execution_count": 25,
   "metadata": {},
   "outputs": [
    {
     "name": "stdout",
     "output_type": "stream",
     "text": [
      "df1: \n",
      "   A  B\n",
      "0  1  4\n",
      "1  2  5\n",
      "2  3  6\n",
      "\n",
      "df2: \n",
      "   A    C\n",
      "0  1  foo\n",
      "1  2  bar\n",
      "2  3  baz\n",
      "\n",
      "merged: \n",
      "   A  B    C\n",
      "0  1  4  foo\n",
      "1  2  5  bar\n",
      "2  3  6  baz\n"
     ]
    }
   ],
   "source": [
    "# Merge example\n",
    "df1 = pd.DataFrame({'A': [1, 2, 3],\n",
    "                    'B': [4, 5, 6]})\n",
    "\n",
    "df2 = pd.DataFrame({'A': [1, 2, 3],\n",
    "                    'C': [\"foo\", \"bar\", \"baz\"]})\n",
    "\n",
    "print(\"df1: \")\n",
    "print(df1)\n",
    "print()\n",
    "print(\"df2: \")\n",
    "print(df2)\n",
    "print()\n",
    "print(\"merged: \")\n",
    "print(pd.merge(df1, df2))\n"
   ]
  },
  {
   "cell_type": "code",
   "execution_count": null,
   "metadata": {
    "collapsed": true
   },
   "outputs": [],
   "source": []
  }
 ],
 "metadata": {
  "kernelspec": {
   "display_name": "Python 3",
   "language": "python",
   "name": "python3"
  },
  "language_info": {
   "codemirror_mode": {
    "name": "ipython",
    "version": 3
   },
   "file_extension": ".py",
   "mimetype": "text/x-python",
   "name": "python",
   "nbconvert_exporter": "python",
   "pygments_lexer": "ipython3",
   "version": "3.6.1"
  }
 },
 "nbformat": 4,
 "nbformat_minor": 2
}

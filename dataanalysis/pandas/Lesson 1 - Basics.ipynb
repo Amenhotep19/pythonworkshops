{
 "cells": [
  {
   "cell_type": "markdown",
   "metadata": {},
   "source": [
    "## Introduction to Pandas\n",
    "\n",
    "[Pandas](http://pandas.pydata.org/) is the essential data analysis library for Python programmers. It provides fast and flexible data structures built on top of [numpy](http://www.numpy.org/).\n",
    "\n",
    "It is well suited to handle \"tabular\" data (that might be found in a spreadsheet), time series data, or pretty much anything you care to put in a matrix with rows and named columns.\n",
    "\n",
    "It contains two primary data structures, the `Series` (1-dimensional) and the `DataFrame` (2-dimensional) as well as a host of convenience methods for loading and plotting data.\n",
    "\n",
    "The main thing that makes pandas pandas is that all data is *intrinsically aligned*. That means each data structure, `DataFrame` or `Series` has something called an `Index` that links data with a label. That link will always be there (unless you explicitly break or change it) and its what allows pandas to quickly and efficiently \"do the right thing\" when working with data."
   ]
  },
  {
   "cell_type": "code",
   "execution_count": 1,
   "metadata": {
    "collapsed": true
   },
   "outputs": [],
   "source": [
    "# The canonical way to import pandas:\n",
    "import pandas as pd\n",
    "import numpy as np"
   ]
  },
  {
   "cell_type": "markdown",
   "metadata": {},
   "source": [
    "## Creating DataFrames\n",
    "\n",
    "Although we will usually be using pandas to analyze data loaded from another source (like CSV files, database tables, even data from the web), it's important to know how to create DataFrames manually.\n",
    "\n",
    "A `DataFrame` can be constructed with a variety of different kinds of data (lists, 1-d or 2-d `ndarray` objects, etc.) plus  optional **index** (row label) or **columns** (column label) arguments.\n"
   ]
  },
  {
   "cell_type": "code",
   "execution_count": 2,
   "metadata": {},
   "outputs": [
    {
     "data": {
      "text/html": [
       "<div>\n",
       "<style>\n",
       "    .dataframe thead tr:only-child th {\n",
       "        text-align: right;\n",
       "    }\n",
       "\n",
       "    .dataframe thead th {\n",
       "        text-align: left;\n",
       "    }\n",
       "\n",
       "    .dataframe tbody tr th {\n",
       "        vertical-align: top;\n",
       "    }\n",
       "</style>\n",
       "<table border=\"1\" class=\"dataframe\">\n",
       "  <thead>\n",
       "    <tr style=\"text-align: right;\">\n",
       "      <th></th>\n",
       "      <th>Games</th>\n",
       "      <th>Jersey Number</th>\n",
       "      <th>Player</th>\n",
       "      <th>Points</th>\n",
       "    </tr>\n",
       "  </thead>\n",
       "  <tbody>\n",
       "    <tr>\n",
       "      <th>0</th>\n",
       "      <td>74</td>\n",
       "      <td>23</td>\n",
       "      <td>James</td>\n",
       "      <td>1954</td>\n",
       "    </tr>\n",
       "    <tr>\n",
       "      <th>1</th>\n",
       "      <td>72</td>\n",
       "      <td>2</td>\n",
       "      <td>Irving</td>\n",
       "      <td>1816</td>\n",
       "    </tr>\n",
       "    <tr>\n",
       "      <th>2</th>\n",
       "      <td>60</td>\n",
       "      <td>0</td>\n",
       "      <td>Love</td>\n",
       "      <td>1142</td>\n",
       "    </tr>\n",
       "  </tbody>\n",
       "</table>\n",
       "</div>"
      ],
      "text/plain": [
       "   Games  Jersey Number  Player  Points\n",
       "0     74             23   James    1954\n",
       "1     72              2  Irving    1816\n",
       "2     60              0    Love    1142"
      ]
     },
     "execution_count": 2,
     "metadata": {},
     "output_type": "execute_result"
    }
   ],
   "source": [
    "players = ['James', 'Irving', 'Love']\n",
    "\n",
    "data = {\n",
    "    'Player': players,\n",
    "    'Jersey Number': [23, 2, 0],\n",
    "    'Points': [1954, 1816, 1142],\n",
    "    'Games': [74, 72, 60],\n",
    "}\n",
    "\n",
    "df = pd.DataFrame(data)\n",
    "df"
   ]
  },
  {
   "cell_type": "code",
   "execution_count": 3,
   "metadata": {},
   "outputs": [
    {
     "data": {
      "text/html": [
       "<div>\n",
       "<style>\n",
       "    .dataframe thead tr:only-child th {\n",
       "        text-align: right;\n",
       "    }\n",
       "\n",
       "    .dataframe thead th {\n",
       "        text-align: left;\n",
       "    }\n",
       "\n",
       "    .dataframe tbody tr th {\n",
       "        vertical-align: top;\n",
       "    }\n",
       "</style>\n",
       "<table border=\"1\" class=\"dataframe\">\n",
       "  <thead>\n",
       "    <tr style=\"text-align: right;\">\n",
       "      <th></th>\n",
       "      <th>Games</th>\n",
       "      <th>Jersey Number</th>\n",
       "      <th>Points</th>\n",
       "    </tr>\n",
       "  </thead>\n",
       "  <tbody>\n",
       "    <tr>\n",
       "      <th>James</th>\n",
       "      <td>74</td>\n",
       "      <td>23</td>\n",
       "      <td>1954</td>\n",
       "    </tr>\n",
       "    <tr>\n",
       "      <th>Irving</th>\n",
       "      <td>72</td>\n",
       "      <td>2</td>\n",
       "      <td>1816</td>\n",
       "    </tr>\n",
       "    <tr>\n",
       "      <th>Love</th>\n",
       "      <td>60</td>\n",
       "      <td>0</td>\n",
       "      <td>1142</td>\n",
       "    </tr>\n",
       "  </tbody>\n",
       "</table>\n",
       "</div>"
      ],
      "text/plain": [
       "        Games  Jersey Number  Points\n",
       "James      74             23    1954\n",
       "Irving     72              2    1816\n",
       "Love       60              0    1142"
      ]
     },
     "execution_count": 3,
     "metadata": {},
     "output_type": "execute_result"
    }
   ],
   "source": [
    "# Alternatively, we can create a more meaningful index for ourselves out of the data.\n",
    "\n",
    "players = ['James', 'Irving', 'Love']\n",
    "\n",
    "data = {\n",
    "    'Jersey Number': [23, 2, 0],\n",
    "    'Points': [1954, 1816, 1142],\n",
    "    'Games': [74, 72, 60],\n",
    "}\n",
    "\n",
    "df = pd.DataFrame(data, index=players)\n",
    "df"
   ]
  },
  {
   "cell_type": "markdown",
   "metadata": {},
   "source": [
    "We can look at an individual column of a DataFrame by putting its name in square brackets."
   ]
  },
  {
   "cell_type": "code",
   "execution_count": 4,
   "metadata": {},
   "outputs": [
    {
     "data": {
      "text/plain": [
       "James     74\n",
       "Irving    72\n",
       "Love      60\n",
       "Name: Games, dtype: int64"
      ]
     },
     "execution_count": 4,
     "metadata": {},
     "output_type": "execute_result"
    }
   ],
   "source": [
    "df[\"Games\"]"
   ]
  },
  {
   "cell_type": "markdown",
   "metadata": {},
   "source": [
    "We can create new columns by just assigning to them:"
   ]
  },
  {
   "cell_type": "code",
   "execution_count": 5,
   "metadata": {},
   "outputs": [
    {
     "data": {
      "text/html": [
       "<div>\n",
       "<style>\n",
       "    .dataframe thead tr:only-child th {\n",
       "        text-align: right;\n",
       "    }\n",
       "\n",
       "    .dataframe thead th {\n",
       "        text-align: left;\n",
       "    }\n",
       "\n",
       "    .dataframe tbody tr th {\n",
       "        vertical-align: top;\n",
       "    }\n",
       "</style>\n",
       "<table border=\"1\" class=\"dataframe\">\n",
       "  <thead>\n",
       "    <tr style=\"text-align: right;\">\n",
       "      <th></th>\n",
       "      <th>Games</th>\n",
       "      <th>Jersey Number</th>\n",
       "      <th>Points</th>\n",
       "      <th>Team</th>\n",
       "      <th>Year</th>\n",
       "    </tr>\n",
       "  </thead>\n",
       "  <tbody>\n",
       "    <tr>\n",
       "      <th>James</th>\n",
       "      <td>74</td>\n",
       "      <td>23</td>\n",
       "      <td>1954</td>\n",
       "      <td>Cavaliers</td>\n",
       "      <td>2016</td>\n",
       "    </tr>\n",
       "    <tr>\n",
       "      <th>Irving</th>\n",
       "      <td>72</td>\n",
       "      <td>2</td>\n",
       "      <td>1816</td>\n",
       "      <td>Cavaliers</td>\n",
       "      <td>2016</td>\n",
       "    </tr>\n",
       "    <tr>\n",
       "      <th>Love</th>\n",
       "      <td>60</td>\n",
       "      <td>0</td>\n",
       "      <td>1142</td>\n",
       "      <td>Cavaliers</td>\n",
       "      <td>2016</td>\n",
       "    </tr>\n",
       "  </tbody>\n",
       "</table>\n",
       "</div>"
      ],
      "text/plain": [
       "        Games  Jersey Number  Points       Team  Year\n",
       "James      74             23    1954  Cavaliers  2016\n",
       "Irving     72              2    1816  Cavaliers  2016\n",
       "Love       60              0    1142  Cavaliers  2016"
      ]
     },
     "execution_count": 5,
     "metadata": {},
     "output_type": "execute_result"
    }
   ],
   "source": [
    "df[\"Team\"] = \"Cavaliers\"\n",
    "df[\"Year\"] = 2016\n",
    "df"
   ]
  },
  {
   "cell_type": "markdown",
   "metadata": {},
   "source": [
    "We can modify existing columns through assignment:"
   ]
  },
  {
   "cell_type": "code",
   "execution_count": 6,
   "metadata": {},
   "outputs": [
    {
     "data": {
      "text/html": [
       "<div>\n",
       "<style>\n",
       "    .dataframe thead tr:only-child th {\n",
       "        text-align: right;\n",
       "    }\n",
       "\n",
       "    .dataframe thead th {\n",
       "        text-align: left;\n",
       "    }\n",
       "\n",
       "    .dataframe tbody tr th {\n",
       "        vertical-align: top;\n",
       "    }\n",
       "</style>\n",
       "<table border=\"1\" class=\"dataframe\">\n",
       "  <thead>\n",
       "    <tr style=\"text-align: right;\">\n",
       "      <th></th>\n",
       "      <th>Games</th>\n",
       "      <th>Jersey Number</th>\n",
       "      <th>Points</th>\n",
       "      <th>Team</th>\n",
       "      <th>Year</th>\n",
       "    </tr>\n",
       "  </thead>\n",
       "  <tbody>\n",
       "    <tr>\n",
       "      <th>James</th>\n",
       "      <td>74</td>\n",
       "      <td>23</td>\n",
       "      <td>1954</td>\n",
       "      <td>Cavaliers</td>\n",
       "      <td>2017</td>\n",
       "    </tr>\n",
       "    <tr>\n",
       "      <th>Irving</th>\n",
       "      <td>72</td>\n",
       "      <td>2</td>\n",
       "      <td>1816</td>\n",
       "      <td>Cavaliers</td>\n",
       "      <td>2017</td>\n",
       "    </tr>\n",
       "    <tr>\n",
       "      <th>Love</th>\n",
       "      <td>60</td>\n",
       "      <td>0</td>\n",
       "      <td>1142</td>\n",
       "      <td>Cavaliers</td>\n",
       "      <td>2017</td>\n",
       "    </tr>\n",
       "  </tbody>\n",
       "</table>\n",
       "</div>"
      ],
      "text/plain": [
       "        Games  Jersey Number  Points       Team  Year\n",
       "James      74             23    1954  Cavaliers  2017\n",
       "Irving     72              2    1816  Cavaliers  2017\n",
       "Love       60              0    1142  Cavaliers  2017"
      ]
     },
     "execution_count": 6,
     "metadata": {},
     "output_type": "execute_result"
    }
   ],
   "source": [
    "df[\"Year\"] = df[\"Year\"] + 1\n",
    "df"
   ]
  },
  {
   "cell_type": "markdown",
   "metadata": {},
   "source": [
    "We can easily combine columns in the DataFrame to make new ones as well:"
   ]
  },
  {
   "cell_type": "code",
   "execution_count": 7,
   "metadata": {},
   "outputs": [
    {
     "data": {
      "text/html": [
       "<div>\n",
       "<style>\n",
       "    .dataframe thead tr:only-child th {\n",
       "        text-align: right;\n",
       "    }\n",
       "\n",
       "    .dataframe thead th {\n",
       "        text-align: left;\n",
       "    }\n",
       "\n",
       "    .dataframe tbody tr th {\n",
       "        vertical-align: top;\n",
       "    }\n",
       "</style>\n",
       "<table border=\"1\" class=\"dataframe\">\n",
       "  <thead>\n",
       "    <tr style=\"text-align: right;\">\n",
       "      <th></th>\n",
       "      <th>Games</th>\n",
       "      <th>Jersey Number</th>\n",
       "      <th>Points</th>\n",
       "      <th>Team</th>\n",
       "      <th>Year</th>\n",
       "      <th>Points Per Game</th>\n",
       "    </tr>\n",
       "  </thead>\n",
       "  <tbody>\n",
       "    <tr>\n",
       "      <th>James</th>\n",
       "      <td>74</td>\n",
       "      <td>23</td>\n",
       "      <td>1954</td>\n",
       "      <td>Cavaliers</td>\n",
       "      <td>2017</td>\n",
       "      <td>26.405405</td>\n",
       "    </tr>\n",
       "    <tr>\n",
       "      <th>Irving</th>\n",
       "      <td>72</td>\n",
       "      <td>2</td>\n",
       "      <td>1816</td>\n",
       "      <td>Cavaliers</td>\n",
       "      <td>2017</td>\n",
       "      <td>25.222222</td>\n",
       "    </tr>\n",
       "    <tr>\n",
       "      <th>Love</th>\n",
       "      <td>60</td>\n",
       "      <td>0</td>\n",
       "      <td>1142</td>\n",
       "      <td>Cavaliers</td>\n",
       "      <td>2017</td>\n",
       "      <td>19.033333</td>\n",
       "    </tr>\n",
       "  </tbody>\n",
       "</table>\n",
       "</div>"
      ],
      "text/plain": [
       "        Games  Jersey Number  Points       Team  Year  Points Per Game\n",
       "James      74             23    1954  Cavaliers  2017        26.405405\n",
       "Irving     72              2    1816  Cavaliers  2017        25.222222\n",
       "Love       60              0    1142  Cavaliers  2017        19.033333"
      ]
     },
     "execution_count": 7,
     "metadata": {},
     "output_type": "execute_result"
    }
   ],
   "source": [
    "df[\"Points Per Game\"] = df[\"Points\"] / df[\"Games\"]\n",
    "df"
   ]
  },
  {
   "cell_type": "markdown",
   "metadata": {},
   "source": [
    "### About DataFrames\n",
    "\n",
    "As you can see above, DataFrames contain \"tabular\" (2-dimensional) data, meaning they have rows and columns.\n",
    "\n",
    "Each colum has a name, and each row has a label (by default, the labels are integers). This set of row labels in pandas is called an `Index`.\n",
    "\n",
    "This allows us to address any \"cell\" in the DataFrame by its row label and column name.\n",
    "\n",
    "Pandas DataFrames have several properties for addressing and selection, `ix`, `iloc`, and `loc`. Collectively these are called \"indexers\". `ix` is now deprecated, and the preferred method is `loc`.\n",
    "\n",
    "`loc` is used for label-based selection, `iloc` for integer position-based selection."
   ]
  },
  {
   "cell_type": "code",
   "execution_count": 8,
   "metadata": {},
   "outputs": [
    {
     "data": {
      "text/plain": [
       "Games                     74\n",
       "Jersey Number             23\n",
       "Points                  1954\n",
       "Team               Cavaliers\n",
       "Year                    2017\n",
       "Points Per Game      26.4054\n",
       "Name: James, dtype: object"
      ]
     },
     "execution_count": 8,
     "metadata": {},
     "output_type": "execute_result"
    }
   ],
   "source": [
    "# Select a row by label value\n",
    "df.loc['James']"
   ]
  },
  {
   "cell_type": "code",
   "execution_count": 9,
   "metadata": {},
   "outputs": [
    {
     "data": {
      "text/plain": [
       "Games                     72\n",
       "Jersey Number              2\n",
       "Points                  1816\n",
       "Team               Cavaliers\n",
       "Year                    2017\n",
       "Points Per Game      25.2222\n",
       "Name: Irving, dtype: object"
      ]
     },
     "execution_count": 9,
     "metadata": {},
     "output_type": "execute_result"
    }
   ],
   "source": [
    "# Select a row by position\n",
    "df.iloc[1]"
   ]
  },
  {
   "cell_type": "markdown",
   "metadata": {},
   "source": [
    "`loc` accepts the following types of inputs:\n",
    "\n",
    "- a single label (as above)\n",
    "- a list or array of labels, e.g. ['a', 'b', 'c']\n",
    "- a slice object with labels e.g. 'a':'c' (note that contrary to usual python slices, both the start and the stop are included!)\n",
    "- A boolean array\n",
    "- A callable function with one argument (the calling Series, DataFrame or Panel) and that returns valid output for indexing (one of the above)\n",
    "\n",
    "`loc` and `iloc` also take an optional second parameter, the list of column names to return:"
   ]
  },
  {
   "cell_type": "code",
   "execution_count": 10,
   "metadata": {},
   "outputs": [
    {
     "data": {
      "text/html": [
       "<div>\n",
       "<style>\n",
       "    .dataframe thead tr:only-child th {\n",
       "        text-align: right;\n",
       "    }\n",
       "\n",
       "    .dataframe thead th {\n",
       "        text-align: left;\n",
       "    }\n",
       "\n",
       "    .dataframe tbody tr th {\n",
       "        vertical-align: top;\n",
       "    }\n",
       "</style>\n",
       "<table border=\"1\" class=\"dataframe\">\n",
       "  <thead>\n",
       "    <tr style=\"text-align: right;\">\n",
       "      <th></th>\n",
       "      <th>Games</th>\n",
       "      <th>Points</th>\n",
       "      <th>Year</th>\n",
       "    </tr>\n",
       "  </thead>\n",
       "  <tbody>\n",
       "    <tr>\n",
       "      <th>Irving</th>\n",
       "      <td>72</td>\n",
       "      <td>1816</td>\n",
       "      <td>2017</td>\n",
       "    </tr>\n",
       "    <tr>\n",
       "      <th>Love</th>\n",
       "      <td>60</td>\n",
       "      <td>1142</td>\n",
       "      <td>2017</td>\n",
       "    </tr>\n",
       "  </tbody>\n",
       "</table>\n",
       "</div>"
      ],
      "text/plain": [
       "        Games  Points  Year\n",
       "Irving     72    1816  2017\n",
       "Love       60    1142  2017"
      ]
     },
     "execution_count": 10,
     "metadata": {},
     "output_type": "execute_result"
    }
   ],
   "source": [
    "df.loc[['Irving', 'Love'], ['Games', 'Points', 'Year']]"
   ]
  },
  {
   "cell_type": "markdown",
   "metadata": {},
   "source": [
    "## Loading Data\n",
    "\n",
    "Pandas provides a bunch of functions for reading data from a variety of sources, including CSV, Excel files, SQL databases, HDF5, even your computer's clipboard! The always-comprehensive pandas documentation has more info here: [https://pandas.pydata.org/pandas-docs/stable/io.html](https://pandas.pydata.org/pandas-docs/stable/io.html).\n",
    "\n",
    "Let's read a local CSV dataset into a dataframe using the `read_csv` function."
   ]
  },
  {
   "cell_type": "code",
   "execution_count": 11,
   "metadata": {
    "collapsed": true
   },
   "outputs": [],
   "source": [
    "df = pd.read_csv(\"data/Speed_Camera_Violations.csv\")"
   ]
  },
  {
   "cell_type": "markdown",
   "metadata": {},
   "source": [
    "The variable `df` (which is a common abbreviation for \"DataFrame\") now contains a pandas `DataFrame` object. This particular `DataFrame` contains speed camera violation data provided by the city of Chicago. This dataset is available at [https://catalog.data.gov/dataset/speed-camera-violations-997eb](https://catalog.data.gov/dataset/speed-camera-violations-997eb).\n",
    "\n",
    "Let's start inspecting it by using the `head` method to look at the first five rows."
   ]
  },
  {
   "cell_type": "code",
   "execution_count": 12,
   "metadata": {},
   "outputs": [
    {
     "data": {
      "text/html": [
       "<div>\n",
       "<style>\n",
       "    .dataframe thead tr:only-child th {\n",
       "        text-align: right;\n",
       "    }\n",
       "\n",
       "    .dataframe thead th {\n",
       "        text-align: left;\n",
       "    }\n",
       "\n",
       "    .dataframe tbody tr th {\n",
       "        vertical-align: top;\n",
       "    }\n",
       "</style>\n",
       "<table border=\"1\" class=\"dataframe\">\n",
       "  <thead>\n",
       "    <tr style=\"text-align: right;\">\n",
       "      <th></th>\n",
       "      <th>ADDRESS</th>\n",
       "      <th>CAMERA ID</th>\n",
       "      <th>VIOLATION DATE</th>\n",
       "      <th>VIOLATIONS</th>\n",
       "      <th>X COORDINATE</th>\n",
       "      <th>Y COORDINATE</th>\n",
       "      <th>LATITUDE</th>\n",
       "      <th>LONGITUDE</th>\n",
       "      <th>LOCATION</th>\n",
       "    </tr>\n",
       "  </thead>\n",
       "  <tbody>\n",
       "    <tr>\n",
       "      <th>0</th>\n",
       "      <td>7738 S WESTERN</td>\n",
       "      <td>CHI065</td>\n",
       "      <td>07/08/2014</td>\n",
       "      <td>65</td>\n",
       "      <td>NaN</td>\n",
       "      <td>NaN</td>\n",
       "      <td>NaN</td>\n",
       "      <td>NaN</td>\n",
       "      <td>NaN</td>\n",
       "    </tr>\n",
       "    <tr>\n",
       "      <th>1</th>\n",
       "      <td>1111 N HUMBOLDT</td>\n",
       "      <td>CHI010</td>\n",
       "      <td>07/16/2014</td>\n",
       "      <td>56</td>\n",
       "      <td>NaN</td>\n",
       "      <td>NaN</td>\n",
       "      <td>NaN</td>\n",
       "      <td>NaN</td>\n",
       "      <td>NaN</td>\n",
       "    </tr>\n",
       "    <tr>\n",
       "      <th>2</th>\n",
       "      <td>5520 S WESTERN</td>\n",
       "      <td>CHI069</td>\n",
       "      <td>07/08/2014</td>\n",
       "      <td>10</td>\n",
       "      <td>NaN</td>\n",
       "      <td>NaN</td>\n",
       "      <td>NaN</td>\n",
       "      <td>NaN</td>\n",
       "      <td>NaN</td>\n",
       "    </tr>\n",
       "    <tr>\n",
       "      <th>3</th>\n",
       "      <td>1111 N HUMBOLDT</td>\n",
       "      <td>CHI010</td>\n",
       "      <td>07/26/2014</td>\n",
       "      <td>101</td>\n",
       "      <td>NaN</td>\n",
       "      <td>NaN</td>\n",
       "      <td>NaN</td>\n",
       "      <td>NaN</td>\n",
       "      <td>NaN</td>\n",
       "    </tr>\n",
       "    <tr>\n",
       "      <th>4</th>\n",
       "      <td>1111 N HUMBOLDT</td>\n",
       "      <td>CHI010</td>\n",
       "      <td>07/27/2014</td>\n",
       "      <td>92</td>\n",
       "      <td>NaN</td>\n",
       "      <td>NaN</td>\n",
       "      <td>NaN</td>\n",
       "      <td>NaN</td>\n",
       "      <td>NaN</td>\n",
       "    </tr>\n",
       "  </tbody>\n",
       "</table>\n",
       "</div>"
      ],
      "text/plain": [
       "           ADDRESS CAMERA ID VIOLATION DATE  VIOLATIONS  X COORDINATE  \\\n",
       "0   7738 S WESTERN    CHI065     07/08/2014          65           NaN   \n",
       "1  1111 N HUMBOLDT    CHI010     07/16/2014          56           NaN   \n",
       "2   5520 S WESTERN    CHI069     07/08/2014          10           NaN   \n",
       "3  1111 N HUMBOLDT    CHI010     07/26/2014         101           NaN   \n",
       "4  1111 N HUMBOLDT    CHI010     07/27/2014          92           NaN   \n",
       "\n",
       "   Y COORDINATE  LATITUDE  LONGITUDE LOCATION  \n",
       "0           NaN       NaN        NaN      NaN  \n",
       "1           NaN       NaN        NaN      NaN  \n",
       "2           NaN       NaN        NaN      NaN  \n",
       "3           NaN       NaN        NaN      NaN  \n",
       "4           NaN       NaN        NaN      NaN  "
      ]
     },
     "execution_count": 12,
     "metadata": {},
     "output_type": "execute_result"
    }
   ],
   "source": [
    "df.head()"
   ]
  },
  {
   "cell_type": "code",
   "execution_count": 13,
   "metadata": {},
   "outputs": [
    {
     "data": {
      "text/plain": [
       "ADDRESS           7738 S WESTERN\n",
       "CAMERA ID                 CHI065\n",
       "VIOLATION DATE        07/08/2014\n",
       "VIOLATIONS                    65\n",
       "X COORDINATE                 NaN\n",
       "Y COORDINATE                 NaN\n",
       "LATITUDE                     NaN\n",
       "LONGITUDE                    NaN\n",
       "LOCATION                     NaN\n",
       "Name: 0, dtype: object"
      ]
     },
     "execution_count": 13,
     "metadata": {},
     "output_type": "execute_result"
    }
   ],
   "source": [
    "# display just the first row (note the index is zero-based, meaning the first row is row 0)\n",
    "df.loc[0]"
   ]
  },
  {
   "cell_type": "code",
   "execution_count": 14,
   "metadata": {
    "scrolled": true
   },
   "outputs": [
    {
     "data": {
      "text/plain": [
       "0               7738 S WESTERN\n",
       "1              1111 N HUMBOLDT\n",
       "2               5520 S WESTERN\n",
       "3              1111 N HUMBOLDT\n",
       "4              1111 N HUMBOLDT\n",
       "5               5529 S WESTERN\n",
       "6              1111 N HUMBOLDT\n",
       "7               5520 S WESTERN\n",
       "8               5520 S WESTERN\n",
       "9               5520 S WESTERN\n",
       "10              5529 S WESTERN\n",
       "11              5520 S WESTERN\n",
       "12              5529 S WESTERN\n",
       "13              5529 S WESTERN\n",
       "14              5520 S WESTERN\n",
       "15             1111 N HUMBOLDT\n",
       "16             1111 N HUMBOLDT\n",
       "17              5520 S WESTERN\n",
       "18             1111 N HUMBOLDT\n",
       "19              7739 S WESTERN\n",
       "20             1111 N HUMBOLDT\n",
       "21              5520 S WESTERN\n",
       "22             1111 N HUMBOLDT\n",
       "23              5529 S WESTERN\n",
       "24             1111 N HUMBOLDT\n",
       "25             1111 N HUMBOLDT\n",
       "26              7738 S WESTERN\n",
       "27              5529 S WESTERN\n",
       "28              5529 S WESTERN\n",
       "29              5529 S WESTERN\n",
       "                  ...         \n",
       "113966    1315 W GARFIELD BLVD\n",
       "113967    1315 W GARFIELD BLVD\n",
       "113968     4831 W LAWRENCE AVE\n",
       "113969          3843 S WESTERN\n",
       "113970          1901 E 75TH ST\n",
       "113971          3843 S WESTERN\n",
       "113972        19 W CHICAGO AVE\n",
       "113973        19 W CHICAGO AVE\n",
       "113974        5885 N RIDGE AVE\n",
       "113975        5885 N RIDGE AVE\n",
       "113976          3646 W MADISON\n",
       "113977          1901 E 75TH ST\n",
       "113978          3843 S WESTERN\n",
       "113979          3646 W MADISON\n",
       "113980    1315 W GARFIELD BLVD\n",
       "113981      3111 N ASHLAND AVE\n",
       "113982    1315 W GARFIELD BLVD\n",
       "113983        5885 N RIDGE AVE\n",
       "113984          3843 S WESTERN\n",
       "113985    10318 S INDIANAPOLIS\n",
       "113986        5885 N RIDGE AVE\n",
       "113987     4831 W LAWRENCE AVE\n",
       "113988             3851 W 79th\n",
       "113989          3843 S WESTERN\n",
       "113990        19 W CHICAGO AVE\n",
       "113991    1315 W GARFIELD BLVD\n",
       "113992      2115 S WESTERN AVE\n",
       "113993        4843 W FULLERTON\n",
       "113994    10318 S INDIANAPOLIS\n",
       "113995             3851 W 79th\n",
       "Name: ADDRESS, Length: 113996, dtype: object"
      ]
     },
     "execution_count": 14,
     "metadata": {},
     "output_type": "execute_result"
    }
   ],
   "source": [
    "# We can also address a single column of the DataFrame using its name in square brackets:\n",
    "df[\"ADDRESS\"]"
   ]
  },
  {
   "cell_type": "code",
   "execution_count": 15,
   "metadata": {},
   "outputs": [
    {
     "data": {
      "text/plain": [
       "'1111 N HUMBOLDT'"
      ]
     },
     "execution_count": 15,
     "metadata": {},
     "output_type": "execute_result"
    }
   ],
   "source": [
    "# We can combine the row-based and column-based access with the `loc` indexer to select specific elements\n",
    "df.loc[1, \"ADDRESS\"]"
   ]
  },
  {
   "cell_type": "code",
   "execution_count": 16,
   "metadata": {},
   "outputs": [
    {
     "data": {
      "text/html": [
       "<div>\n",
       "<style>\n",
       "    .dataframe thead tr:only-child th {\n",
       "        text-align: right;\n",
       "    }\n",
       "\n",
       "    .dataframe thead th {\n",
       "        text-align: left;\n",
       "    }\n",
       "\n",
       "    .dataframe tbody tr th {\n",
       "        vertical-align: top;\n",
       "    }\n",
       "</style>\n",
       "<table border=\"1\" class=\"dataframe\">\n",
       "  <thead>\n",
       "    <tr style=\"text-align: right;\">\n",
       "      <th></th>\n",
       "      <th>ADDRESS</th>\n",
       "      <th>VIOLATION DATE</th>\n",
       "    </tr>\n",
       "  </thead>\n",
       "  <tbody>\n",
       "    <tr>\n",
       "      <th>1000</th>\n",
       "      <td>2443 N ASHLAND</td>\n",
       "      <td>10/22/2014</td>\n",
       "    </tr>\n",
       "    <tr>\n",
       "      <th>1001</th>\n",
       "      <td>1111 N HUMBOLDT</td>\n",
       "      <td>10/22/2014</td>\n",
       "    </tr>\n",
       "    <tr>\n",
       "      <th>1002</th>\n",
       "      <td>515 S CENTRAL AVE</td>\n",
       "      <td>10/22/2014</td>\n",
       "    </tr>\n",
       "    <tr>\n",
       "      <th>1003</th>\n",
       "      <td>4433 N WESTERN</td>\n",
       "      <td>10/22/2014</td>\n",
       "    </tr>\n",
       "    <tr>\n",
       "      <th>1004</th>\n",
       "      <td>6909 S KEDZIE</td>\n",
       "      <td>10/22/2014</td>\n",
       "    </tr>\n",
       "    <tr>\n",
       "      <th>1005</th>\n",
       "      <td>2513 W 55TH</td>\n",
       "      <td>10/22/2014</td>\n",
       "    </tr>\n",
       "    <tr>\n",
       "      <th>1006</th>\n",
       "      <td>2440 W 51ST ST</td>\n",
       "      <td>10/22/2014</td>\n",
       "    </tr>\n",
       "    <tr>\n",
       "      <th>1007</th>\n",
       "      <td>4965 S ARCHER</td>\n",
       "      <td>10/22/2014</td>\n",
       "    </tr>\n",
       "    <tr>\n",
       "      <th>1008</th>\n",
       "      <td>5440 W GRAND</td>\n",
       "      <td>10/22/2014</td>\n",
       "    </tr>\n",
       "    <tr>\n",
       "      <th>1009</th>\n",
       "      <td>6443 W BELMONT AVE</td>\n",
       "      <td>10/22/2014</td>\n",
       "    </tr>\n",
       "    <tr>\n",
       "      <th>1010</th>\n",
       "      <td>6510 W BRYN MAWR AVE</td>\n",
       "      <td>10/22/2014</td>\n",
       "    </tr>\n",
       "  </tbody>\n",
       "</table>\n",
       "</div>"
      ],
      "text/plain": [
       "                   ADDRESS VIOLATION DATE\n",
       "1000        2443 N ASHLAND     10/22/2014\n",
       "1001       1111 N HUMBOLDT     10/22/2014\n",
       "1002     515 S CENTRAL AVE     10/22/2014\n",
       "1003        4433 N WESTERN     10/22/2014\n",
       "1004         6909 S KEDZIE     10/22/2014\n",
       "1005           2513 W 55TH     10/22/2014\n",
       "1006        2440 W 51ST ST     10/22/2014\n",
       "1007         4965 S ARCHER     10/22/2014\n",
       "1008          5440 W GRAND     10/22/2014\n",
       "1009    6443 W BELMONT AVE     10/22/2014\n",
       "1010  6510 W BRYN MAWR AVE     10/22/2014"
      ]
     },
     "execution_count": 16,
     "metadata": {},
     "output_type": "execute_result"
    }
   ],
   "source": [
    "# Or a set of rows and columns. Note we can ask for a list of columns in any order:\n",
    "df.loc[1000:1010, [\"ADDRESS\", \"VIOLATION DATE\"]]"
   ]
  },
  {
   "cell_type": "markdown",
   "metadata": {},
   "source": [
    "## About Series\n",
    "\n",
    "Each column in the DataFrame is a `Series` object. You can think of a `Series` as an `ndarray` from numpy with an `Index` (the same row-label functionality from `DataFrame`).\n",
    "\n",
    "The important thing to remember is that each element in the `Series` has the same type, just like an `ndarray`.\n",
    "\n",
    "The `dtype` property of a `Series` tells us what its type is."
   ]
  },
  {
   "cell_type": "code",
   "execution_count": 17,
   "metadata": {},
   "outputs": [
    {
     "name": "stdout",
     "output_type": "stream",
     "text": [
      "Index(['ADDRESS', 'CAMERA ID', 'VIOLATION DATE', 'VIOLATIONS', 'X COORDINATE',\n",
      "       'Y COORDINATE', 'LATITUDE', 'LONGITUDE', 'LOCATION'],\n",
      "      dtype='object')\n",
      "\n",
      "The dtype of ADDRESS is object.\n",
      "The dtype of CAMERA ID is object.\n",
      "The dtype of VIOLATION DATE is object.\n",
      "The dtype of VIOLATIONS is int64.\n",
      "The dtype of X COORDINATE is float64.\n",
      "The dtype of Y COORDINATE is float64.\n",
      "The dtype of LATITUDE is float64.\n",
      "The dtype of LONGITUDE is float64.\n",
      "The dtype of LOCATION is object.\n"
     ]
    }
   ],
   "source": [
    "print(df.columns)\n",
    "print()\n",
    "for col in df.columns:\n",
    "    print(\"The dtype of %s is %s.\" % (col, df[col].dtype))"
   ]
  },
  {
   "cell_type": "markdown",
   "metadata": {},
   "source": [
    "## Data types\n",
    "\n",
    "Much of pandas functionality depends on the data types of the `Series` it's working with. For instance we can get summary measures and do numpy-like parallel operations on numeric types (`int64`, `float64`), or do date-based arithmetic with `date` series.\n",
    "\n",
    "Notice above that the data type of the `VIOLATION DATE` column is \"object\", which, just like in numpy, means it is a generic type that isn't very useful. Let's turn those date strings into actual date objects, which are much better to work with.\n"
   ]
  },
  {
   "cell_type": "code",
   "execution_count": 18,
   "metadata": {},
   "outputs": [
    {
     "data": {
      "text/plain": [
       "0   2014-07-08\n",
       "1   2014-07-16\n",
       "2   2014-07-08\n",
       "3   2014-07-26\n",
       "4   2014-07-27\n",
       "Name: VIOLATION DATE, dtype: datetime64[ns]"
      ]
     },
     "execution_count": 18,
     "metadata": {},
     "output_type": "execute_result"
    }
   ],
   "source": [
    "# given a Series, pd.to_datetime returns a new Series with the string dates parsed as actual dates.\n",
    "# We can then directly assign that Series back to the original column in our dataframe and pandas' magical Index\n",
    "# functionality will make it all line up properly.\n",
    "df[\"VIOLATION DATE\"] = pd.to_datetime(df[\"VIOLATION DATE\"], format=\"%m/%d/%Y\")\n",
    "\n",
    "df[\"VIOLATION DATE\"].head()"
   ]
  },
  {
   "cell_type": "markdown",
   "metadata": {},
   "source": [
    "## Filtering\n",
    "\n",
    "Now that we have a date column, we can do things like filter to only look at violations in 2015.\n",
    "\n",
    "To do this, we'll create a \"filter\", essentially a boolean expression that works just like a mask or \"fancy indexing\" expression in numpy, and apply that filter to our dataframe to get just the rows we want.\n"
   ]
  },
  {
   "cell_type": "code",
   "execution_count": 19,
   "metadata": {},
   "outputs": [
    {
     "name": "stdout",
     "output_type": "stream",
     "text": [
      "0    False\n",
      "1    False\n",
      "2    False\n",
      "3    False\n",
      "4    False\n",
      "Name: VIOLATION DATE, dtype: bool\n",
      "\n",
      "113991     True\n",
      "113992     True\n",
      "113993    False\n",
      "113994     True\n",
      "113995     True\n",
      "Name: VIOLATION DATE, dtype: bool\n"
     ]
    },
    {
     "data": {
      "text/html": [
       "<div>\n",
       "<style>\n",
       "    .dataframe thead tr:only-child th {\n",
       "        text-align: right;\n",
       "    }\n",
       "\n",
       "    .dataframe thead th {\n",
       "        text-align: left;\n",
       "    }\n",
       "\n",
       "    .dataframe tbody tr th {\n",
       "        vertical-align: top;\n",
       "    }\n",
       "</style>\n",
       "<table border=\"1\" class=\"dataframe\">\n",
       "  <thead>\n",
       "    <tr style=\"text-align: right;\">\n",
       "      <th></th>\n",
       "      <th>ADDRESS</th>\n",
       "      <th>CAMERA ID</th>\n",
       "      <th>VIOLATION DATE</th>\n",
       "      <th>VIOLATIONS</th>\n",
       "      <th>X COORDINATE</th>\n",
       "      <th>Y COORDINATE</th>\n",
       "      <th>LATITUDE</th>\n",
       "      <th>LONGITUDE</th>\n",
       "      <th>LOCATION</th>\n",
       "    </tr>\n",
       "  </thead>\n",
       "  <tbody>\n",
       "    <tr>\n",
       "      <th>285</th>\n",
       "      <td>2912 W ROOSEVELT</td>\n",
       "      <td>CHI020</td>\n",
       "      <td>2015-01-07</td>\n",
       "      <td>8</td>\n",
       "      <td>1.157040e+06</td>\n",
       "      <td>1.894612e+06</td>\n",
       "      <td>41.866585</td>\n",
       "      <td>-87.698962</td>\n",
       "      <td>(41.86658528313424, -87.69896237494204)</td>\n",
       "    </tr>\n",
       "    <tr>\n",
       "      <th>286</th>\n",
       "      <td>5816 W JACKSON</td>\n",
       "      <td>CHI058</td>\n",
       "      <td>2015-01-07</td>\n",
       "      <td>22</td>\n",
       "      <td>1.137565e+06</td>\n",
       "      <td>1.898341e+06</td>\n",
       "      <td>41.877189</td>\n",
       "      <td>-87.770370</td>\n",
       "      <td>(41.87718940463045, -87.7703695017756)</td>\n",
       "    </tr>\n",
       "    <tr>\n",
       "      <th>287</th>\n",
       "      <td>57 E 95TH</td>\n",
       "      <td>CHI035</td>\n",
       "      <td>2015-01-07</td>\n",
       "      <td>4</td>\n",
       "      <td>1.178587e+06</td>\n",
       "      <td>1.841967e+06</td>\n",
       "      <td>41.721657</td>\n",
       "      <td>-87.621463</td>\n",
       "      <td>(41.72165713317433, -87.62146289865515)</td>\n",
       "    </tr>\n",
       "    <tr>\n",
       "      <th>288</th>\n",
       "      <td>324 S KEDZIE AVE</td>\n",
       "      <td>CHI123</td>\n",
       "      <td>2015-01-07</td>\n",
       "      <td>4</td>\n",
       "      <td>1.155058e+06</td>\n",
       "      <td>1.898247e+06</td>\n",
       "      <td>41.876599</td>\n",
       "      <td>-87.706143</td>\n",
       "      <td>(41.87659894232968, -87.70614267856668)</td>\n",
       "    </tr>\n",
       "    <tr>\n",
       "      <th>289</th>\n",
       "      <td>5471 W HIGGINS</td>\n",
       "      <td>CHI102</td>\n",
       "      <td>2015-01-07</td>\n",
       "      <td>14</td>\n",
       "      <td>1.139072e+06</td>\n",
       "      <td>1.931898e+06</td>\n",
       "      <td>41.969247</td>\n",
       "      <td>-87.764019</td>\n",
       "      <td>(41.96924714863934, -87.76401945149458)</td>\n",
       "    </tr>\n",
       "  </tbody>\n",
       "</table>\n",
       "</div>"
      ],
      "text/plain": [
       "              ADDRESS CAMERA ID VIOLATION DATE  VIOLATIONS  X COORDINATE  \\\n",
       "285  2912 W ROOSEVELT    CHI020     2015-01-07           8  1.157040e+06   \n",
       "286    5816 W JACKSON    CHI058     2015-01-07          22  1.137565e+06   \n",
       "287         57 E 95TH    CHI035     2015-01-07           4  1.178587e+06   \n",
       "288  324 S KEDZIE AVE    CHI123     2015-01-07           4  1.155058e+06   \n",
       "289    5471 W HIGGINS    CHI102     2015-01-07          14  1.139072e+06   \n",
       "\n",
       "     Y COORDINATE   LATITUDE  LONGITUDE  \\\n",
       "285  1.894612e+06  41.866585 -87.698962   \n",
       "286  1.898341e+06  41.877189 -87.770370   \n",
       "287  1.841967e+06  41.721657 -87.621463   \n",
       "288  1.898247e+06  41.876599 -87.706143   \n",
       "289  1.931898e+06  41.969247 -87.764019   \n",
       "\n",
       "                                    LOCATION  \n",
       "285  (41.86658528313424, -87.69896237494204)  \n",
       "286   (41.87718940463045, -87.7703695017756)  \n",
       "287  (41.72165713317433, -87.62146289865515)  \n",
       "288  (41.87659894232968, -87.70614267856668)  \n",
       "289  (41.96924714863934, -87.76401945149458)  "
      ]
     },
     "execution_count": 19,
     "metadata": {},
     "output_type": "execute_result"
    }
   ],
   "source": [
    "import datetime\n",
    "\n",
    "# note the extra parentheses below, these are necessary when creating a boolean filter expression with\n",
    "# multiple comparisons like this\n",
    "date_filter = ((df[\"VIOLATION DATE\"] >= datetime.date(2015,1,1)) & (df[\"VIOLATION DATE\"] < datetime.date(2016,1,1)))\n",
    "\n",
    "# date_filter now contains a series of true/false values that we can use to extract just the values we are interested in\n",
    "# by putting it in square brackets after the dataframe variable.\n",
    "print(date_filter.head())\n",
    "print()\n",
    "print(date_filter.tail())\n",
    "\n",
    "df_2015 = df[date_filter]\n",
    "\n",
    "df_2015.head()"
   ]
  },
  {
   "cell_type": "markdown",
   "metadata": {},
   "source": [
    "This kind of filtering works for any kind of data type, provided you take care to make sure pandas is using the right data types for your data!"
   ]
  },
  {
   "cell_type": "markdown",
   "metadata": {},
   "source": [
    "You may have noticed that many of the rows in this dataframe are missing lat/lon data. Pandas uses the \"NaN\" placeholder for missing data and offers some methods for dealing with it.\n",
    "\n",
    "Both `Series` and `DataFrame` objects have `fillna` method that will replace missing data with a specified value.\n",
    "\n",
    "In thise case however we may want to just drop those records that have missing data entirely:\n"
   ]
  },
  {
   "cell_type": "code",
   "execution_count": 20,
   "metadata": {},
   "outputs": [
    {
     "data": {
      "text/html": [
       "<div>\n",
       "<style>\n",
       "    .dataframe thead tr:only-child th {\n",
       "        text-align: right;\n",
       "    }\n",
       "\n",
       "    .dataframe thead th {\n",
       "        text-align: left;\n",
       "    }\n",
       "\n",
       "    .dataframe tbody tr th {\n",
       "        vertical-align: top;\n",
       "    }\n",
       "</style>\n",
       "<table border=\"1\" class=\"dataframe\">\n",
       "  <thead>\n",
       "    <tr style=\"text-align: right;\">\n",
       "      <th></th>\n",
       "      <th>ADDRESS</th>\n",
       "      <th>CAMERA ID</th>\n",
       "      <th>VIOLATION DATE</th>\n",
       "      <th>VIOLATIONS</th>\n",
       "      <th>X COORDINATE</th>\n",
       "      <th>Y COORDINATE</th>\n",
       "      <th>LATITUDE</th>\n",
       "      <th>LONGITUDE</th>\n",
       "      <th>LOCATION</th>\n",
       "    </tr>\n",
       "  </thead>\n",
       "  <tbody>\n",
       "    <tr>\n",
       "      <th>148</th>\n",
       "      <td>2912 W ROOSEVELT</td>\n",
       "      <td>CHI020</td>\n",
       "      <td>2014-10-16</td>\n",
       "      <td>25</td>\n",
       "      <td>1.157040e+06</td>\n",
       "      <td>1.894612e+06</td>\n",
       "      <td>41.866585</td>\n",
       "      <td>-87.698962</td>\n",
       "      <td>(41.86658528313424, -87.69896237494204)</td>\n",
       "    </tr>\n",
       "    <tr>\n",
       "      <th>149</th>\n",
       "      <td>346 W 76th ST</td>\n",
       "      <td>CHI136</td>\n",
       "      <td>2014-10-16</td>\n",
       "      <td>4</td>\n",
       "      <td>1.175112e+06</td>\n",
       "      <td>1.854590e+06</td>\n",
       "      <td>41.756374</td>\n",
       "      <td>-87.633817</td>\n",
       "      <td>(41.7563743554102, -87.6338165847716)</td>\n",
       "    </tr>\n",
       "    <tr>\n",
       "      <th>150</th>\n",
       "      <td>11153 S VINCENNES</td>\n",
       "      <td>CHI022</td>\n",
       "      <td>2014-10-16</td>\n",
       "      <td>6</td>\n",
       "      <td>1.167029e+06</td>\n",
       "      <td>1.830594e+06</td>\n",
       "      <td>41.690702</td>\n",
       "      <td>-87.664122</td>\n",
       "      <td>(41.690701951255015, -87.66412238501842)</td>\n",
       "    </tr>\n",
       "    <tr>\n",
       "      <th>151</th>\n",
       "      <td>5454 W IRVING PARK</td>\n",
       "      <td>CHI050</td>\n",
       "      <td>2014-10-16</td>\n",
       "      <td>82</td>\n",
       "      <td>1.139043e+06</td>\n",
       "      <td>1.926097e+06</td>\n",
       "      <td>41.953330</td>\n",
       "      <td>-87.764267</td>\n",
       "      <td>(41.95332954454448, -87.76426726425451)</td>\n",
       "    </tr>\n",
       "    <tr>\n",
       "      <th>152</th>\n",
       "      <td>5446 W FULLERTON</td>\n",
       "      <td>CHI042</td>\n",
       "      <td>2014-10-16</td>\n",
       "      <td>38</td>\n",
       "      <td>1.139460e+06</td>\n",
       "      <td>1.915458e+06</td>\n",
       "      <td>41.924128</td>\n",
       "      <td>-87.762994</td>\n",
       "      <td>(41.92412849125162, -87.76299399881007)</td>\n",
       "    </tr>\n",
       "  </tbody>\n",
       "</table>\n",
       "</div>"
      ],
      "text/plain": [
       "                ADDRESS CAMERA ID VIOLATION DATE  VIOLATIONS  X COORDINATE  \\\n",
       "148    2912 W ROOSEVELT    CHI020     2014-10-16          25  1.157040e+06   \n",
       "149       346 W 76th ST    CHI136     2014-10-16           4  1.175112e+06   \n",
       "150   11153 S VINCENNES    CHI022     2014-10-16           6  1.167029e+06   \n",
       "151  5454 W IRVING PARK    CHI050     2014-10-16          82  1.139043e+06   \n",
       "152    5446 W FULLERTON    CHI042     2014-10-16          38  1.139460e+06   \n",
       "\n",
       "     Y COORDINATE   LATITUDE  LONGITUDE  \\\n",
       "148  1.894612e+06  41.866585 -87.698962   \n",
       "149  1.854590e+06  41.756374 -87.633817   \n",
       "150  1.830594e+06  41.690702 -87.664122   \n",
       "151  1.926097e+06  41.953330 -87.764267   \n",
       "152  1.915458e+06  41.924128 -87.762994   \n",
       "\n",
       "                                     LOCATION  \n",
       "148   (41.86658528313424, -87.69896237494204)  \n",
       "149     (41.7563743554102, -87.6338165847716)  \n",
       "150  (41.690701951255015, -87.66412238501842)  \n",
       "151   (41.95332954454448, -87.76426726425451)  \n",
       "152   (41.92412849125162, -87.76299399881007)  "
      ]
     },
     "execution_count": 20,
     "metadata": {},
     "output_type": "execute_result"
    }
   ],
   "source": [
    "df_no_nans = df.dropna(axis=0, how=\"any\")\n",
    "df_no_nans.head()"
   ]
  },
  {
   "cell_type": "markdown",
   "metadata": {},
   "source": [
    "## Summary Measures\n",
    "\n",
    "Pandas will produce simple descriptive statics via the `describe` method:"
   ]
  },
  {
   "cell_type": "code",
   "execution_count": 21,
   "metadata": {},
   "outputs": [
    {
     "data": {
      "text/plain": [
       "count    113996.000000\n",
       "mean         30.708349\n",
       "std          38.773222\n",
       "min           1.000000\n",
       "25%           7.000000\n",
       "50%          17.000000\n",
       "75%          39.000000\n",
       "max         479.000000\n",
       "Name: VIOLATIONS, dtype: float64"
      ]
     },
     "execution_count": 21,
     "metadata": {},
     "output_type": "execute_result"
    }
   ],
   "source": [
    "df[\"VIOLATIONS\"].describe()"
   ]
  },
  {
   "cell_type": "markdown",
   "metadata": {},
   "source": [
    "There are many more built-in methods for producing summary measures which can be found in the [documentation](https://pandas.pydata.org/pandas-docs/stable/api.html#api-dataframe-stats).\n",
    "\n",
    "For instance, generating quantiles is straightforward:"
   ]
  },
  {
   "cell_type": "code",
   "execution_count": 22,
   "metadata": {},
   "outputs": [
    {
     "name": "stdout",
     "output_type": "stream",
     "text": [
      "Value at decile 0.1: 3.0\n",
      "Value at decile 0.2: 5.0\n",
      "Value at decile 0.3: 9.0\n",
      "Value at decile 0.4: 12.0\n",
      "Value at decile 0.5: 17.0\n",
      "Value at decile 0.6: 23.0\n",
      "Value at decile 0.7: 33.0\n",
      "Value at decile 0.8: 47.0\n",
      "Value at decile 0.9: 74.0\n",
      "Value at decile 1.0: 479.0\n"
     ]
    }
   ],
   "source": [
    "# deciles, in this case\n",
    "for i in range(1, 11):\n",
    "    print(\"Value at decile %s: %s\" % (i/10, df[\"VIOLATIONS\"].quantile(i/10)))"
   ]
  }
 ],
 "metadata": {
  "kernelspec": {
   "display_name": "Python 3",
   "language": "python",
   "name": "python3"
  },
  "language_info": {
   "codemirror_mode": {
    "name": "ipython",
    "version": 3
   },
   "file_extension": ".py",
   "mimetype": "text/x-python",
   "name": "python",
   "nbconvert_exporter": "python",
   "pygments_lexer": "ipython3",
   "version": "3.6.1"
  }
 },
 "nbformat": 4,
 "nbformat_minor": 2
}

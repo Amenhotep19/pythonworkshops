{
 "cells": [
  {
   "cell_type": "markdown",
   "metadata": {},
   "source": [
    "## Grouping\n",
    "\n",
    "The pandas `groupby` function allows us to group our data on the values in a column or column to look at summary measures for records sharing the same values.\n",
    "\n",
    "For example, let's load the speed camera dataset again and ask which camera locations or days of the week have produced the most violations."
   ]
  },
  {
   "cell_type": "code",
   "execution_count": 1,
   "metadata": {},
   "outputs": [
    {
     "data": {
      "text/html": [
       "<div>\n",
       "<style>\n",
       "    .dataframe thead tr:only-child th {\n",
       "        text-align: right;\n",
       "    }\n",
       "\n",
       "    .dataframe thead th {\n",
       "        text-align: left;\n",
       "    }\n",
       "\n",
       "    .dataframe tbody tr th {\n",
       "        vertical-align: top;\n",
       "    }\n",
       "</style>\n",
       "<table border=\"1\" class=\"dataframe\">\n",
       "  <thead>\n",
       "    <tr style=\"text-align: right;\">\n",
       "      <th></th>\n",
       "      <th>ADDRESS</th>\n",
       "      <th>CAMERA ID</th>\n",
       "      <th>VIOLATION DATE</th>\n",
       "      <th>VIOLATIONS</th>\n",
       "      <th>X COORDINATE</th>\n",
       "      <th>Y COORDINATE</th>\n",
       "      <th>LATITUDE</th>\n",
       "      <th>LONGITUDE</th>\n",
       "      <th>LOCATION</th>\n",
       "    </tr>\n",
       "  </thead>\n",
       "  <tbody>\n",
       "    <tr>\n",
       "      <th>0</th>\n",
       "      <td>7738 S WESTERN</td>\n",
       "      <td>CHI065</td>\n",
       "      <td>07/08/2014</td>\n",
       "      <td>65</td>\n",
       "      <td>NaN</td>\n",
       "      <td>NaN</td>\n",
       "      <td>NaN</td>\n",
       "      <td>NaN</td>\n",
       "      <td>NaN</td>\n",
       "    </tr>\n",
       "    <tr>\n",
       "      <th>1</th>\n",
       "      <td>1111 N HUMBOLDT</td>\n",
       "      <td>CHI010</td>\n",
       "      <td>07/16/2014</td>\n",
       "      <td>56</td>\n",
       "      <td>NaN</td>\n",
       "      <td>NaN</td>\n",
       "      <td>NaN</td>\n",
       "      <td>NaN</td>\n",
       "      <td>NaN</td>\n",
       "    </tr>\n",
       "    <tr>\n",
       "      <th>2</th>\n",
       "      <td>5520 S WESTERN</td>\n",
       "      <td>CHI069</td>\n",
       "      <td>07/08/2014</td>\n",
       "      <td>10</td>\n",
       "      <td>NaN</td>\n",
       "      <td>NaN</td>\n",
       "      <td>NaN</td>\n",
       "      <td>NaN</td>\n",
       "      <td>NaN</td>\n",
       "    </tr>\n",
       "    <tr>\n",
       "      <th>3</th>\n",
       "      <td>1111 N HUMBOLDT</td>\n",
       "      <td>CHI010</td>\n",
       "      <td>07/26/2014</td>\n",
       "      <td>101</td>\n",
       "      <td>NaN</td>\n",
       "      <td>NaN</td>\n",
       "      <td>NaN</td>\n",
       "      <td>NaN</td>\n",
       "      <td>NaN</td>\n",
       "    </tr>\n",
       "    <tr>\n",
       "      <th>4</th>\n",
       "      <td>1111 N HUMBOLDT</td>\n",
       "      <td>CHI010</td>\n",
       "      <td>07/27/2014</td>\n",
       "      <td>92</td>\n",
       "      <td>NaN</td>\n",
       "      <td>NaN</td>\n",
       "      <td>NaN</td>\n",
       "      <td>NaN</td>\n",
       "      <td>NaN</td>\n",
       "    </tr>\n",
       "  </tbody>\n",
       "</table>\n",
       "</div>"
      ],
      "text/plain": [
       "           ADDRESS CAMERA ID VIOLATION DATE  VIOLATIONS  X COORDINATE  \\\n",
       "0   7738 S WESTERN    CHI065     07/08/2014          65           NaN   \n",
       "1  1111 N HUMBOLDT    CHI010     07/16/2014          56           NaN   \n",
       "2   5520 S WESTERN    CHI069     07/08/2014          10           NaN   \n",
       "3  1111 N HUMBOLDT    CHI010     07/26/2014         101           NaN   \n",
       "4  1111 N HUMBOLDT    CHI010     07/27/2014          92           NaN   \n",
       "\n",
       "   Y COORDINATE  LATITUDE  LONGITUDE LOCATION  \n",
       "0           NaN       NaN        NaN      NaN  \n",
       "1           NaN       NaN        NaN      NaN  \n",
       "2           NaN       NaN        NaN      NaN  \n",
       "3           NaN       NaN        NaN      NaN  \n",
       "4           NaN       NaN        NaN      NaN  "
      ]
     },
     "execution_count": 1,
     "metadata": {},
     "output_type": "execute_result"
    }
   ],
   "source": [
    "import pandas as pd\n",
    "df = pd.read_csv(\"data/Speed_Camera_Violations.csv\")\n",
    "df.head()"
   ]
  },
  {
   "cell_type": "markdown",
   "metadata": {},
   "source": [
    "Now that the data is loaded, let's find the 10 locations with the most total violations recorded.\n",
    "\n",
    "To do this, we need to group by the ADDRESS column, then examine the VIOLATIONS column of the resulting grouped dataframe."
   ]
  },
  {
   "cell_type": "code",
   "execution_count": 2,
   "metadata": {},
   "outputs": [
    {
     "data": {
      "text/html": [
       "<div>\n",
       "<style>\n",
       "    .dataframe thead tr:only-child th {\n",
       "        text-align: right;\n",
       "    }\n",
       "\n",
       "    .dataframe thead th {\n",
       "        text-align: left;\n",
       "    }\n",
       "\n",
       "    .dataframe tbody tr th {\n",
       "        vertical-align: top;\n",
       "    }\n",
       "</style>\n",
       "<table border=\"1\" class=\"dataframe\">\n",
       "  <thead>\n",
       "    <tr style=\"text-align: right;\">\n",
       "      <th></th>\n",
       "      <th>count</th>\n",
       "      <th>mean</th>\n",
       "      <th>std</th>\n",
       "      <th>min</th>\n",
       "      <th>25%</th>\n",
       "      <th>50%</th>\n",
       "      <th>75%</th>\n",
       "      <th>max</th>\n",
       "    </tr>\n",
       "    <tr>\n",
       "      <th>ADDRESS</th>\n",
       "      <th></th>\n",
       "      <th></th>\n",
       "      <th></th>\n",
       "      <th></th>\n",
       "      <th></th>\n",
       "      <th></th>\n",
       "      <th></th>\n",
       "      <th></th>\n",
       "    </tr>\n",
       "  </thead>\n",
       "  <tbody>\n",
       "    <tr>\n",
       "      <th>10318 S INDIANAPOLIS</th>\n",
       "      <td>1084.0</td>\n",
       "      <td>99.974170</td>\n",
       "      <td>39.412342</td>\n",
       "      <td>4.0</td>\n",
       "      <td>72.00</td>\n",
       "      <td>96.0</td>\n",
       "      <td>120.25</td>\n",
       "      <td>259.0</td>\n",
       "    </tr>\n",
       "    <tr>\n",
       "      <th>1110 S PULASKI RD</th>\n",
       "      <td>499.0</td>\n",
       "      <td>22.412826</td>\n",
       "      <td>15.078174</td>\n",
       "      <td>1.0</td>\n",
       "      <td>11.00</td>\n",
       "      <td>18.0</td>\n",
       "      <td>31.00</td>\n",
       "      <td>83.0</td>\n",
       "    </tr>\n",
       "    <tr>\n",
       "      <th>1111 N HUMBOLDT</th>\n",
       "      <td>1096.0</td>\n",
       "      <td>58.250000</td>\n",
       "      <td>18.067744</td>\n",
       "      <td>6.0</td>\n",
       "      <td>46.00</td>\n",
       "      <td>57.0</td>\n",
       "      <td>70.00</td>\n",
       "      <td>117.0</td>\n",
       "    </tr>\n",
       "    <tr>\n",
       "      <th>11144 S VINCENNES</th>\n",
       "      <td>526.0</td>\n",
       "      <td>19.612167</td>\n",
       "      <td>10.058579</td>\n",
       "      <td>1.0</td>\n",
       "      <td>12.25</td>\n",
       "      <td>18.0</td>\n",
       "      <td>25.00</td>\n",
       "      <td>75.0</td>\n",
       "    </tr>\n",
       "    <tr>\n",
       "      <th>11153 S VINCENNES</th>\n",
       "      <td>517.0</td>\n",
       "      <td>9.698259</td>\n",
       "      <td>5.182134</td>\n",
       "      <td>1.0</td>\n",
       "      <td>6.00</td>\n",
       "      <td>9.0</td>\n",
       "      <td>13.00</td>\n",
       "      <td>31.0</td>\n",
       "    </tr>\n",
       "    <tr>\n",
       "      <th>1117 S PULASKI RD</th>\n",
       "      <td>492.0</td>\n",
       "      <td>19.483740</td>\n",
       "      <td>12.954320</td>\n",
       "      <td>1.0</td>\n",
       "      <td>10.00</td>\n",
       "      <td>17.0</td>\n",
       "      <td>27.00</td>\n",
       "      <td>61.0</td>\n",
       "    </tr>\n",
       "    <tr>\n",
       "      <th>1142 W IRVING PARK</th>\n",
       "      <td>1091.0</td>\n",
       "      <td>84.210816</td>\n",
       "      <td>29.672455</td>\n",
       "      <td>1.0</td>\n",
       "      <td>64.00</td>\n",
       "      <td>81.0</td>\n",
       "      <td>101.00</td>\n",
       "      <td>248.0</td>\n",
       "    </tr>\n",
       "    <tr>\n",
       "      <th>115 N OGDEN</th>\n",
       "      <td>1094.0</td>\n",
       "      <td>41.311700</td>\n",
       "      <td>35.887579</td>\n",
       "      <td>1.0</td>\n",
       "      <td>13.00</td>\n",
       "      <td>28.0</td>\n",
       "      <td>61.00</td>\n",
       "      <td>197.0</td>\n",
       "    </tr>\n",
       "    <tr>\n",
       "      <th>1226 N WESTERN AVE</th>\n",
       "      <td>531.0</td>\n",
       "      <td>18.617702</td>\n",
       "      <td>15.435526</td>\n",
       "      <td>1.0</td>\n",
       "      <td>6.00</td>\n",
       "      <td>14.0</td>\n",
       "      <td>28.00</td>\n",
       "      <td>88.0</td>\n",
       "    </tr>\n",
       "    <tr>\n",
       "      <th>1229 N WESTERN AVE</th>\n",
       "      <td>530.0</td>\n",
       "      <td>39.500000</td>\n",
       "      <td>21.222848</td>\n",
       "      <td>3.0</td>\n",
       "      <td>24.00</td>\n",
       "      <td>34.0</td>\n",
       "      <td>51.75</td>\n",
       "      <td>119.0</td>\n",
       "    </tr>\n",
       "  </tbody>\n",
       "</table>\n",
       "</div>"
      ],
      "text/plain": [
       "                       count       mean        std  min    25%   50%     75%  \\\n",
       "ADDRESS                                                                        \n",
       "10318 S INDIANAPOLIS  1084.0  99.974170  39.412342  4.0  72.00  96.0  120.25   \n",
       "1110 S PULASKI RD      499.0  22.412826  15.078174  1.0  11.00  18.0   31.00   \n",
       "1111 N HUMBOLDT       1096.0  58.250000  18.067744  6.0  46.00  57.0   70.00   \n",
       "11144 S VINCENNES      526.0  19.612167  10.058579  1.0  12.25  18.0   25.00   \n",
       "11153 S VINCENNES      517.0   9.698259   5.182134  1.0   6.00   9.0   13.00   \n",
       "1117 S PULASKI RD      492.0  19.483740  12.954320  1.0  10.00  17.0   27.00   \n",
       "1142 W IRVING PARK    1091.0  84.210816  29.672455  1.0  64.00  81.0  101.00   \n",
       "115 N OGDEN           1094.0  41.311700  35.887579  1.0  13.00  28.0   61.00   \n",
       "1226 N WESTERN AVE     531.0  18.617702  15.435526  1.0   6.00  14.0   28.00   \n",
       "1229 N WESTERN AVE     530.0  39.500000  21.222848  3.0  24.00  34.0   51.75   \n",
       "\n",
       "                        max  \n",
       "ADDRESS                      \n",
       "10318 S INDIANAPOLIS  259.0  \n",
       "1110 S PULASKI RD      83.0  \n",
       "1111 N HUMBOLDT       117.0  \n",
       "11144 S VINCENNES      75.0  \n",
       "11153 S VINCENNES      31.0  \n",
       "1117 S PULASKI RD      61.0  \n",
       "1142 W IRVING PARK    248.0  \n",
       "115 N OGDEN           197.0  \n",
       "1226 N WESTERN AVE     88.0  \n",
       "1229 N WESTERN AVE    119.0  "
      ]
     },
     "execution_count": 2,
     "metadata": {},
     "output_type": "execute_result"
    }
   ],
   "source": [
    "# first let's group by address and look at descriptive statistics for the first 10 records\n",
    "df.groupby([\"ADDRESS\"])[\"VIOLATIONS\"].describe().head(10)"
   ]
  },
  {
   "cell_type": "markdown",
   "metadata": {},
   "source": [
    "The above records aren't sorted in any meaningful way, but the first thing to note is that the Index is no longer just an integer, it is now the Address. This is because the `groupby` method returns a special object with a new index made up of the \n",
    "values of the column being grouped on.\n",
    "\n",
    "We can still use the `loc` indexer with this new grouped object to, for example, find the count for a given address:"
   ]
  },
  {
   "cell_type": "code",
   "execution_count": 3,
   "metadata": {},
   "outputs": [
    {
     "data": {
      "text/plain": [
       "432"
      ]
     },
     "execution_count": 3,
     "metadata": {},
     "output_type": "execute_result"
    }
   ],
   "source": [
    "# `count` returns the number of rows for this address, not the total violation count.\n",
    "# IE this tells us the number of observations.\n",
    "df.groupby([\"ADDRESS\"])[\"VIOLATIONS\"].count().loc[\"19 W CHICAGO AVE\"]"
   ]
  },
  {
   "cell_type": "code",
   "execution_count": 4,
   "metadata": {},
   "outputs": [
    {
     "data": {
      "text/plain": [
       "1618"
      ]
     },
     "execution_count": 4,
     "metadata": {},
     "output_type": "execute_result"
    }
   ],
   "source": [
    "# to get the total violation count, we want the `sum` method:\n",
    "df.groupby([\"ADDRESS\"])[\"VIOLATIONS\"].sum().loc[\"19 W CHICAGO AVE\"]"
   ]
  },
  {
   "cell_type": "code",
   "execution_count": 5,
   "metadata": {},
   "outputs": [
    {
     "data": {
      "text/plain": [
       "ADDRESS\n",
       "4909 N CICERO AVE       220704\n",
       "445 W 127TH             169337\n",
       "2900 W OGDEN            139183\n",
       "4124 W FOSTER AVE       127071\n",
       "10318 S INDIANAPOLIS    108372\n",
       "2705 W IRVING PARK      107599\n",
       "1142 W IRVING PARK       91874\n",
       "536 E MORGAN DR          82331\n",
       "5816 W JACKSON           80174\n",
       "4831 W LAWRENCE AVE      69538\n",
       "Name: VIOLATIONS, dtype: int64"
      ]
     },
     "execution_count": 5,
     "metadata": {},
     "output_type": "execute_result"
    }
   ],
   "source": [
    "# Now let's get the top 10 camera locations by total violation count:\n",
    "df.groupby([\"ADDRESS\"])[\"VIOLATIONS\"].sum().sort_values(ascending=False).head(10)"
   ]
  },
  {
   "cell_type": "markdown",
   "metadata": {},
   "source": [
    "It's possible that some locations just have more observations than others, so a more meaningful measure is probably the mean violation count per observation. To get this we just need to use the `mean` function rather than `sum`."
   ]
  },
  {
   "cell_type": "code",
   "execution_count": 6,
   "metadata": {},
   "outputs": [
    {
     "data": {
      "text/plain": [
       "ADDRESS\n",
       "4909 N CICERO AVE       226.595483\n",
       "445 W 127TH             154.645662\n",
       "2900 W OGDEN            126.876026\n",
       "4124 W FOSTER AVE       120.332386\n",
       "10318 S INDIANAPOLIS     99.974170\n",
       "2705 W IRVING PARK       99.078269\n",
       "215 E 63RD ST            84.689008\n",
       "1142 W IRVING PARK       84.210816\n",
       "536 E MORGAN DR          75.188128\n",
       "2549 W ADDISON           73.668488\n",
       "Name: VIOLATIONS, dtype: float64"
      ]
     },
     "execution_count": 6,
     "metadata": {},
     "output_type": "execute_result"
    }
   ],
   "source": [
    "df.groupby([\"ADDRESS\"])[\"VIOLATIONS\"].mean().sort_values(ascending=False).head(10)"
   ]
  },
  {
   "cell_type": "markdown",
   "metadata": {},
   "source": [
    "How about days of the week? *When* are people most likely to be caught speeding?\n",
    "\n",
    "The simplest way to do this is to create a new weekday column and group on that."
   ]
  },
  {
   "cell_type": "code",
   "execution_count": 7,
   "metadata": {},
   "outputs": [
    {
     "data": {
      "text/plain": [
       "0    1\n",
       "1    2\n",
       "2    1\n",
       "3    5\n",
       "4    6\n",
       "Name: VIOLATION DATE, dtype: int64"
      ]
     },
     "execution_count": 7,
     "metadata": {},
     "output_type": "execute_result"
    }
   ],
   "source": [
    "# datetime series have a special `dt` property that exposes the date/time-specific functionality.\n",
    "# In this case, dayofweek is a 0-based index where 0 = Monday, 6 = Sunday.\n",
    "df[\"VIOLATION DATE\"] = pd.to_datetime(df[\"VIOLATION DATE\"], format=\"%m/%d/%Y\")\n",
    "df[\"VIOLATION DATE\"].dt.dayofweek.head()"
   ]
  },
  {
   "cell_type": "code",
   "execution_count": 8,
   "metadata": {},
   "outputs": [
    {
     "data": {
      "text/plain": [
       "DAY OF WEEK\n",
       "0    27.446626\n",
       "1    26.745172\n",
       "2    27.110899\n",
       "3    28.371709\n",
       "4    30.219523\n",
       "5    42.380211\n",
       "6    41.233922\n",
       "Name: VIOLATIONS, dtype: float64"
      ]
     },
     "execution_count": 8,
     "metadata": {},
     "output_type": "execute_result"
    }
   ],
   "source": [
    "df[\"DAY OF WEEK\"] = df[\"VIOLATION DATE\"].dt.dayofweek\n",
    "df.groupby([\"DAY OF WEEK\"])[\"VIOLATIONS\"].mean()"
   ]
  },
  {
   "cell_type": "markdown",
   "metadata": {},
   "source": [
    "## Plotting\n",
    "\n",
    "It's not easy to understand at a glance the distribution of speeding violations by day of the week above, so let's produce a simple plot to visualize and help understand it.\n",
    "\n",
    "Pandas has a number of convenience functions to let us output plots directly without having to interact with matplotlib."
   ]
  },
  {
   "cell_type": "code",
   "execution_count": 9,
   "metadata": {
    "collapsed": true
   },
   "outputs": [],
   "source": [
    "# a bit of jupyter-specific magic\n",
    "%matplotlib inline"
   ]
  },
  {
   "cell_type": "code",
   "execution_count": 10,
   "metadata": {},
   "outputs": [
    {
     "data": {
      "text/plain": [
       "<matplotlib.axes._subplots.AxesSubplot at 0x1666152efd0>"
      ]
     },
     "execution_count": 10,
     "metadata": {},
     "output_type": "execute_result"
    },
    {
     "data": {
      "image/png": "[encoded data removed]",
      "text/plain": [
       "<matplotlib.figure.Figure at 0x166614fbb00>"
      ]
     },
     "metadata": {},
     "output_type": "display_data"
    }
   ],
   "source": [
    "# We can call `plot` on just about anything to get a minimally-formatted plot\n",
    "df.groupby([\"DAY OF WEEK\"])[\"VIOLATIONS\"].mean().plot()"
   ]
  },
  {
   "cell_type": "markdown",
   "metadata": {},
   "source": [
    "We can do much better. Let's do a horizontal bar plot, renaming the labels to the actual days of the week, and starting the X-axis at 0 to give a better sense of how much this data actually varies."
   ]
  },
  {
   "cell_type": "code",
   "execution_count": 11,
   "metadata": {},
   "outputs": [
    {
     "data": {
      "text/plain": [
       "<matplotlib.axes._subplots.AxesSubplot at 0x166618bc198>"
      ]
     },
     "execution_count": 11,
     "metadata": {},
     "output_type": "execute_result"
    },
    {
     "data": {
      "image/png": "[encoded data removed]",
      "text/plain": [
       "<matplotlib.figure.Figure at 0x16661956a20>"
      ]
     },
     "metadata": {},
     "output_type": "display_data"
    }
   ],
   "source": [
    "# Create a mapping of day number to day name\n",
    "daynames = {0: \"Mon\", 1: \"Tue\", 2: \"Wed\", 3: \"Thu\", 4: \"Fri\", 5: \"Sat\", 6: \"Sun\"}\n",
    "\n",
    "# save the \"sum of violations grouped-by day of week\" series in a variable\n",
    "violations_by_day_of_week = df.groupby([\"DAY OF WEEK\"])[\"VIOLATIONS\"].mean()\n",
    "\n",
    "# use the mapping created above to give the series index labels sensible values\n",
    "violations_by_day_of_week.rename(index=daynames, inplace=True)\n",
    "\n",
    "# use the reindex method to order them the way we want in the plot (starting with Sunday at the top of the y axis)\n",
    "violations_by_day_of_week = violations_by_day_of_week.reindex([\"Sat\", \"Fri\", \"Thu\", \"Wed\", \"Tue\", \"Mon\", \"Sun\"])\n",
    "\n",
    "# and finally, create the bar plot\n",
    "violations_by_day_of_week.plot(kind='barh', title=\"City of Chicago Speed Camera Violations By Day Of Week\") "
   ]
  },
  {
   "cell_type": "markdown",
   "metadata": {},
   "source": [
    "## Combining DataFrames\n",
    "\n",
    "Often you will need to combine data from multiple data sets together. There are two types of combinations: concatenations and merges (aka joins).\n",
    "\n",
    "**Concatenating** means taking multiple DataFrame objects and appending their rows together to make a new DataFrame. In general you will do this when your datasets contain the same columns and you are combining observations of the same type together into one dataset that contains all the rows from all the datasets.\n",
    "\n",
    "**Merging** is joining DataFrames together SQL-style by using common values. This is useful when you have multiple datasets with common keys and you want to combine them into one dataset that contains columns from all the datasets being merged."
   ]
  },
  {
   "cell_type": "code",
   "execution_count": 12,
   "metadata": {},
   "outputs": [
    {
     "name": "stdout",
     "output_type": "stream",
     "text": [
      "df1: \n",
      "   A  B\n",
      "0  1  4\n",
      "1  2  5\n",
      "2  3  6\n",
      "\n",
      "df2: \n",
      "   A   B\n",
      "0  7  10\n",
      "1  8  11\n",
      "2  9  12\n",
      "\n",
      "concatenated: \n",
      "   A   B\n",
      "0  1   4\n",
      "1  2   5\n",
      "2  3   6\n",
      "0  7  10\n",
      "1  8  11\n",
      "2  9  12\n"
     ]
    }
   ],
   "source": [
    "# Concatenation example\n",
    "df1 = pd.DataFrame({'A': [1, 2, 3],\n",
    "                    'B': [4, 5, 6]})\n",
    "\n",
    "df2 = pd.DataFrame({'A': [7, 8, 9],\n",
    "                    'B': [10, 11, 12]})\n",
    "\n",
    "print(\"df1: \")\n",
    "print(df1)\n",
    "print()\n",
    "print(\"df2: \")\n",
    "print(df2)\n",
    "print()\n",
    "print(\"concatenated: \")\n",
    "print(pd.concat([df1, df2]))\n"
   ]
  },
  {
   "cell_type": "code",
   "execution_count": 13,
   "metadata": {},
   "outputs": [
    {
     "name": "stdout",
     "output_type": "stream",
     "text": [
      "df1: \n",
      "   A  B\n",
      "0  1  4\n",
      "1  2  5\n",
      "2  3  6\n",
      "\n",
      "df2: \n",
      "   A    C\n",
      "0  1  foo\n",
      "1  2  bar\n",
      "2  3  baz\n",
      "\n",
      "merged: \n",
      "   A  B    C\n",
      "0  1  4  foo\n",
      "1  2  5  bar\n",
      "2  3  6  baz\n"
     ]
    }
   ],
   "source": [
    "# Merge example\n",
    "df1 = pd.DataFrame({'A': [1, 2, 3],\n",
    "                    'B': [4, 5, 6]})\n",
    "\n",
    "df2 = pd.DataFrame({'A': [1, 2, 3],\n",
    "                    'C': [\"foo\", \"bar\", \"baz\"]})\n",
    "\n",
    "print(\"df1: \")\n",
    "print(df1)\n",
    "print()\n",
    "print(\"df2: \")\n",
    "print(df2)\n",
    "print()\n",
    "print(\"merged: \")\n",
    "print(pd.merge(df1, df2))"
   ]
  },
  {
   "cell_type": "markdown",
   "metadata": {},
   "source": [
    "## Hierarchical Indexing\n",
    "\n",
    "Up to now we have looked only at 1- and 2-dimensional data. While Pandas does offer objects for handling 3- and 4-dimesional data (the `Panel` and `Panel4D`), it's often more convenient to keep higher dimensional data in a `DataFrame` but use an index with multiple *levels*. This kind of index is called a `MultiIndex` in pandas.\n",
    "\n",
    "Let us use for example mean annual water level data for the great lakes for 2015 and 2016. We'd like to be able to look up, by year and lake, the mean water level, in a single series. To do this, we can just create the series as before, but pass in a list of lists for the index."
   ]
  },
  {
   "cell_type": "code",
   "execution_count": 14,
   "metadata": {},
   "outputs": [
    {
     "data": {
      "text/plain": [
       "Superior        2015    183.57\n",
       "                2016    183.58\n",
       "Michigan-Huron  2015    176.59\n",
       "                2016    176.70\n",
       "St. Clair       2015    175.20\n",
       "                2016    175.35\n",
       "Erie            2015    174.32\n",
       "                2016    174.41\n",
       "Ontario         2015     74.74\n",
       "                2016     74.80\n",
       "dtype: float64"
      ]
     },
     "execution_count": 14,
     "metadata": {},
     "output_type": "execute_result"
    }
   ],
   "source": [
    "data = [183.57, 183.58, 176.59, 176.70, 175.20, 175.35, 174.32, 174.41, 74.74, 74.80]\n",
    "\n",
    "\n",
    "labels = [\n",
    "    ['Superior', 'Superior',\n",
    "     'Michigan-Huron', 'Michigan-Huron',\n",
    "     'St. Clair', 'St. Clair',\n",
    "     'Erie', 'Erie',\n",
    "     'Ontario', 'Ontario'],\n",
    "    [2015, 2016,\n",
    "     2015, 2016,\n",
    "     2015, 2016,\n",
    "     2015, 2016,\n",
    "     2015, 2016,]\n",
    "]\n",
    "\n",
    "mean_levels = pd.Series(data, index=labels)\n",
    "mean_levels.index.rename(['Lake', 'Year'])\n",
    "mean_levels"
   ]
  },
  {
   "cell_type": "code",
   "execution_count": 15,
   "metadata": {},
   "outputs": [
    {
     "data": {
      "text/plain": [
       "183.56999999999999"
      ]
     },
     "execution_count": 15,
     "metadata": {},
     "output_type": "execute_result"
    }
   ],
   "source": [
    "# We can now get data by Lake and Year:\n",
    "mean_levels['Superior', 2015]"
   ]
  },
  {
   "cell_type": "code",
   "execution_count": 16,
   "metadata": {},
   "outputs": [
    {
     "data": {
      "text/plain": [
       "2015    183.57\n",
       "2016    183.58\n",
       "dtype: float64"
      ]
     },
     "execution_count": 16,
     "metadata": {},
     "output_type": "execute_result"
    }
   ],
   "source": [
    "# Or do \"partial indexing\": select a label from one level of the index, getting back a series with all remaining levels:\n",
    "mean_levels['Superior']"
   ]
  },
  {
   "cell_type": "code",
   "execution_count": 17,
   "metadata": {},
   "outputs": [
    {
     "data": {
      "text/plain": [
       "Superior          183.57\n",
       "Michigan-Huron    176.59\n",
       "St. Clair         175.20\n",
       "Erie              174.32\n",
       "Ontario            74.74\n",
       "dtype: float64"
      ]
     },
     "execution_count": 17,
     "metadata": {},
     "output_type": "execute_result"
    }
   ],
   "source": [
    "# to do partial indexing on the \"inner\" level, we need to pass in an empty slice for the outer level:\n",
    "mean_levels[:, 2015]"
   ]
  },
  {
   "cell_type": "markdown",
   "metadata": {},
   "source": [
    "But why torture a series like this when this data could easily be represented in a DataFrame, with the lakes as columns?\n",
    "\n",
    "Because we can do this same thing with more series and combine them into a dataframe that shares this two-dimensional index! If you squint, it's higher-dimensional data!!\n",
    "\n",
    "We have a CSV containing monthly water level readings for the great lakes going back to 1918. We'll use it to calculate annual min and max readings, and then combine those calculated series with this series that contains annual means to create a new dataframe with year and lake as the index, and min, max, and mean as the columns."
   ]
  },
  {
   "cell_type": "code",
   "execution_count": 18,
   "metadata": {},
   "outputs": [
    {
     "data": {
      "text/html": [
       "<div>\n",
       "<style>\n",
       "    .dataframe thead tr:only-child th {\n",
       "        text-align: right;\n",
       "    }\n",
       "\n",
       "    .dataframe thead th {\n",
       "        text-align: left;\n",
       "    }\n",
       "\n",
       "    .dataframe tbody tr th {\n",
       "        vertical-align: top;\n",
       "    }\n",
       "</style>\n",
       "<table border=\"1\" class=\"dataframe\">\n",
       "  <thead>\n",
       "    <tr style=\"text-align: right;\">\n",
       "      <th></th>\n",
       "      <th></th>\n",
       "      <th>Superior</th>\n",
       "      <th>Michigan-Huron</th>\n",
       "      <th>St. Clair</th>\n",
       "      <th>Erie</th>\n",
       "      <th>Ontario</th>\n",
       "    </tr>\n",
       "    <tr>\n",
       "      <th>year</th>\n",
       "      <th>month</th>\n",
       "      <th></th>\n",
       "      <th></th>\n",
       "      <th></th>\n",
       "      <th></th>\n",
       "      <th></th>\n",
       "    </tr>\n",
       "  </thead>\n",
       "  <tbody>\n",
       "    <tr>\n",
       "      <th rowspan=\"5\" valign=\"top\">1918</th>\n",
       "      <th>jan</th>\n",
       "      <td>183.25</td>\n",
       "      <td>176.71</td>\n",
       "      <td>174.59</td>\n",
       "      <td>173.90</td>\n",
       "      <td>74.74</td>\n",
       "    </tr>\n",
       "    <tr>\n",
       "      <th>feb</th>\n",
       "      <td>183.20</td>\n",
       "      <td>176.73</td>\n",
       "      <td>174.74</td>\n",
       "      <td>173.82</td>\n",
       "      <td>74.72</td>\n",
       "    </tr>\n",
       "    <tr>\n",
       "      <th>mar</th>\n",
       "      <td>183.17</td>\n",
       "      <td>176.80</td>\n",
       "      <td>174.74</td>\n",
       "      <td>174.01</td>\n",
       "      <td>74.92</td>\n",
       "    </tr>\n",
       "    <tr>\n",
       "      <th>apr</th>\n",
       "      <td>183.14</td>\n",
       "      <td>176.89</td>\n",
       "      <td>174.84</td>\n",
       "      <td>174.02</td>\n",
       "      <td>75.10</td>\n",
       "    </tr>\n",
       "    <tr>\n",
       "      <th>may</th>\n",
       "      <td>183.22</td>\n",
       "      <td>176.99</td>\n",
       "      <td>175.00</td>\n",
       "      <td>173.98</td>\n",
       "      <td>75.09</td>\n",
       "    </tr>\n",
       "  </tbody>\n",
       "</table>\n",
       "</div>"
      ],
      "text/plain": [
       "            Superior  Michigan-Huron  St. Clair    Erie  Ontario\n",
       "year month                                                      \n",
       "1918 jan      183.25          176.71     174.59  173.90    74.74\n",
       "     feb      183.20          176.73     174.74  173.82    74.72\n",
       "     mar      183.17          176.80     174.74  174.01    74.92\n",
       "     apr      183.14          176.89     174.84  174.02    75.10\n",
       "     may      183.22          176.99     175.00  173.98    75.09"
      ]
     },
     "execution_count": 18,
     "metadata": {},
     "output_type": "execute_result"
    }
   ],
   "source": [
    "# the `index_col` parameter allows us to specify which columns to use as an index when creating\n",
    "# the dataframe and in which order. Very handy!\n",
    "df = pd.read_csv('data/GLHYD_data_metric.csv', header=12, index_col=[1, 0])\n",
    "df.head()"
   ]
  },
  {
   "cell_type": "markdown",
   "metadata": {},
   "source": [
    "At this point we have the lakes as *columns*, when what we really want is to take all of those column names and add them to our index as another level. This is exactly what the very useful [`stack`](https://pandas.pydata.org/pandas-docs/stable/generated/pandas.DataFrame.stack.html) method does. It \"pivots\" a level of column labels as a new innermost index level.\n",
    "\n",
    "In this case, because our dataframe has only one level of column labels, `stack` turns that level into a new index level leaving us with only a series. We have \"moved a dimension\" and transformed a dataframe with a 2-d index to a series with a 3-d index."
   ]
  },
  {
   "cell_type": "code",
   "execution_count": 19,
   "metadata": {},
   "outputs": [
    {
     "data": {
      "text/plain": [
       "year  month                \n",
       "1918  jan    Superior          183.25\n",
       "             Michigan-Huron    176.71\n",
       "             St. Clair         174.59\n",
       "             Erie              173.90\n",
       "             Ontario            74.74\n",
       "dtype: float64"
      ]
     },
     "execution_count": 19,
     "metadata": {},
     "output_type": "execute_result"
    }
   ],
   "source": [
    "lake_monthly_levels = df.stack()\n",
    "lake_monthly_levels.head()"
   ]
  },
  {
   "cell_type": "markdown",
   "metadata": {},
   "source": [
    "Now in order to make it easy for Pandas to combine series we want to give our index levels nice, consistent names."
   ]
  },
  {
   "cell_type": "code",
   "execution_count": 20,
   "metadata": {},
   "outputs": [
    {
     "data": {
      "text/plain": [
       "Year  Month  Lake          \n",
       "1918  jan    Superior          183.25\n",
       "             Michigan-Huron    176.71\n",
       "             St. Clair         174.59\n",
       "             Erie              173.90\n",
       "             Ontario            74.74\n",
       "dtype: float64"
      ]
     },
     "execution_count": 20,
     "metadata": {},
     "output_type": "execute_result"
    }
   ],
   "source": [
    "lake_monthly_levels.index.set_names(['Year', 'Month', 'Lake'], inplace=True)\n",
    "lake_monthly_levels.head()"
   ]
  },
  {
   "cell_type": "code",
   "execution_count": 21,
   "metadata": {},
   "outputs": [
    {
     "data": {
      "text/plain": [
       "Year  Lake          \n",
       "1918  Superior          183.46\n",
       "      Michigan-Huron    177.07\n",
       "      St. Clair         175.17\n",
       "      Erie              174.12\n",
       "      Ontario            75.10\n",
       "dtype: float64"
      ]
     },
     "execution_count": 21,
     "metadata": {},
     "output_type": "execute_result"
    }
   ],
   "source": [
    "# Calculate the max water level for each year for each lake\n",
    "max_levels = lake_monthly_levels.groupby(['Year', 'Lake']).agg('max')\n",
    "max_levels.head()"
   ]
  },
  {
   "cell_type": "code",
   "execution_count": 22,
   "metadata": {},
   "outputs": [
    {
     "data": {
      "text/plain": [
       "Year  Lake          \n",
       "1918  Superior          183.14\n",
       "      Michigan-Huron    176.71\n",
       "      St. Clair         174.59\n",
       "      Erie              173.82\n",
       "      Ontario            74.72\n",
       "dtype: float64"
      ]
     },
     "execution_count": 22,
     "metadata": {},
     "output_type": "execute_result"
    }
   ],
   "source": [
    "min_levels = lake_monthly_levels.groupby(['Year', 'Lake']).agg('min')\n",
    "min_levels.head()"
   ]
  },
  {
   "cell_type": "markdown",
   "metadata": {},
   "source": [
    "If we were to try to merge these three series together now, Pandas would fail because the index levels aren't in the same order. So the `mean_levels` series needs to have the order of its index levels swapped so that \"Year\" is the outer level. This is easily done with the `reorder_levels` method."
   ]
  },
  {
   "cell_type": "code",
   "execution_count": 23,
   "metadata": {},
   "outputs": [
    {
     "data": {
      "text/plain": [
       "Year  Lake          \n",
       "2015  Superior          183.57\n",
       "2016  Superior          183.58\n",
       "2015  Michigan-Huron    176.59\n",
       "2016  Michigan-Huron    176.70\n",
       "2015  St. Clair         175.20\n",
       "2016  St. Clair         175.35\n",
       "2015  Erie              174.32\n",
       "2016  Erie              174.41\n",
       "2015  Ontario            74.74\n",
       "2016  Ontario            74.80\n",
       "dtype: float64"
      ]
     },
     "execution_count": 23,
     "metadata": {},
     "output_type": "execute_result"
    }
   ],
   "source": [
    "mean_levels = mean_levels.reorder_levels([1, 0])\n",
    "mean_levels.index.set_names(['Year', 'Lake'], inplace=True)\n",
    "mean_levels"
   ]
  },
  {
   "cell_type": "markdown",
   "metadata": {},
   "source": [
    "And now, finally, we can merge these three series together into a new dataframe (and drop all observations before 2015 that don't have). Note this is a very contrived example as it would have been trivially easy to calculate the mean water levels from the CSV we loaded :)"
   ]
  },
  {
   "cell_type": "code",
   "execution_count": 24,
   "metadata": {},
   "outputs": [
    {
     "data": {
      "text/html": [
       "<div>\n",
       "<style>\n",
       "    .dataframe thead tr:only-child th {\n",
       "        text-align: right;\n",
       "    }\n",
       "\n",
       "    .dataframe thead th {\n",
       "        text-align: left;\n",
       "    }\n",
       "\n",
       "    .dataframe tbody tr th {\n",
       "        vertical-align: top;\n",
       "    }\n",
       "</style>\n",
       "<table border=\"1\" class=\"dataframe\">\n",
       "  <thead>\n",
       "    <tr style=\"text-align: right;\">\n",
       "      <th></th>\n",
       "      <th></th>\n",
       "      <th>Max</th>\n",
       "      <th>Mean</th>\n",
       "      <th>Min</th>\n",
       "    </tr>\n",
       "    <tr>\n",
       "      <th>Year</th>\n",
       "      <th>Lake</th>\n",
       "      <th></th>\n",
       "      <th></th>\n",
       "      <th></th>\n",
       "    </tr>\n",
       "  </thead>\n",
       "  <tbody>\n",
       "    <tr>\n",
       "      <th rowspan=\"5\" valign=\"top\">2015</th>\n",
       "      <th>Erie</th>\n",
       "      <td>174.74</td>\n",
       "      <td>174.32</td>\n",
       "      <td>173.99</td>\n",
       "    </tr>\n",
       "    <tr>\n",
       "      <th>Michigan-Huron</th>\n",
       "      <td>176.73</td>\n",
       "      <td>176.59</td>\n",
       "      <td>176.48</td>\n",
       "    </tr>\n",
       "    <tr>\n",
       "      <th>Ontario</th>\n",
       "      <td>75.21</td>\n",
       "      <td>74.74</td>\n",
       "      <td>74.41</td>\n",
       "    </tr>\n",
       "    <tr>\n",
       "      <th>St. Clair</th>\n",
       "      <td>175.56</td>\n",
       "      <td>175.20</td>\n",
       "      <td>174.74</td>\n",
       "    </tr>\n",
       "    <tr>\n",
       "      <th>Superior</th>\n",
       "      <td>183.69</td>\n",
       "      <td>183.57</td>\n",
       "      <td>183.42</td>\n",
       "    </tr>\n",
       "    <tr>\n",
       "      <th rowspan=\"5\" valign=\"top\">2016</th>\n",
       "      <th>Erie</th>\n",
       "      <td>174.65</td>\n",
       "      <td>174.41</td>\n",
       "      <td>174.17</td>\n",
       "    </tr>\n",
       "    <tr>\n",
       "      <th>Michigan-Huron</th>\n",
       "      <td>176.84</td>\n",
       "      <td>176.70</td>\n",
       "      <td>176.51</td>\n",
       "    </tr>\n",
       "    <tr>\n",
       "      <th>Ontario</th>\n",
       "      <td>75.11</td>\n",
       "      <td>74.80</td>\n",
       "      <td>74.46</td>\n",
       "    </tr>\n",
       "    <tr>\n",
       "      <th>St. Clair</th>\n",
       "      <td>175.51</td>\n",
       "      <td>175.35</td>\n",
       "      <td>175.12</td>\n",
       "    </tr>\n",
       "    <tr>\n",
       "      <th>Superior</th>\n",
       "      <td>183.70</td>\n",
       "      <td>183.58</td>\n",
       "      <td>183.46</td>\n",
       "    </tr>\n",
       "  </tbody>\n",
       "</table>\n",
       "</div>"
      ],
      "text/plain": [
       "                        Max    Mean     Min\n",
       "Year Lake                                  \n",
       "2015 Erie            174.74  174.32  173.99\n",
       "     Michigan-Huron  176.73  176.59  176.48\n",
       "     Ontario          75.21   74.74   74.41\n",
       "     St. Clair       175.56  175.20  174.74\n",
       "     Superior        183.69  183.57  183.42\n",
       "2016 Erie            174.65  174.41  174.17\n",
       "     Michigan-Huron  176.84  176.70  176.51\n",
       "     Ontario          75.11   74.80   74.46\n",
       "     St. Clair       175.51  175.35  175.12\n",
       "     Superior        183.70  183.58  183.46"
      ]
     },
     "execution_count": 24,
     "metadata": {},
     "output_type": "execute_result"
    }
   ],
   "source": [
    "df = pd.DataFrame({'Mean': mean_levels, 'Max': max_levels, 'Min': min_levels}).dropna()\n",
    "df"
   ]
  },
  {
   "cell_type": "code",
   "execution_count": 25,
   "metadata": {},
   "outputs": [
    {
     "data": {
      "text/html": [
       "<div>\n",
       "<style>\n",
       "    .dataframe thead tr:only-child th {\n",
       "        text-align: right;\n",
       "    }\n",
       "\n",
       "    .dataframe thead th {\n",
       "        text-align: left;\n",
       "    }\n",
       "\n",
       "    .dataframe tbody tr th {\n",
       "        vertical-align: top;\n",
       "    }\n",
       "</style>\n",
       "<table border=\"1\" class=\"dataframe\">\n",
       "  <thead>\n",
       "    <tr style=\"text-align: right;\">\n",
       "      <th></th>\n",
       "      <th>Max</th>\n",
       "      <th>Mean</th>\n",
       "      <th>Min</th>\n",
       "    </tr>\n",
       "    <tr>\n",
       "      <th>Year</th>\n",
       "      <th></th>\n",
       "      <th></th>\n",
       "      <th></th>\n",
       "    </tr>\n",
       "  </thead>\n",
       "  <tbody>\n",
       "    <tr>\n",
       "      <th>2015</th>\n",
       "      <td>174.74</td>\n",
       "      <td>174.32</td>\n",
       "      <td>173.99</td>\n",
       "    </tr>\n",
       "    <tr>\n",
       "      <th>2016</th>\n",
       "      <td>174.65</td>\n",
       "      <td>174.41</td>\n",
       "      <td>174.17</td>\n",
       "    </tr>\n",
       "  </tbody>\n",
       "</table>\n",
       "</div>"
      ],
      "text/plain": [
       "         Max    Mean     Min\n",
       "Year                        \n",
       "2015  174.74  174.32  173.99\n",
       "2016  174.65  174.41  174.17"
      ]
     },
     "execution_count": 25,
     "metadata": {},
     "output_type": "execute_result"
    }
   ],
   "source": [
    "# to select values based on just the inner index level, use the `xs` (\"cross section\") method:\n",
    "df.xs('Erie', level=1)"
   ]
  },
  {
   "cell_type": "code",
   "execution_count": 26,
   "metadata": {},
   "outputs": [
    {
     "data": {
      "text/html": [
       "<div>\n",
       "<style>\n",
       "    .dataframe thead tr:only-child th {\n",
       "        text-align: right;\n",
       "    }\n",
       "\n",
       "    .dataframe thead th {\n",
       "        text-align: left;\n",
       "    }\n",
       "\n",
       "    .dataframe tbody tr th {\n",
       "        vertical-align: top;\n",
       "    }\n",
       "</style>\n",
       "<table border=\"1\" class=\"dataframe\">\n",
       "  <thead>\n",
       "    <tr style=\"text-align: right;\">\n",
       "      <th></th>\n",
       "      <th></th>\n",
       "      <th>Max</th>\n",
       "      <th>Mean</th>\n",
       "      <th>Min</th>\n",
       "    </tr>\n",
       "    <tr>\n",
       "      <th>Year</th>\n",
       "      <th>Lake</th>\n",
       "      <th></th>\n",
       "      <th></th>\n",
       "      <th></th>\n",
       "    </tr>\n",
       "  </thead>\n",
       "  <tbody>\n",
       "    <tr>\n",
       "      <th>2015</th>\n",
       "      <th>Erie</th>\n",
       "      <td>174.74</td>\n",
       "      <td>174.32</td>\n",
       "      <td>173.99</td>\n",
       "    </tr>\n",
       "    <tr>\n",
       "      <th>2016</th>\n",
       "      <th>Erie</th>\n",
       "      <td>174.65</td>\n",
       "      <td>174.41</td>\n",
       "      <td>174.17</td>\n",
       "    </tr>\n",
       "  </tbody>\n",
       "</table>\n",
       "</div>"
      ],
      "text/plain": [
       "              Max    Mean     Min\n",
       "Year Lake                        \n",
       "2015 Erie  174.74  174.32  173.99\n",
       "2016 Erie  174.65  174.41  174.17"
      ]
     },
     "execution_count": 26,
     "metadata": {},
     "output_type": "execute_result"
    }
   ],
   "source": [
    "# Alternatively, you can still use `loc` and pass in an empty slice for the outer level:\n",
    "df.loc[(slice(None), 'Erie'), :]"
   ]
  }
 ],
 "metadata": {
  "kernelspec": {
   "display_name": "Python 3",
   "language": "python",
   "name": "python3"
  },
  "language_info": {
   "codemirror_mode": {
    "name": "ipython",
    "version": 3
   },
   "file_extension": ".py",
   "mimetype": "text/x-python",
   "name": "python",
   "nbconvert_exporter": "python",
   "pygments_lexer": "ipython3",
   "version": "3.6.1"
  }
 },
 "nbformat": 4,
 "nbformat_minor": 2
}

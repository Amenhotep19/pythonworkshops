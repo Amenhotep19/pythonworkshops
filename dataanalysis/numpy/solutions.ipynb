{
 "cells": [
  {
   "cell_type": "markdown",
   "metadata": {
    "collapsed": true
   },
   "source": [
    "# NumPy Exercises\n",
    "----\n",
    "\n",
    "Several of these exercise where taken from https://github.com/rougier/numpy-100"
   ]
  },
  {
   "cell_type": "markdown",
   "metadata": {},
   "source": [
    "## Import\n",
    "\n",
    "Import numpy once at the beginning; also `matplotlib` as there are some exercises with plotting.\n"
   ]
  },
  {
   "cell_type": "code",
   "execution_count": 36,
   "metadata": {
    "collapsed": false
   },
   "outputs": [],
   "source": [
    "import numpy as np\n",
    "import matplotlib.pyplot as plt\n",
    "\n",
    "# static graphs\n",
    "%matplotlib inline "
   ]
  },
  {
   "cell_type": "markdown",
   "metadata": {},
   "source": [
    "## Exercise: Creating Arrays\n",
    "\n",
    "A number of quick array creation exercises"
   ]
  },
  {
   "cell_type": "markdown",
   "metadata": {},
   "source": [
    "Create a null vector (all 0s) of size 10, except make the 6th value equal to 1."
   ]
  },
  {
   "cell_type": "code",
   "execution_count": 7,
   "metadata": {
    "collapsed": false
   },
   "outputs": [
    {
     "name": "stdout",
     "output_type": "stream",
     "text": [
      "[ 0.  0.  0.  0.  1.  0.  0.  0.  0.  0.]\n"
     ]
    }
   ],
   "source": [
    "Z = np.zeros(10)\n",
    "Z[5] = 1\n",
    "print(Z)"
   ]
  },
  {
   "cell_type": "markdown",
   "metadata": {},
   "source": [
    "Create a vector (single dimension array) with values ranging from 5 to 30"
   ]
  },
  {
   "cell_type": "code",
   "execution_count": 9,
   "metadata": {
    "collapsed": false
   },
   "outputs": [
    {
     "name": "stdout",
     "output_type": "stream",
     "text": [
      "[ 5  6  7  8  9 10 11 12 13 14 15 16 17 18 19 20 21 22 23 24 25 26 27 28 29\n",
      " 30]\n"
     ]
    }
   ],
   "source": [
    "Z = np.array(range(5,31))\n",
    "print(Z)"
   ]
  },
  {
   "cell_type": "markdown",
   "metadata": {},
   "source": [
    "Divide each element in the array you created above by 5"
   ]
  },
  {
   "cell_type": "code",
   "execution_count": 12,
   "metadata": {
    "collapsed": false
   },
   "outputs": [
    {
     "name": "stdout",
     "output_type": "stream",
     "text": [
      "[ 1.   1.2  1.4  1.6  1.8  2.   2.2  2.4  2.6  2.8  3.   3.2  3.4  3.6  3.8\n",
      "  4.   4.2  4.4  4.6  4.8  5.   5.2  5.4  5.6  5.8  6. ]\n"
     ]
    }
   ],
   "source": [
    "Z=Z/5\n",
    "print(Z)"
   ]
  },
  {
   "cell_type": "markdown",
   "metadata": {},
   "source": [
    "Create an array of size 10 with random normal variables; hint: https://docs.scipy.org/doc/numpy/reference/generated/numpy.random.normal.html"
   ]
  },
  {
   "cell_type": "code",
   "execution_count": 17,
   "metadata": {
    "collapsed": false
   },
   "outputs": [
    {
     "name": "stdout",
     "output_type": "stream",
     "text": [
      "[-0.62122236 -0.59034175 -0.24187946  1.61300743 -2.16538212  0.05417118\n",
      "  0.36555192 -0.54979091  2.09521731  1.29230777]\n"
     ]
    },
    {
     "data": {
      "text/plain": [
       "numpy.ndarray"
      ]
     },
     "execution_count": 17,
     "metadata": {},
     "output_type": "execute_result"
    }
   ],
   "source": [
    "Z = np.random.normal(size=10)\n",
    "print(Z)"
   ]
  },
  {
   "cell_type": "markdown",
   "metadata": {},
   "source": [
    "## Exercise: Get Information about an Array"
   ]
  },
  {
   "cell_type": "markdown",
   "metadata": {},
   "source": [
    "Write a function that accepts as an argument a numpy array - which is provided - and prints the array dimentions, the shape and the size. "
   ]
  },
  {
   "cell_type": "code",
   "execution_count": 2,
   "metadata": {
    "collapsed": false
   },
   "outputs": [],
   "source": [
    "myarray = np.array([[0.1,0.2,0.3],[0.,0.3,0.05],[0.,0.4,0.01]])"
   ]
  },
  {
   "cell_type": "code",
   "execution_count": 4,
   "metadata": {
    "collapsed": false
   },
   "outputs": [
    {
     "name": "stdout",
     "output_type": "stream",
     "text": [
      "Size:  9\n",
      "Dimensions:  2\n",
      "Shape:  (3, 3)\n"
     ]
    }
   ],
   "source": [
    "def array_info(a1):\n",
    "    print('Size: ', a1.size)\n",
    "    print('Dimensions: ', np.ndim(a1))\n",
    "    print('Shape: ', a1.shape)\n",
    "\n",
    "array_info(myarray)"
   ]
  },
  {
   "cell_type": "markdown",
   "metadata": {},
   "source": [
    "Then reshape the array to a 2D: 1x9 and 1D of 9 elements. Assign two different variables (a and b) to hold the new reshaped arrays, print the results with your function."
   ]
  },
  {
   "cell_type": "code",
   "execution_count": 5,
   "metadata": {
    "collapsed": false
   },
   "outputs": [
    {
     "name": "stdout",
     "output_type": "stream",
     "text": [
      "Size:  9\n",
      "Dimensions:  2\n",
      "Shape:  (1, 9)\n",
      "Size:  9\n",
      "Dimensions:  1\n",
      "Shape:  (9,)\n"
     ]
    }
   ],
   "source": [
    "a=myarray.reshape((1,9))\n",
    "b=myarray.reshape((9))\n",
    "array_info(a)\n",
    "array_info(b)"
   ]
  },
  {
   "cell_type": "markdown",
   "metadata": {},
   "source": [
    "*Linear Algebra:* Calculate the determinant of `myarray` and print the value.  "
   ]
  },
  {
   "cell_type": "code",
   "execution_count": 6,
   "metadata": {
    "collapsed": false
   },
   "outputs": [
    {
     "name": "stdout",
     "output_type": "stream",
     "text": [
      "-0.0017\n"
     ]
    }
   ],
   "source": [
    "dett=np.linalg.det(myarray)\n",
    "print(dett)"
   ]
  },
  {
   "cell_type": "markdown",
   "metadata": {},
   "source": [
    "## Exercise: Matrices\n",
    "\n",
    "Create a numpy array of 100 elements with values from 0.0 to 0.2 and reshape to a square 10x10 matrix. Hint: use the `arange` function\n",
    "\n",
    "*Linear Algebra*: Create an identity matrix of size 10x10 and verify that the matrix multiplication with the previously defined matrix results in the same matrix. Use both the `dot` and `matmul` functions for numpy arrays to check to make sure multiplying by the identify matrix gave you back the same original matrix. "
   ]
  },
  {
   "cell_type": "code",
   "execution_count": 22,
   "metadata": {
    "collapsed": false
   },
   "outputs": [
    {
     "name": "stdout",
     "output_type": "stream",
     "text": [
      "[[ 0.     0.002  0.004  0.006  0.008  0.01   0.012  0.014  0.016  0.018]\n",
      " [ 0.02   0.022  0.024  0.026  0.028  0.03   0.032  0.034  0.036  0.038]\n",
      " [ 0.04   0.042  0.044  0.046  0.048  0.05   0.052  0.054  0.056  0.058]\n",
      " [ 0.06   0.062  0.064  0.066  0.068  0.07   0.072  0.074  0.076  0.078]\n",
      " [ 0.08   0.082  0.084  0.086  0.088  0.09   0.092  0.094  0.096  0.098]\n",
      " [ 0.1    0.102  0.104  0.106  0.108  0.11   0.112  0.114  0.116  0.118]\n",
      " [ 0.12   0.122  0.124  0.126  0.128  0.13   0.132  0.134  0.136  0.138]\n",
      " [ 0.14   0.142  0.144  0.146  0.148  0.15   0.152  0.154  0.156  0.158]\n",
      " [ 0.16   0.162  0.164  0.166  0.168  0.17   0.172  0.174  0.176  0.178]\n",
      " [ 0.18   0.182  0.184  0.186  0.188  0.19   0.192  0.194  0.196  0.198]]\n"
     ]
    }
   ],
   "source": [
    "a = np.arange(0,0.2,0.002).reshape(10,10)\n",
    "print(a)"
   ]
  },
  {
   "cell_type": "code",
   "execution_count": 25,
   "metadata": {
    "collapsed": false
   },
   "outputs": [
    {
     "name": "stdout",
     "output_type": "stream",
     "text": [
      "[[ 0.  0.  0.  0.  0.  0.  0.  0.  0.  0.]\n",
      " [ 0.  0.  0.  0.  0.  0.  0.  0.  0.  0.]\n",
      " [ 0.  0.  0.  0.  0.  0.  0.  0.  0.  0.]\n",
      " [ 0.  0.  0.  0.  0.  0.  0.  0.  0.  0.]\n",
      " [ 0.  0.  0.  0.  0.  0.  0.  0.  0.  0.]\n",
      " [ 0.  0.  0.  0.  0.  0.  0.  0.  0.  0.]\n",
      " [ 0.  0.  0.  0.  0.  0.  0.  0.  0.  0.]\n",
      " [ 0.  0.  0.  0.  0.  0.  0.  0.  0.  0.]\n",
      " [ 0.  0.  0.  0.  0.  0.  0.  0.  0.  0.]\n",
      " [ 0.  0.  0.  0.  0.  0.  0.  0.  0.  0.]]\n",
      "[[ 0.  0.  0.  0.  0.  0.  0.  0.  0.  0.]\n",
      " [ 0.  0.  0.  0.  0.  0.  0.  0.  0.  0.]\n",
      " [ 0.  0.  0.  0.  0.  0.  0.  0.  0.  0.]\n",
      " [ 0.  0.  0.  0.  0.  0.  0.  0.  0.  0.]\n",
      " [ 0.  0.  0.  0.  0.  0.  0.  0.  0.  0.]\n",
      " [ 0.  0.  0.  0.  0.  0.  0.  0.  0.  0.]\n",
      " [ 0.  0.  0.  0.  0.  0.  0.  0.  0.  0.]\n",
      " [ 0.  0.  0.  0.  0.  0.  0.  0.  0.  0.]\n",
      " [ 0.  0.  0.  0.  0.  0.  0.  0.  0.  0.]\n",
      " [ 0.  0.  0.  0.  0.  0.  0.  0.  0.  0.]]\n",
      "[[ True  True  True  True  True  True  True  True  True  True]\n",
      " [ True  True  True  True  True  True  True  True  True  True]\n",
      " [ True  True  True  True  True  True  True  True  True  True]\n",
      " [ True  True  True  True  True  True  True  True  True  True]\n",
      " [ True  True  True  True  True  True  True  True  True  True]\n",
      " [ True  True  True  True  True  True  True  True  True  True]\n",
      " [ True  True  True  True  True  True  True  True  True  True]\n",
      " [ True  True  True  True  True  True  True  True  True  True]\n",
      " [ True  True  True  True  True  True  True  True  True  True]\n",
      " [ True  True  True  True  True  True  True  True  True  True]]\n",
      "[[ True  True  True  True  True  True  True  True  True  True]\n",
      " [ True  True  True  True  True  True  True  True  True  True]\n",
      " [ True  True  True  True  True  True  True  True  True  True]\n",
      " [ True  True  True  True  True  True  True  True  True  True]\n",
      " [ True  True  True  True  True  True  True  True  True  True]\n",
      " [ True  True  True  True  True  True  True  True  True  True]\n",
      " [ True  True  True  True  True  True  True  True  True  True]\n",
      " [ True  True  True  True  True  True  True  True  True  True]\n",
      " [ True  True  True  True  True  True  True  True  True  True]\n",
      " [ True  True  True  True  True  True  True  True  True  True]]\n"
     ]
    }
   ],
   "source": [
    "ide=np.eye(10,10)\n",
    "## check that result of multiplication = a by subtracting a\n",
    "print(np.matmul(a,ide)-a) \n",
    "print(a.dot(ide)-a)\n",
    "## or just check with ==\n",
    "print(np.matmul(a,ide)==a)\n",
    "print(a.dot(ide)==a)"
   ]
  },
  {
   "cell_type": "markdown",
   "metadata": {},
   "source": [
    "## Exercise: Find min and max\n",
    "\n",
    "Create a 10x10 array with random values and find the minimum and maximum values "
   ]
  },
  {
   "cell_type": "code",
   "execution_count": 78,
   "metadata": {
    "collapsed": false
   },
   "outputs": [
    {
     "name": "stdout",
     "output_type": "stream",
     "text": [
      "0.002469312122 0.99928729993\n"
     ]
    }
   ],
   "source": [
    "Z = np.random.random((10,10))\n",
    "Zmin, Zmax = Z.min(), Z.max()\n",
    "print(Zmin, Zmax)"
   ]
  },
  {
   "cell_type": "markdown",
   "metadata": {},
   "source": [
    "## Exercise: Filling Matrices\n",
    "\n",
    "Create a 5x5 matrix with values 1,2,3,4 just below the diagonal.  Hint: look for a parameter to set with the `diag` function."
   ]
  },
  {
   "cell_type": "code",
   "execution_count": null,
   "metadata": {
    "collapsed": true
   },
   "outputs": [],
   "source": [
    "Z = np.diag(1+np.arange(4),k=-1)\n",
    "print(Z)"
   ]
  },
  {
   "cell_type": "markdown",
   "metadata": {},
   "source": [
    "## Exercise: Adding a Border\n",
    "\n",
    "Create a 8x8 2D array of 1s, then add a border of 0s around it on all sides.  Hunt: look for a function that will help you do this."
   ]
  },
  {
   "cell_type": "code",
   "execution_count": 40,
   "metadata": {
    "collapsed": false
   },
   "outputs": [
    {
     "name": "stdout",
     "output_type": "stream",
     "text": [
      "[[ 0.  0.  0.  0.  0.  0.  0.]\n",
      " [ 0.  1.  1.  1.  1.  1.  0.]\n",
      " [ 0.  1.  1.  1.  1.  1.  0.]\n",
      " [ 0.  1.  1.  1.  1.  1.  0.]\n",
      " [ 0.  1.  1.  1.  1.  1.  0.]\n",
      " [ 0.  1.  1.  1.  1.  1.  0.]\n",
      " [ 0.  0.  0.  0.  0.  0.  0.]]\n"
     ]
    }
   ],
   "source": [
    "Z = np.ones((5,5))\n",
    "Z = np.pad(Z, pad_width=1, mode='constant', constant_values=0)\n",
    "print(Z)"
   ]
  },
  {
   "cell_type": "markdown",
   "metadata": {},
   "source": [
    "## Exercise: Changing Array Values\n",
    "\n",
    "Create a 1D array with values 0 to 10.  Negate (make negative) all elements which are between 3 and 8, in place."
   ]
  },
  {
   "cell_type": "code",
   "execution_count": null,
   "metadata": {
    "collapsed": true
   },
   "outputs": [],
   "source": [
    "Z = np.arange(11)\n",
    "Z[(3 < Z) & (Z <= 8)] *= -1\n",
    "print(Z)"
   ]
  },
  {
   "cell_type": "markdown",
   "metadata": {},
   "source": [
    "## Exercise: Dates\n",
    "\n",
    "NumPy can handle dates.  Get the date for today, yesterday, and tomorrow.  Hint: https://docs.scipy.org/doc/numpy/reference/arrays.datetime.html"
   ]
  },
  {
   "cell_type": "code",
   "execution_count": 41,
   "metadata": {
    "collapsed": false
   },
   "outputs": [
    {
     "name": "stdout",
     "output_type": "stream",
     "text": [
      "2017-08-01 2017-08-02 2017-08-03\n"
     ]
    }
   ],
   "source": [
    "yesterday = np.datetime64('today', 'D') - np.timedelta64(1, 'D')\n",
    "today     = np.datetime64('today', 'D')\n",
    "tomorrow  = np.datetime64('today', 'D') + np.timedelta64(1, 'D')\n",
    "print(yesterday, today, tomorrow)"
   ]
  },
  {
   "cell_type": "markdown",
   "metadata": {},
   "source": [
    "## Exercise: Normalizing Values\n",
    "\n",
    "Create a 10x10 array of random values.  Normalize the values by row by subtracting the row mean and dividing by the row standard deviation."
   ]
  },
  {
   "cell_type": "code",
   "execution_count": 48,
   "metadata": {
    "collapsed": false
   },
   "outputs": [
    {
     "name": "stdout",
     "output_type": "stream",
     "text": [
      "[  8.88178420e-17  -5.32907052e-16  -1.66533454e-16  -2.44249065e-16\n",
      "   3.33066907e-17   1.44328993e-16   4.44089210e-17  -9.99200722e-17\n",
      "   3.33066907e-17  -2.22044605e-17]\n"
     ]
    }
   ],
   "source": [
    "Z = np.random.rand(10,10)\n",
    "zmean = Z.mean(axis=1, keepdims=True)\n",
    "zstd = Z.std(axis=1, keepdims=True)\n",
    "Z = (Z-zmean)/zstd\n",
    "\n",
    "## check -- should be essentially 0s\n",
    "print(Z.mean(axis=1))"
   ]
  },
  {
   "cell_type": "markdown",
   "metadata": {},
   "source": [
    "## Exercise: OLS Regression\n",
    "\n",
    "*You may be able to do parts of this without knowing linear algebra, but this is fundamentally about linear algebra operations.*\n",
    "\n",
    "Calculate a ordinary least squares regression with linear algebra, then use NumPy's function to check.\n",
    "\n",
    "Create the data:\n",
    "\n",
    "1) Create a 1D array, `y` of 100 random values.\n",
    "\n",
    "2) Create a 2D array, `X`, that is 100x3, initially filled with 1s.\n",
    "\n",
    "3) Set the 2nd column of `X` to be `2 * y + 0.1 * random noise`\n",
    "\n",
    "4) Set the 3rd column of `X` to be  `-3 * y + 0.2 * random noise`\n",
    "\n",
    "Compute the regression coefficients ($\\beta$).  Remember (or learn): $\\hat\\beta = (X^T X)^{-1} X^T y$\n",
    "\n",
    "Compare the $\\beta$ you computed to the output of `numpy.linalg.lstsq`.\n"
   ]
  },
  {
   "cell_type": "code",
   "execution_count": 77,
   "metadata": {
    "collapsed": false
   },
   "outputs": [
    {
     "name": "stdout",
     "output_type": "stream",
     "text": [
      "[-0.00278903  0.31546605 -0.12325183]\n",
      "[-0.00278903  0.31546605 -0.12325183]\n"
     ]
    }
   ],
   "source": [
    "y = np.random.rand(100)\n",
    "X = np.ones((100,3))\n",
    "X[:,1] = 2*y + 0.1*np.random.rand(100)\n",
    "X[:,2] = -3*y + 0.2*np.random.rand(100)\n",
    "beta = np.matmul(np.matmul(np.linalg.inv(np.matmul(X.T, X)), X.T), y)\n",
    "print(beta)\n",
    "print(np.linalg.lstsq(X,y)[0])"
   ]
  },
  {
   "cell_type": "markdown",
   "metadata": {},
   "source": [
    "## Challenging Exercise: 2D Random Walk\n",
    "\n",
    "Create a random walk in 2D with equal probability with steps of 1 and -1 along each direction.  The objective is to determine at what point the distance traveled exceeds a threshold  (\"first crossing distance\").\n",
    "\n",
    "Suggested steps: \n",
    "* Define number of steps of 1000\n",
    "* Create an integer random array of draws between 0 and 1 of shape 100x100 and name it `draws`\n",
    "* Use the `where` function to set the values of the array to 1 if the original array value is > 0 otherwise -1 : Name that new array: `steps`\n",
    "* Set the (0,0) element of `draws` to 0 \n",
    "* Calculate the cumulative sum of steps along the 0-axis (across rows) and the cumulative sum along the 1-axis (across columns). Each operation will result to an array of the same shape as steps\n",
    "* Calculate the 2D array of walks by adding the squares of the two cumulative sums and then take the square root (square each matrix, add them, take the square root of the result). Name the 2D array of walks as `walk`\n",
    "* Verify that the shape of the `walk` array is the same as the `draws` array \n",
    "[This is verification is just a check because we need to create a 2D array of walk. If we forget to specify the axis in the cumulative sum, the output would be a 1D array. ]\n",
    "\n",
    "Once we have the walk array populated, we set up a critical value in the distance traveled. We then seek to identify the cells above that critical value and select the first occurance where the condition is satisfied. \n",
    "\n",
    "To do that, we find the list of indices along the rows (axis=0) where the condition: walk >= 10 (first crossing distance) is first satisfied using `argmax(axis=0)` method on the booleen array `walk >=10`. The `.argmax(axis=0)` method will return the index of the first occurence.\n",
    "\n",
    "Name the output `ii`\n",
    "\n",
    "Repeat for the list of indices along the columns (axis=1) and name output `jj`\n",
    "\n",
    "The value of the first crossing distance is equal `walk[ii[0],jj[0]]`\n",
    "\n",
    "You may contour plot the walk 2D array by importing the `matplotlib` package and use [`countourf`](https://matplotlib.org/api/_as_gen/matplotlib.axes.Axes.contourf.html) routine. Do not specify any axes, so you would be contour plotting the values of the array against the indices of the array elements.\n",
    "\n",
    "Set colourMap = plt.cm.coolwarm for the color table. When you run: \n",
    "plt.show(), the contour plot will show a 2D map of the walk array values, where blue cells have low walk value, and red high walk values. The `ii` index runs from the point of origin upwards and the `jj` index runs from the point of origin rightwards. Therefore you would be able to visually see which red dot roughly corresponds to the location of first crossing distance."
   ]
  },
  {
   "cell_type": "code",
   "execution_count": 11,
   "metadata": {
    "collapsed": false
   },
   "outputs": [
    {
     "name": "stdout",
     "output_type": "stream",
     "text": [
      "(10000,)\n",
      "(100, 100)\n",
      "73 59\n",
      "12.8062484749\n"
     ]
    },
    {
     "data": {
      "image/png": "[encoded data removed]",
      "text/plain": [
       "<matplotlib.figure.Figure at 0x10f658b00>"
      ]
     },
     "metadata": {},
     "output_type": "display_data"
    }
   ],
   "source": [
    "import numpy as np\n",
    "import matplotlib.pyplot as plt\n",
    "nsteps=10000\n",
    "draws =np.random.randint(0,2,size=nsteps).reshape(100,100)\n",
    "draws[0][0]=0\n",
    "steps=np.where(draws >0, 1, -1)\n",
    "print(np.cumsum(steps).shape)\n",
    "walk=np.sqrt(np.cumsum(steps,axis=0)**2+np.cumsum(steps,axis=1)**2)\n",
    "print(walk.shape)\n",
    "ii=(walk >= 10 ).argmax(axis=0)\n",
    "jj=(walk >= 10 ).argmax(axis=1)\n",
    "print(ii[0],jj[0])\n",
    "print(walk[ii[0],jj[0]])\n",
    "\n",
    "levels = 50 # The number of contours to use\n",
    "colourMap = plt.cm.coolwarm\n",
    "plt.contourf(walk,levels, cmap=colourMap)\n",
    "plt.show()"
   ]
  },
  {
   "cell_type": "markdown",
   "metadata": {},
   "source": [
    "## Exercise: Working with Matrices\n",
    "\n",
    "Define two square matrices of 10x10. One with values from 0.0 to 1 (step is 0.01) and another with values from 1 to 101 (step is 1) Hint: You can use the `matrix` routine to convert the array to a matrix after you construct a `numpy` array of 100 elements with `arange` and `reshape`. \n",
    "\n",
    "a) Write a function that accepts as input an array (2D) and calculates the sum of the elements in the diagonal. Verify the results by comparing with the output from the trace attribute of a matrix. Hint: `np.trace(*square matrix*)` -> outputs the sum of all of the elements in the diagonal. Check your function on the two matrices you created.\n",
    "\n",
    "b) Write a function that accepts as an input an array (2D) calculates the average values of all the elements. You can use the sum attribute and divide by the total number of elements. Hint: `np.sum(*matrix*)` -> outputs the sum of all the elements in the matrix and `np.size(*matrix*)` -> prints the total number of elements.  Check this function on the two matrices you created.\n",
    "\n",
    "c) From the output of second function, calculate how many elements are above or below/equal the average value. You can use the `count_nonzero` attribute as: `np.count_nonzero(*matrix* > *average*)` to calculate the number of elements greater than the average value. To find the number of elements that are less or equal to the average value you can subtract from the total number of elements (100) the number of elements that have values greater than the average."
   ]
  },
  {
   "cell_type": "code",
   "execution_count": 28,
   "metadata": {
    "collapsed": false
   },
   "outputs": [
    {
     "name": "stdout",
     "output_type": "stream",
     "text": [
      "4.95 4.95\n",
      "505 505\n",
      "0.495\n",
      "50.5\n",
      "50 50\n",
      "50 50\n"
     ]
    }
   ],
   "source": [
    "a=np.arange(0,1,0.01).reshape(10,10)\n",
    "a=np.matrix(a)\n",
    "b=np.arange(1,101,1).reshape(10,10)\n",
    "b=np.matrix(b)\n",
    "\n",
    "def sumarr(inarray):\n",
    "    return np.diag(inarray).sum()\n",
    "\n",
    "def avearr(inarray):\n",
    "    return np.sum(inarray)/np.size(inarray)\n",
    "\n",
    "print(sumarr(a),np.trace(a)) # two values should be the same\n",
    "print(sumarr(b),np.trace(b)) # two values should be the same\n",
    "\n",
    "mean_a=avearr(a)\n",
    "mean_b=avearr(b)\n",
    "print(mean_a)\n",
    "print(mean_b)\n",
    "\n",
    "y=np.count_nonzero(a > mean_a)\n",
    "z=np.count_nonzero(b > mean_b)\n",
    "print(y,np.size(a)-y)\n",
    "print(z,np.size(b)-z)\n"
   ]
  },
  {
   "cell_type": "markdown",
   "metadata": {},
   "source": [
    "## Exercise: Fit a Polynomial\n",
    "\n",
    "Load file [`input.dat`](https://github.com/nuitrcs/pythonworkshops/raw/master/dataanalysis/numpy/input.dat) using the `loadtxt` routine to a variable with the name `data`. It will contain a two column tabulated data of x and y. Use the `polyfit` routine to fit the data to a 3rd degree polynomial and plot the data and the fit using 200 points (hint: use `linspace`). Calculate and print the roots of the fit. \n",
    "\n",
    "Note: we'll cover `matplotlib` in another section; for now, use the example from the presentation/lecture materials as a guide."
   ]
  },
  {
   "cell_type": "code",
   "execution_count": 29,
   "metadata": {
    "collapsed": false,
    "scrolled": true
   },
   "outputs": [
    {
     "data": {
      "image/png": "[encoded data removed]",
      "text/plain": [
       "<matplotlib.figure.Figure at 0x115e58668>"
      ]
     },
     "metadata": {},
     "output_type": "display_data"
    },
    {
     "name": "stdout",
     "output_type": "stream",
     "text": [
      "[ 1.31933637+0.j         -0.09380790+0.89019068j -0.09380790-0.89019068j]\n"
     ]
    }
   ],
   "source": [
    "data = np.loadtxt(\"input.dat\", delimiter=' ')\n",
    "x = data[:,0]\n",
    "y = data[:,1]\n",
    "\n",
    "# Fit the data using polyfit and constuct a polynomial from the fit\n",
    "p = np.poly1d(np.polyfit(x, y, 3)) # [Pascal: there was a 4 here before for degree -- shouldn't it be a 3?]\n",
    "\n",
    "t = np.linspace(0, 1, 200) # make x values for fitted\n",
    "\n",
    "# plot the data and the fit\n",
    "plt.plot(x, y, 'o', t, p(t), '-')\n",
    "plt.show()\n",
    "print(p.roots)"
   ]
  },
  {
   "cell_type": "markdown",
   "metadata": {},
   "source": [
    "## Exercise: Least-squares fit\n",
    "\n",
    "Write a python code that, for 10 x values $ 0.2 \\le x_i \\le 2\\pi $ \n",
    "\n",
    "produces y values randomly perturbed around the curve $y_{i}= 0.5cos({x_i})+3sin(5{x_i})$ by adding to the value of the function 0.05 * a draw from a random normal distribution. [Pascal: I tried to simplify and clarify this part a bit so people could actually write the code to generate the data.  If it should be something else, clarify and fix it.]\n",
    "\n",
    "Then fit the data using numpy's least squares routine (hint: look in the `linalg` submodule). [Pascal: based on solution, looks like they will need some guidance on how to do this]\n",
    "\n",
    "Plot the data you generated and the fitted line.\n",
    "\n",
    "Note: we'll cover `matplotlib` in another section; for now, use the example from the presentation/lecture materials as a guide or skip the plotting part."
   ]
  },
  {
   "cell_type": "code",
   "execution_count": 34,
   "metadata": {
    "collapsed": false
   },
   "outputs": [
    {
     "data": {
      "image/png": "[encoded data removed]",
      "text/plain": [
       "<matplotlib.figure.Figure at 0x11716fd68>"
      ]
     },
     "metadata": {},
     "output_type": "display_data"
    }
   ],
   "source": [
    "c1, c2 = 0.5, 3.0 # coefficients\n",
    "i = np.arange(1,11) # 10 values\n",
    "xi = 0.2* np.pi * i # convert to range specified \n",
    "yi = c1*np.cos(xi) + c2*np.sin(5*xi) # define core function\n",
    "zi = yi + 0.05 * np.random.randn(len(yi)) # add random variance\n",
    "\n",
    "# [Pascal: what is going on below?  You'll need to give people a hint on how to construct A]\n",
    "A = np.c_[np.cos(xi)[:, np.newaxis], np.sin(0.5*xi)[:, np.newaxis]]\n",
    "c, resid, rank, sigma = np.linalg.lstsq(A, zi) # solve using linalg.lsteq\n",
    "xi2 = np.r_[xi[0]:max(xi):100j]\n",
    "yi2 = c[0]*np.cos(xi2) + c[1]*np.sin(5*xi2)\n",
    "\n",
    "plt.plot(xi,zi,'x',xi2,yi2)\n",
    "plt.xlabel('$x_i$')\n",
    "plt.title('Data fits')\n",
    "plt.show()"
   ]
  },
  {
   "cell_type": "markdown",
   "metadata": {},
   "source": [
    "## Exercise: Explore Normal Distribution\n",
    "\n",
    "Use the `random.randn` routine from numpy to create a standard normal distribution array of 4000 values.\n",
    "\n",
    "Use the `histogram` routine from numpy with number of bins equal to 100. \n",
    "\n",
    "The `histogram` routine will return a tuple of two arrays. The first tuple element is the histogram values (100 values) and second is the bin edges of each interval - 101 points. \n",
    "\n",
    "Calculate a numpy array of the middle points for each bin. Plot the `histogram` values against the array of middle points. "
   ]
  },
  {
   "cell_type": "code",
   "execution_count": 38,
   "metadata": {
    "collapsed": false
   },
   "outputs": [
    {
     "name": "stdout",
     "output_type": "stream",
     "text": [
      "(array([  1,   0,   2,   0,   1,   2,   1,   3,   1,   0,   6,  10,   1,\n",
      "         9,   8,  10,   7,   7,   7,  13,  25,  18,  10,  18,  24,  24,\n",
      "        29,  27,  38,  42,  35,  33,  53,  40,  69,  63,  65,  70,  79,\n",
      "        80,  73,  78,  78, 106,  91, 106,  95, 102, 103,  89, 134, 125,\n",
      "        97,  85, 115,  85,  97,  92,  65,  91,  85,  82,  94,  78,  68,\n",
      "        60,  68,  51,  59,  68,  42,  46,  37,  26,  40,  29,  30,  27,\n",
      "        25,  20,  24,  15,   9,   8,  10,  13,   9,   4,  10,   3,   6,\n",
      "         2,   2,   6,   1,   2,   1,   0,   1,   1]), array([-3.33922922, -3.27420073, -3.20917224, -3.14414374, -3.07911525,\n",
      "       -3.01408676, -2.94905826, -2.88402977, -2.81900128, -2.75397278,\n",
      "       -2.68894429, -2.6239158 , -2.5588873 , -2.49385881, -2.42883032,\n",
      "       -2.36380182, -2.29877333, -2.23374484, -2.16871634, -2.10368785,\n",
      "       -2.03865936, -1.97363086, -1.90860237, -1.84357388, -1.77854538,\n",
      "       -1.71351689, -1.6484884 , -1.5834599 , -1.51843141, -1.45340292,\n",
      "       -1.38837442, -1.32334593, -1.25831744, -1.19328894, -1.12826045,\n",
      "       -1.06323196, -0.99820346, -0.93317497, -0.86814648, -0.80311798,\n",
      "       -0.73808949, -0.673061  , -0.6080325 , -0.54300401, -0.47797552,\n",
      "       -0.41294702, -0.34791853, -0.28289004, -0.21786154, -0.15283305,\n",
      "       -0.08780455, -0.02277606,  0.04225243,  0.10728093,  0.17230942,\n",
      "        0.23733791,  0.30236641,  0.3673949 ,  0.43242339,  0.49745189,\n",
      "        0.56248038,  0.62750887,  0.69253737,  0.75756586,  0.82259435,\n",
      "        0.88762285,  0.95265134,  1.01767983,  1.08270833,  1.14773682,\n",
      "        1.21276531,  1.27779381,  1.3428223 ,  1.40785079,  1.47287929,\n",
      "        1.53790778,  1.60293627,  1.66796477,  1.73299326,  1.79802175,\n",
      "        1.86305025,  1.92807874,  1.99310723,  2.05813573,  2.12316422,\n",
      "        2.18819271,  2.25322121,  2.3182497 ,  2.38327819,  2.44830669,\n",
      "        2.51333518,  2.57836367,  2.64339217,  2.70842066,  2.77344915,\n",
      "        2.83847765,  2.90350614,  2.96853463,  3.03356313,  3.09859162,\n",
      "        3.16362011]))\n"
     ]
    }
   ],
   "source": [
    "dfl= np.random.randn(4000)\n",
    "bins=100\n",
    "dhist=np.histogram(dfl,bins)\n",
    "print(dhist)\n",
    "dhisty=dhist[0] # first tuple element\n",
    "dhistx=dhist[1] # second tuple element\n",
    "xx=0.5*(dhistx[1:bins+1]+dhistx[0:bins]) # midpoints"
   ]
  },
  {
   "cell_type": "code",
   "execution_count": 454,
   "metadata": {
    "collapsed": false,
    "scrolled": true
   },
   "outputs": [
    {
     "data": {
      "image/png": "[encoded data removed]",
      "text/plain": [
       "<matplotlib.figure.Figure at 0x10e26ed30>"
      ]
     },
     "metadata": {},
     "output_type": "display_data"
    }
   ],
   "source": [
    "plt.plot(xx,dhisty)\n",
    "plt.show()"
   ]
  }
 ],
 "metadata": {
  "kernelspec": {
   "display_name": "Python 3 (conda p3)",
   "language": "python",
   "name": "p3"
  },
  "language_info": {
   "codemirror_mode": {
    "name": "ipython",
    "version": 3
   },
   "file_extension": ".py",
   "mimetype": "text/x-python",
   "name": "python",
   "nbconvert_exporter": "python",
   "pygments_lexer": "ipython3",
   "version": "3.6.1"
  }
 },
 "nbformat": 4,
 "nbformat_minor": 2
}

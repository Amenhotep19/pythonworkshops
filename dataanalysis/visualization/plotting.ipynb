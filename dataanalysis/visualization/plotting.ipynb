{
 "cells": [
  {
   "cell_type": "markdown",
   "metadata": {},
   "source": [
    "# Data Visualization in Python\n",
    "----\n",
    "\n",
    "# [matplotlib](https://matplotlib.org/) and pandas"
   ]
  },
  {
   "cell_type": "markdown",
   "metadata": {},
   "source": [
    "pandas uses matplotlib to make plotting data sets easy.  You can also use features of matplotlib directly when plotting. We're going to use both methods below to see the differences and similarities.  The method (pandas or matplotlib) is marked for the cells so you can keep track of the different methods."
   ]
  },
  {
   "cell_type": "markdown",
   "metadata": {},
   "source": [
    "## Parts of a matplotlib plot\n",
    "\n",
    "<img src=\"https://github.com/nuitrcs/pythonworkshops/raw/master/dataanalysis/visualization/plotparts.png\" width=500>"
   ]
  },
  {
   "cell_type": "markdown",
   "metadata": {},
   "source": [
    "<img src=\"https://github.com/nuitrcs/pythonworkshops/raw/master/dataanalysis/visualization/anatomy1.png\" width=500>"
   ]
  },
  {
   "cell_type": "markdown",
   "metadata": {},
   "source": [
    "## matplotlib documentation \n",
    "\n",
    "matplotlib.org\n",
    "\n",
    "* http://matplotlib.org/users/beginner.html\n",
    "* http://matplotlib.org/api/pyplot_summary.html\n",
    "* http://matplotlib.org/gallery.html "
   ]
  },
  {
   "cell_type": "markdown",
   "metadata": {},
   "source": [
    "## Getting Started\n",
    "\n",
    "Import libraries, tell the notebook to show matplotlib plots inline and make them interactive (use `%matplotlib notebook` instead for interactive plots).  Note that with interactive plots, you'll need to use plt.close() to close them afterward."
   ]
  },
  {
   "cell_type": "code",
   "execution_count": null,
   "metadata": {
    "collapsed": false
   },
   "outputs": [],
   "source": [
    "%matplotlib inline\n",
    "\n",
    "import pandas as pd\n",
    "import matplotlib.pyplot as plt\n",
    "import matplotlib\n",
    "\n",
    "import datetime as dt\n",
    "import matplotlib.dates as dates"
   ]
  },
  {
   "cell_type": "markdown",
   "metadata": {},
   "source": [
    "Read in [earthquakes data](http://www.ldeo.columbia.edu/~felixw/NCAeqDD/).  It's on the large side, so it will take a minute to load.\n",
    "\n",
    "Note that there's a bunch of extra info at the start of the file, so we'll need to skip that.  Also, some columns are combined under a single header, so we'll manually specify the header."
   ]
  },
  {
   "cell_type": "raw",
   "metadata": {},
   "source": [
    "From the file:\n",
    "\n",
    "FORMAT DESCRIPTION:\n",
    "DATE......... Year, Month, Day\n",
    "TIME......... Hour, Minute, Second\n",
    "LAT/LON...... Location\n",
    "DEP.......... Depth [km]\n",
    "EH1/EH2/AZ... Horizontal major/minor axis [km] and azimuth of the 95% \n",
    "              relative location error ellipses. (-1 if not available).\n",
    "EV........... Vertical relative location error [km] at the 95%\n",
    "              confidence level. (-1 if not available).\n",
    "MAG.......... Magnitude, ML, as listed in the NCSN catalog. \n",
    "ID........... CUSP event ID."
   ]
  },
  {
   "cell_type": "code",
   "execution_count": null,
   "metadata": {
    "collapsed": false
   },
   "outputs": [],
   "source": [
    "df = pd.read_csv(\"http://www.ldeo.columbia.edu/~felixw/NCAeqDD/NCAeqDD.v201112.1.gz\", \n",
    "                 compression='gzip',\n",
    "                 delim_whitespace=True, skiprows=79, na_values=[-1],\n",
    "                 names=[\"YEAR\", \"MONTH\", \"DAY\", \"HOUR\", \"MINUTE\", \"SECOND\",\n",
    "                        \"LAT\", \"LON\", \"DEP\", \"EH1\", \"EH2\", \"AZ\", \"EZ\", \"MAG\", \"ID\"])\n",
    "df.head(10)"
   ]
  },
  {
   "cell_type": "markdown",
   "metadata": {},
   "source": [
    "Let's plot magnitude vs. depth, using only the first 50 obs.  See what different options do.\n",
    "\n",
    "Let's just plot the data frame directly to start, using pandas defaults"
   ]
  },
  {
   "cell_type": "code",
   "execution_count": null,
   "metadata": {
    "collapsed": false
   },
   "outputs": [],
   "source": [
    "#pandas\n",
    "df[:50].plot(x='MAG', y='DEP')"
   ]
  },
  {
   "cell_type": "markdown",
   "metadata": {},
   "source": [
    "Hmm, not really what we want.  \n",
    "\n",
    "Line plot is the default (see https://pandas.pydata.org/pandas-docs/stable/generated/pandas.DataFrame.plot.html), but we can change that with the [`kind`](https://pandas.pydata.org/pandas-docs/stable/generated/pandas.DataFrame.plot.html) parameter.  \n",
    "\n",
    "Also note that we can omit the `<matplotlib.axes._subplots.AxesSubplot at 0x113d62898>` type output by putting a ; at the end of the plotting line"
   ]
  },
  {
   "cell_type": "code",
   "execution_count": null,
   "metadata": {
    "collapsed": false
   },
   "outputs": [],
   "source": [
    "#pandas\n",
    "df[:50].plot(x='MAG', y='DEP', kind='scatter'); # semicolon suppresses printing object info"
   ]
  },
  {
   "cell_type": "markdown",
   "metadata": {},
   "source": [
    "Note that pandas conveniently gave us a default legend and axis labels."
   ]
  },
  {
   "cell_type": "markdown",
   "metadata": {},
   "source": [
    "We could also use matplotlib directly.  `plt` is the shortcut for `matplotlib.pyplot` that we imported above.  See https://matplotlib.org/api/pyplot_api.html.  `plot` will make a line plot.  We use the `scatter` function for a scatter plot."
   ]
  },
  {
   "cell_type": "code",
   "execution_count": null,
   "metadata": {
    "collapsed": false
   },
   "outputs": [],
   "source": [
    "#matplotlib\n",
    "plt.scatter(df['MAG'][:50], df['DEP'][:50]);"
   ]
  },
  {
   "cell_type": "markdown",
   "metadata": {},
   "source": [
    "We lost the default axis labels that pandas gave us.   \n",
    "\n",
    "Now change the [plot marker](https://matplotlib.org/api/markers_api.html).  We can add the `marker` option to either pandas' `DataFrame.plot` or matplotlib's `scatter`.  "
   ]
  },
  {
   "cell_type": "code",
   "execution_count": null,
   "metadata": {
    "collapsed": false
   },
   "outputs": [],
   "source": [
    "# pandas\n",
    "df[:50].plot(x='MAG', y='DEP', kind=\"scatter\", marker=\"v\");"
   ]
  },
  {
   "cell_type": "markdown",
   "metadata": {},
   "source": [
    "We can also change the marker size"
   ]
  },
  {
   "cell_type": "code",
   "execution_count": null,
   "metadata": {
    "collapsed": false
   },
   "outputs": [],
   "source": [
    "# matplotlib\n",
    "plt.scatter(df['MAG'][:50], df['DEP'][:50], marker=\"v\", s=150); "
   ]
  },
  {
   "cell_type": "markdown",
   "metadata": {},
   "source": [
    "Now make each marker size a function of the magnitude (not a great idea from a visualization perspective...but we'll do a better example next)"
   ]
  },
  {
   "cell_type": "code",
   "execution_count": null,
   "metadata": {
    "collapsed": false
   },
   "outputs": [],
   "source": [
    "# matplotlib\n",
    "plt.scatter(df['MAG'][:50], df['DEP'][:50], marker=\"v\", s=[10+100*df['MAG'][:50]]);"
   ]
  },
  {
   "cell_type": "markdown",
   "metadata": {},
   "source": [
    "## Colorbar legend"
   ]
  },
  {
   "cell_type": "markdown",
   "metadata": {},
   "source": [
    "Make a subset of the data with only earthquakes of magnitude 5 or more"
   ]
  },
  {
   "cell_type": "code",
   "execution_count": null,
   "metadata": {
    "collapsed": true
   },
   "outputs": [],
   "source": [
    "bigones = df[df['MAG'] >= 5]"
   ]
  },
  {
   "cell_type": "markdown",
   "metadata": {},
   "source": [
    "Color markers by year of earthquake, add axis labels"
   ]
  },
  {
   "cell_type": "code",
   "execution_count": null,
   "metadata": {
    "collapsed": false
   },
   "outputs": [],
   "source": [
    "#pandas\n",
    "bigones.plot(x='MAG', y='DEP', # data\n",
    "                   kind='scatter', # type of plot\n",
    "                   s=50, # marker size\n",
    "                   cmap=\"cool\", # color scheme: https://matplotlib.org/users/colormaps.html\n",
    "                   c=1.0*(bigones['YEAR']-1983)/28, # specific color for each point \n",
    "                                                     #(range between 0 and 1), 28 years of data\n",
    "             title=\"Large Earthquakes\");"
   ]
  },
  {
   "cell_type": "markdown",
   "metadata": {},
   "source": [
    "Pandas gave us a default legend again, but the values aren't really meaningful; we want them to correspond to years. Pandas is great for easy defaults, but to control the legend more precisely, we turn to matplotlib directly."
   ]
  },
  {
   "cell_type": "code",
   "execution_count": null,
   "metadata": {
    "collapsed": false
   },
   "outputs": [],
   "source": [
    "#matplotlib\n",
    "\n",
    "# we'll save the output from the plot call so we can use the data later for a legend\n",
    "pts = plt.scatter(bigones['MAG'], bigones['DEP'], # data\n",
    "            s=50, # marker size\n",
    "            cmap=\"cool\", # color scheme: https://matplotlib.org/users/colormaps.html\n",
    "            c=1.0*(bigones['YEAR']-1983)/28) # specific color for each point (range between 0 and 1)\n",
    "plt.ylabel(\"Depth\")\n",
    "plt.xlabel(\"Magnitude\")\n",
    "plt.title(\"Large Earthquakes\")\n",
    "clrbar = plt.colorbar(pts, ticks=[1.0/28, 27.0/28]) # data takes values from 1984=1/28, 2010=27/28 (none in 2011)\n",
    "clrbar.ax.set_yticklabels(['1984', '2010']); # semicolon only needed after final command in cell \n",
    "                                             # to suppress printing the object type"
   ]
  },
  {
   "cell_type": "markdown",
   "metadata": {},
   "source": [
    "## Working with Dates, Aggregating"
   ]
  },
  {
   "cell_type": "markdown",
   "metadata": {},
   "source": [
    "Make a proper date column (instead of the current multiple columns for each part of the date) in the data frame so that we can plot by date.  Setting the new date column as an index lets us group by month easily."
   ]
  },
  {
   "cell_type": "code",
   "execution_count": null,
   "metadata": {
    "collapsed": true
   },
   "outputs": [],
   "source": [
    "df['datetime'] = pd.to_datetime(df[df.columns[range(6)]]) ## first 6 columns are year, month, day, hour, min, sec\n",
    "df = df.set_index(\"datetime\")"
   ]
  },
  {
   "cell_type": "markdown",
   "metadata": {},
   "source": [
    "Plot number of earthquakes by month with a bar chart, limit to recent years (the last 48 observations are the last 4 years (4 years * 12 months)"
   ]
  },
  {
   "cell_type": "code",
   "execution_count": null,
   "metadata": {
    "collapsed": false
   },
   "outputs": [],
   "source": [
    "counts = df.groupby(pd.TimeGrouper(freq='M')).count()['ID'][-48:] # do the aggregation\n",
    "counts.head()"
   ]
  },
  {
   "cell_type": "markdown",
   "metadata": {},
   "source": [
    "When we plot this time, we'll need the axes, so we'll use `plt.subplots()` to have it returned.  `plt.subplots()` is a convenience function that returns both figure and axes, instead of doing:\n",
    "\n",
    "```\n",
    "fig = plt.figure(figsize=(10, 3.5))\n",
    "ax = plt.subplot(1,1,1) # or plt.subplot(111) is equivalent\n",
    "```"
   ]
  },
  {
   "cell_type": "code",
   "execution_count": null,
   "metadata": {
    "collapsed": false
   },
   "outputs": [],
   "source": [
    "# matplotlib\n",
    "fig, ax = plt.subplots(figsize=(10, 3.5)) # specify a plot size, use subplots to get axes because we'll need it later\n",
    "plt.bar(counts.index, counts, width=15) # if we don't set the bar width, some bars might not be visible with this many\n",
    "ax.xaxis_date()\n",
    "plt.title(\"Monthly Earthquake Count for Northern California\")\n",
    "plt.ylabel(\"Number of Earthquakes\");"
   ]
  },
  {
   "cell_type": "markdown",
   "metadata": {},
   "source": [
    "We could also plot the `counts` object directly:"
   ]
  },
  {
   "cell_type": "code",
   "execution_count": null,
   "metadata": {
    "collapsed": false
   },
   "outputs": [],
   "source": [
    "#pandas\n",
    "counts.plot();"
   ]
  },
  {
   "cell_type": "code",
   "execution_count": null,
   "metadata": {
    "collapsed": false
   },
   "outputs": [],
   "source": [
    "#pandas \n",
    "counts.plot(kind=\"bar\");"
   ]
  },
  {
   "cell_type": "markdown",
   "metadata": {},
   "source": [
    "Plot hourly earthquakes on a busy day"
   ]
  },
  {
   "cell_type": "code",
   "execution_count": null,
   "metadata": {
    "collapsed": false
   },
   "outputs": [],
   "source": [
    "#matplotlib\n",
    "df['date'] = pd.to_datetime(df[df.columns[range(3)]])\n",
    "counts_hourly = df[df['date'] == dt.datetime(1989, 10, 18).date()].resample('1H').count()['ID'] \n",
    "# ID above is just to choose a single column\n",
    "plt.subplots(figsize=(8, 3.5))\n",
    "plt.bar(counts_hourly.index, counts_hourly);"
   ]
  },
  {
   "cell_type": "markdown",
   "metadata": {},
   "source": [
    "Hmm, that doesn't look too good.  Fix it.  While we're at it, change the color and bar alignment.  And format the times to be just the hour.\n",
    "\n",
    "This time, will use the figure, then subplot method, instead of using the subplots function."
   ]
  },
  {
   "cell_type": "code",
   "execution_count": null,
   "metadata": {
    "collapsed": false
   },
   "outputs": [],
   "source": [
    "#matplotlib\n",
    "fig = plt.figure() # just a different way to do it\n",
    "ax = fig.add_subplot(111) ## saying that there's only one main plot being added to this figure\n",
    "plt.bar(counts_hourly.index, counts_hourly, width=.03, color='g', align='center')\n",
    "ax.xaxis.set_major_formatter(dates.DateFormatter('%H'))"
   ]
  },
  {
   "cell_type": "markdown",
   "metadata": {},
   "source": [
    "Looking better, but we can make it nicer"
   ]
  },
  {
   "cell_type": "code",
   "execution_count": null,
   "metadata": {
    "collapsed": false
   },
   "outputs": [],
   "source": [
    "#matplotlib\n",
    "fig, ax = plt.subplots() ## in one line instead of two above, just to show this\n",
    "plt.bar(counts_hourly.index, counts_hourly, width=.03, color='g', align='center')\n",
    "ax.xaxis.set_major_formatter(dates.DateFormatter('%H:00'))\n",
    "#plt.ylim(0, 95) ## could modify ylim manually, but below works even if data changes\n",
    "ax.margins(0.025) ## control extra space at beginning and end of x-axis\n",
    "plt.title(\"Northern California Earthquakes, 18 October 1989\")\n",
    "plt.xlabel(\"Hour of the Day\")\n",
    "plt.ylabel(\"Number of Earthquakes\");"
   ]
  },
  {
   "cell_type": "markdown",
   "metadata": {},
   "source": [
    "Save our plot"
   ]
  },
  {
   "cell_type": "code",
   "execution_count": null,
   "metadata": {
    "collapsed": false
   },
   "outputs": [],
   "source": [
    "plt.savefig(\"plot1.pdf\")"
   ]
  },
  {
   "cell_type": "markdown",
   "metadata": {},
   "source": [
    "## Layered Plots"
   ]
  },
  {
   "cell_type": "markdown",
   "metadata": {},
   "source": [
    "More on markers and legends; generate some random values with `randn` and make a histogram.  Add the theoretical distirbution line above it\n",
    "\n",
    "Info on named colors at https://matplotlib.org/examples/color/named_colors.html"
   ]
  },
  {
   "cell_type": "code",
   "execution_count": null,
   "metadata": {
    "collapsed": false
   },
   "outputs": [],
   "source": [
    "from scipy.stats import norm\n",
    "from numpy.random import randn\n",
    "\n",
    "# keep the values returned from calling the histogram plot to use with the legend and next plot\n",
    "n, bins, patches = plt.hist(randn(1000), 40, normed=True, color=\"lightblue\")\n",
    "\n",
    "# add another plot on top of the histogram\n",
    "# save the value here too so we can use it for the legend\n",
    "l, = plt.plot(bins, norm.pdf(bins, 0.0, 1.0), 'g--', linewidth=3)\n",
    "## comma above in l, means unpack the returned tuple to give you just the line object\n",
    "\n",
    "plt.legend([l, patches[0]], ['theory', 'data']);"
   ]
  },
  {
   "cell_type": "markdown",
   "metadata": {},
   "source": [
    "## Annotating Plots"
   ]
  },
  {
   "cell_type": "code",
   "execution_count": null,
   "metadata": {
    "collapsed": false
   },
   "outputs": [],
   "source": [
    "counts = df['date'].value_counts()\n",
    "counts.plot() ## plot the Series directly\n",
    "plt.title(\"Daily Earthquake Count for Northern California\")\n",
    "plt.ylabel(\"Number of Earthquakes\")\n",
    "plt.text(dt.datetime(1998,3,1), 925, \"Big One!\"); # use date to position on x-axis"
   ]
  },
  {
   "cell_type": "markdown",
   "metadata": {},
   "source": [
    "Or with an arrow"
   ]
  },
  {
   "cell_type": "code",
   "execution_count": null,
   "metadata": {
    "collapsed": false
   },
   "outputs": [],
   "source": [
    "counts = df['date'].value_counts()\n",
    "counts.plot() ## plot the Series directly\n",
    "plt.title(\"Daily Earthquake Count for Northern California\")\n",
    "plt.ylabel(\"Number of Earthquakes\")\n",
    "plt.annotate(\"Big One!\", xy=(dt.datetime(1998,3,1), 925),\n",
    "             xytext=(dt.datetime(2000,3,1), 800),\n",
    "             arrowprops=dict(facecolor='black', shrink=0.05, width=1,\n",
    "                             headwidth=8));"
   ]
  },
  {
   "cell_type": "markdown",
   "metadata": {},
   "source": [
    "## Mathematical Functions\n",
    "\n",
    "Let's make a plot like the following:\n",
    "\n",
    "![mathplot](https://github.com/nuitrcs/pythonworkshops/raw/master/dataanalysis/visualization/mathfunction.png)\n",
    "\n",
    "For math text used in the labels, see https://matplotlib.org/users/mathtext.html"
   ]
  },
  {
   "cell_type": "code",
   "execution_count": null,
   "metadata": {
    "collapsed": true
   },
   "outputs": [],
   "source": [
    "import numpy as np"
   ]
  },
  {
   "cell_type": "code",
   "execution_count": null,
   "metadata": {
    "collapsed": false
   },
   "outputs": [],
   "source": [
    "# create empty plot\n",
    "fig = plt.figure(figsize=(4, 5))\n",
    "ax = fig.add_subplot(111)\n",
    "\n",
    "# generate data\n",
    "x = np.arange(-2*np.pi, 2*np.pi, 0.01)\n",
    "y = np.sin(x)\n",
    "\n",
    "# deal with bounding box \n",
    "# lose top and right\n",
    "# move bottom and left to the center like a mathematical graph\n",
    "ax.spines['top'].set_color('none')\n",
    "ax.spines['right'].set_color('none')\n",
    "ax.spines['left'].set_position('center')\n",
    "ax.spines['bottom'].set_position('center')\n",
    "\n",
    "ax.xaxis.set_ticks_position('bottom')\n",
    "ax.yaxis.set_ticks_position('left')\n",
    "\n",
    "# plot the sin wave\n",
    "ax.plot(x, y,linewidth=3, alpha=0.3)\n",
    "\n",
    "# plot the reference lines\n",
    "ax.plot([0, np.pi/2], [1, 1], ls=\"--\", color=\"green\", linewidth=3,alpha=0.5)\n",
    "ax.plot([np.pi/2, np.pi/2], [1, 0], ls=\"--\", color=\"red\", linewidth=3,alpha=0.5)\n",
    "\n",
    "# axis limits\n",
    "ax.set_xlim(-2*np.pi, 2*np.pi)\n",
    "ax.set_ylim(-1.5, 1.5)\n",
    "\n",
    "# axis labels\n",
    "xticker = np.arange(-np.pi-np.pi/2, np.pi+np.pi, np.pi/2)\n",
    "xlabels = [r\"$\\frac{-3\\pi}{2}$\", r\"${-\\pi}$\",r\"$\\frac{-\\pi}{2}$\",\"\",r\"$\\frac{pi}{2}$\",r\"${\\pi}$\",r\"$\\frac{3\\pi}{2}$\"]\n",
    "\n",
    "ax.set_xticks(xticker)\n",
    "ax.set_xticklabels(xlabels, size=17)\n",
    "\n",
    "yticker = np.arange(-1, 2, 1)\n",
    "ax.set_yticks(yticker)\n",
    "\n",
    "# annotation of function line\n",
    "ax.text(np.pi, 1.1, \"y=sin(x)\");"
   ]
  },
  {
   "cell_type": "markdown",
   "metadata": {},
   "source": [
    "## Subplots"
   ]
  },
  {
   "cell_type": "markdown",
   "metadata": {},
   "source": [
    "We used the subplot function above, but not to create multiple plots.  Let's actually make more than one.  \n",
    "\n",
    "The marker/line type specification shortcuts used below can be seen at https://matplotlib.org/api/pyplot_api.html#matplotlib.pyplot.plot"
   ]
  },
  {
   "cell_type": "code",
   "execution_count": null,
   "metadata": {
    "collapsed": false
   },
   "outputs": [],
   "source": [
    "# function and arrays to generate some data\n",
    "def f(t):\n",
    "    return np.exp(-t) * np.cos(2*np.pi*t)\n",
    "\n",
    "t1 = np.arange(0.0, 5.0, 0.1)\n",
    "t2 = np.arange(0.0, 5.0, 0.02)\n",
    "\n",
    "# create a figure\n",
    "plt.figure(1)\n",
    "plt.subplot(211) # 211 = 2 rows, 1 column, first plot\n",
    "plt.plot(t1, f(t1), 'bo', t2, f(t2), 'k') # bo = blue, o marker\n",
    "\n",
    "plt.subplot(212) # 212 = 2 rows, 1 column, second plot\n",
    "plt.plot(t2, np.cos(2*np.pi*t2), 'r--'); # r-- = red, dashed line"
   ]
  },
  {
   "cell_type": "markdown",
   "metadata": {},
   "source": [
    "## Styling\n",
    "\n",
    "You can change the default style of matplotlib plots.  A list of available styles:"
   ]
  },
  {
   "cell_type": "code",
   "execution_count": null,
   "metadata": {
    "collapsed": false
   },
   "outputs": [],
   "source": [
    "print(matplotlib.style.available)"
   ]
  },
  {
   "cell_type": "markdown",
   "metadata": {},
   "source": [
    "And you can see a gallery of what plots look like in the styles at https://tonysyu.github.io/raw_content/matplotlib-style-gallery/gallery.html"
   ]
  },
  {
   "cell_type": "markdown",
   "metadata": {},
   "source": [
    "To just affect a single plot, with `with`"
   ]
  },
  {
   "cell_type": "code",
   "execution_count": null,
   "metadata": {
    "collapsed": false
   },
   "outputs": [],
   "source": [
    "with plt.style.context(('dark_background')):\n",
    "    pts = plt.scatter(bigones['MAG'], bigones['DEP'], # data\n",
    "            s=50, # marker size\n",
    "            cmap=\"cool\", # color scheme: https://matplotlib.org/users/colormaps.html\n",
    "            c=1.0*(bigones['YEAR']-1983)/28) # specific color for each point (range between 0 and 1)\n",
    "    plt.ylabel(\"Depth\")\n",
    "    plt.xlabel(\"Magnitude\")\n",
    "    plt.title(\"Large Earthquakes\")\n",
    "    clrbar = plt.colorbar(pts, ticks=[1.0/28, 27.0/28]) # data takes values from 1983=1/28, 2010=27/28 (none in 2011)\n",
    "    clrbar.ax.set_yticklabels(['1984', '2010'])"
   ]
  },
  {
   "cell_type": "code",
   "execution_count": null,
   "metadata": {
    "collapsed": false
   },
   "outputs": [],
   "source": [
    "with plt.style.context(('fivethirtyeight')):\n",
    "    pts = plt.scatter(bigones['MAG'], bigones['DEP'], # data\n",
    "            s=50, # marker size\n",
    "            cmap=\"cool\", # color scheme: https://matplotlib.org/users/colormaps.html\n",
    "            c=1.0*(bigones['YEAR']-1983)/28) # specific color for each point (range between 0 and 1)\n",
    "    plt.ylabel(\"Depth\")\n",
    "    plt.xlabel(\"Magnitude\")\n",
    "    plt.title(\"Large Earthquakes\")\n",
    "    clrbar = plt.colorbar(pts, ticks=[1.0/28, 27.0/28]) # data takes values from 1983=1/28, 2010=27/28 (none in 2011)\n",
    "    clrbar.ax.set_yticklabels(['1984', '2010'])"
   ]
  },
  {
   "cell_type": "markdown",
   "metadata": {},
   "source": [
    "You can also write your own styles: https://matplotlib.org/users/style_sheets.html"
   ]
  },
  {
   "cell_type": "markdown",
   "metadata": {},
   "source": [
    "## Interactive Plots\n",
    "\n",
    "Above we turned off the interactive plots in the notebook.  Let's turn them back on to see what they do."
   ]
  },
  {
   "cell_type": "code",
   "execution_count": null,
   "metadata": {
    "collapsed": false
   },
   "outputs": [],
   "source": [
    "%matplotlib notebook\n",
    "plt.figure()\n",
    "pts = plt.scatter(bigones['MAG'], bigones['DEP'], # data\n",
    "        s=50, # marker size\n",
    "        cmap=\"cool\", # color scheme: https://matplotlib.org/users/colormaps.html\n",
    "        c=1.0*(bigones['YEAR']-1983)/28) # specific color for each point (range between 0 and 1)\n",
    "plt.ylabel(\"Depth\")\n",
    "plt.xlabel(\"Magnitude\")\n",
    "plt.title(\"Large Earthquakes\")\n",
    "clrbar = plt.colorbar(pts, ticks=[1.0/28, 27.0/28]) # data takes values from 1983=1/28, 2010=27/28 (none in 2011)\n",
    "clrbar.ax.set_yticklabels(['1984', '2010']);"
   ]
  },
  {
   "cell_type": "markdown",
   "metadata": {},
   "source": [
    "And now turn it back off:"
   ]
  },
  {
   "cell_type": "code",
   "execution_count": null,
   "metadata": {
    "collapsed": true
   },
   "outputs": [],
   "source": [
    "%matplotlib inline"
   ]
  },
  {
   "cell_type": "markdown",
   "metadata": {},
   "source": [
    "# [Seaborn](https://seaborn.pydata.org)\n",
    "----"
   ]
  },
  {
   "cell_type": "markdown",
   "metadata": {},
   "source": [
    "[Seaborn](https://seaborn.pydata.org) is one option moving beyond the basic plots.  It's focus is statistical visualization.\n",
    "\n",
    "Seaborn is not part of the Anaconda distribution, so you'll need to install it.  Copy the command below into a new cell and run it (only the first time you need to use it):\n",
    "\n",
    "```\n",
    "!pip3 install seaborn\n",
    "```\n",
    "\n",
    "Note that if you're running multiple versions of Python on your system, you might need to install the package from the command line instead into the correct environment.  Via the terminal, if you're using Anaconda, use `conda install seaborn`."
   ]
  },
  {
   "cell_type": "code",
   "execution_count": null,
   "metadata": {
    "collapsed": false
   },
   "outputs": [],
   "source": [
    "import seaborn as sns"
   ]
  },
  {
   "cell_type": "markdown",
   "metadata": {},
   "source": [
    "Re-do a plot from above to see styling change\n",
    "\n",
    "From before:\n",
    "![matplotlibversion](https://github.com/nuitrcs/pythonworkshops/raw/master/dataanalysis/visualization/mplcompplot.png)"
   ]
  },
  {
   "cell_type": "code",
   "execution_count": null,
   "metadata": {
    "collapsed": false
   },
   "outputs": [],
   "source": [
    "sns.set() # turn on Seaborn default style\n",
    "\n",
    "fig, ax = plt.subplots() ## in one line instead of two above, just to show this\n",
    "plt.bar(counts_hourly.index, counts_hourly, width=.03, color='g', align='center')\n",
    "ax.xaxis.set_major_formatter(dates.DateFormatter('%H:00'))\n",
    "#plt.ylim(0, 95) ## could modify ylim manually, but below works even if data changes\n",
    "ax.margins(0.025) ## control extra space at beginning and end of x-axis\n",
    "plt.title(\"Northern California Earthquakes, 18 October 1989\")\n",
    "plt.xlabel(\"Hour of the Day\")\n",
    "plt.ylabel(\"Number of Earthquakes\");"
   ]
  },
  {
   "cell_type": "markdown",
   "metadata": {},
   "source": [
    "Above, the background and grid are different, the font is different, and tick marks and scaling are different from matplotlib defaults.\n",
    "\n",
    "Other styles/themes are available: https://seaborn.pydata.org/tutorial/aesthetics.html#seaborn-figure-styles\n",
    "\n",
    "Seaborn also does have nice color palettes built in: http://seaborn.pydata.org/tutorial/color_palettes.html"
   ]
  },
  {
   "cell_type": "markdown",
   "metadata": {},
   "source": [
    "Note that if you just want styling, some Seaborn styles are now available directly through matplotlib styles like we used above.\n",
    "\n",
    "But Seaborn is more than styles.  Seaborn also adds some plot types that build on some summary statistics it can compute on data."
   ]
  },
  {
   "cell_type": "markdown",
   "metadata": {},
   "source": [
    "## Density/Bivariate Distribution Plots"
   ]
  },
  {
   "cell_type": "markdown",
   "metadata": {},
   "source": [
    "When we have a lot of data, scatter plots can get difficult to read.  Let's do a density plot instead to explore a bivariate distribution.  Seaborn has several options, both for the density plot and supplementary plots along the axes.  http://seaborn.pydata.org/tutorial/distributions.html#plotting-bivariate-distributions"
   ]
  },
  {
   "cell_type": "code",
   "execution_count": null,
   "metadata": {
    "collapsed": false
   },
   "outputs": [],
   "source": [
    "with sns.axes_style(\"white\"): #using a different style than the default\n",
    "    sns.jointplot(x=df['MAG'][:1000], y=df['DEP'][:1000], kind=\"hex\", color=\"k\"); # color k is black"
   ]
  },
  {
   "cell_type": "markdown",
   "metadata": {},
   "source": [
    "`jointplot` takes care of the overall plot.  If you want more control over the core and axes plots, you can add a density plot and axes plots to an existing matplotlib figure."
   ]
  },
  {
   "cell_type": "code",
   "execution_count": null,
   "metadata": {
    "collapsed": false
   },
   "outputs": [],
   "source": [
    "fig, ax = plt.subplots(figsize=(6, 6))\n",
    "sns.kdeplot(df['MAG'][:1000], df['DEP'][:1000], ax=ax)\n",
    "sns.rugplot(df['MAG'][:1000], color=\"g\", ax=ax)\n",
    "sns.rugplot(df['DEP'][:1000], vertical=True, ax=ax);"
   ]
  },
  {
   "cell_type": "markdown",
   "metadata": {},
   "source": [
    "## Regression and Trend Lines"
   ]
  },
  {
   "cell_type": "markdown",
   "metadata": {},
   "source": [
    "Seaborn has many functions for visualizing linear relationships and even interaction effect between (or conditional effects of) variables: http://seaborn.pydata.org/tutorial/regression.html\n",
    "\n",
    "First, a standard regression plot"
   ]
  },
  {
   "cell_type": "code",
   "execution_count": null,
   "metadata": {
    "collapsed": false
   },
   "outputs": [],
   "source": [
    "sns.regplot(x=\"MAG\", y=\"DEP\", data=df[:1000]);"
   ]
  },
  {
   "cell_type": "markdown",
   "metadata": {},
   "source": [
    "This includes a 95% confidence interval on the slope coefficient in the plot by default (you can turn it off with the `ci` parameter).  We can also plot the residuals (errors) from a regression to check fit and adherence to model assumptions:  "
   ]
  },
  {
   "cell_type": "code",
   "execution_count": null,
   "metadata": {
    "collapsed": false
   },
   "outputs": [],
   "source": [
    "sns.residplot(\"MAG\",\"DEP\", df[:1000]);"
   ]
  },
  {
   "cell_type": "markdown",
   "metadata": {},
   "source": [
    "There are further options for variations like polynomial fits, logistic regression, loess smoothing, and robust regression (eliminates/down-weights outliers).\n",
    "\n",
    "In addition to `regplot`, there's also the slightly more powerful `lmplot` that let's us condition the slope and intercept on a third variable."
   ]
  },
  {
   "cell_type": "code",
   "execution_count": null,
   "metadata": {
    "collapsed": false
   },
   "outputs": [],
   "source": [
    "df['north'] = df['LAT'] > 38 # create a new variable to divide earthquakes by latitude\n",
    "sns.lmplot(x=\"MAG\", y=\"DEP\", hue=\"north\", data=df.sample(500));"
   ]
  }
 ],
 "metadata": {
  "kernelspec": {
   "display_name": "Python 3 (conda p3)",
   "language": "python",
   "name": "p3"
  },
  "language_info": {
   "codemirror_mode": {
    "name": "ipython",
    "version": 3
   },
   "file_extension": ".py",
   "mimetype": "text/x-python",
   "name": "python",
   "nbconvert_exporter": "python",
   "pygments_lexer": "ipython3",
   "version": "3.6.1"
  }
 },
 "nbformat": 4,
 "nbformat_minor": 2
}
